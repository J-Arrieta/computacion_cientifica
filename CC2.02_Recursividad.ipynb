{
 "cells": [
  {
   "cell_type": "markdown",
   "metadata": {
    "slideshow": {
     "slide_type": "slide"
    }
   },
   "source": [
    "<img align=\"left\" src=\"img/logo-ucm.png\" width=\"25%\">\n",
    "<br/><br/><br/><br/><br/>\n",
    "\n",
    "\n",
    "# [Doctorado en Ingeniería (DocIng)](http://www.docing.ucm.cl/index.html)\n",
    "\n",
    "# [Doctorado en Modelamiento Matemático Aplicado (DM<sub>2</sub>A)](http://vrip.ucm.cl/doctorado-en-modelamiento-matematico-aplicado/)\n",
    "\n",
    "\n",
    "## Computación Científica II: Recursividad\n",
    "\n",
    "&nbsp;\n",
    "### Profesor: Dr. Ruber Hernández García\n",
    "\n",
    "<div style=\"overflow: hidden; display: inline-block;\">\n",
    "    <div style=\"display: inline-block; max-width: 20%; max-height: 20%;\">\n",
    "        <a href=\"mailto:rhernandez@ucm.cl\">\n",
    "            <img src=\"img/email.webp\" alt=\"email\" height=\"24px\" width=\"24px\">\n",
    "        </a>\n",
    "    </div>\n",
    "    <div style=\"display: inline-block; max-width: 20%; max-height: 20%;\">\n",
    "        <a href=\"www.ruberhg.com\">\n",
    "            <img src=\"img/website-icon.jpeg\" alt=\"website\" height=\"24px\" width=\"24px\">\n",
    "        </a>\n",
    "    </div>\n",
    "    <div style=\"display: inline-block; max-width: 20%; max-height: 20%;\">\n",
    "        <a href=\"https://orcid.org/0000-0002-9311-1193\">\n",
    "            <img src=\"img/orcid.png\" alt=\"orcid\" height=\"24px\" width=\"24px\">\n",
    "        </a> \n",
    "    </div>\n",
    "    <div style=\"display: inline-block; max-width: 20%; max-height: 20%;\">\n",
    "        <a href=\"https://github.com/ruberhg\" rel=\"nofollow noreferrer\">\n",
    "            <img src=\"img/github.png\" alt=\"github\" height=\"24px\" width=\"24px\">\n",
    "        </a>\n",
    "    </div>\n",
    "</div>\n"
   ]
  },
  {
   "cell_type": "markdown",
   "metadata": {
    "slideshow": {
     "slide_type": "slide"
    }
   },
   "source": [
    "----\n",
    "\n",
    "## Introducción\n",
    "\n",
    "La **recursividad** es una técnica de programación que nos permite que un bloque de instrucciones se ejecute _n_ veces. Remplaza en ocasiones a estructuras repetitivas.\n",
    "\n",
    "La recursividad es un concepto difícil de entender en principio, pero luego de analizar diferentes problemas aparecen puntos comunes.\n",
    "\n",
    "En Python las funciones o métodos pueden llamarse a sí mismos. Si dentro de una función o método existe la llamada a sí mismo decimos que es una **función recursiva**.\n",
    "\n",
    "Cuando una función o método se llama a sí mismo, se asigna espacio en la pila para las nuevas variables locales y parámetros.\n",
    "\n",
    "Al volver de una llamada recursiva, se recuperan de la pila las variables locales y los parámetros antiguos y la ejecución se reanuda en el punto de la llamada al método.\n"
   ]
  },
  {
   "cell_type": "markdown",
   "metadata": {
    "slideshow": {
     "slide_type": "subslide"
    }
   },
   "source": [
    "\n",
    "## Usos de la Recursividad\n",
    "\n",
    "Estas funciones se estilan utilizar para dividir una tarea en sub-tareas más simples de forma que sea más fácil abordar el problema y solucionarlo.\n",
    "\n",
    "Las llamadas recursivas suelen ser muy útiles en casos muy puntuales, pero debido a su gran factibilidad de caer en iteraciones infinitas, deben extremarse las medidas preventivas adecuadas y, solo utilizarse cuando sea estrictamente necesario y no exista una forma alternativa viable, que resuelva el problema evitando la recursividad."
   ]
  },
  {
   "cell_type": "markdown",
   "metadata": {
    "slideshow": {
     "slide_type": "slide"
    }
   },
   "source": [
    "----\n",
    "\n",
    "## Implementación de una función recursiva\n",
    "\n",
    "La función repetir es recursiva porque dentro de la función se llama a sí misma.\n",
    "\n",
    "    def repetir():\n",
    "        ...\n",
    "        repetir() # llamada recursiva\n",
    "\n",
    "    repetir()\n",
    "    "
   ]
  },
  {
   "cell_type": "markdown",
   "metadata": {
    "slideshow": {
     "slide_type": "fragment"
    }
   },
   "source": [
    "\n",
    "<div class=\"alert alert-danger\"><strong>Importante</strong>:\n",
    "    Cuando ejecuta este programa se bloqueará y generará una excepción: <code>RecursionError: maximum recursion depth exceeded</code>. Esto se debe a que no tiene una condición de parada o retorno.\n",
    "</div>"
   ]
  },
  {
   "cell_type": "markdown",
   "metadata": {
    "slideshow": {
     "slide_type": "fragment"
    }
   },
   "source": [
    "**Analicemos como funciona:**\n",
    "* Se llama la función `repetir`.\n",
    "* Hay que tener en cuenta que cada vez que se llama a una función se reservan un conjunto de bytes de la memoria que se liberarán cuando finalice su ejecución.\n",
    "* La primera línea de la función llama a la función `repetir`, es decir que se reservan más bytes nuevamente. Se ejecuta nuevamente una instancia de la función y así sucesivamente hasta que la pila estática se llene y se cuelgue el programa."
   ]
  },
  {
   "cell_type": "markdown",
   "metadata": {
    "slideshow": {
     "slide_type": "slide"
    }
   },
   "source": [
    "----\n",
    "\n",
    "## Ejemplo 1: Función recursiva sin retorno\n",
    "\n",
    "Implementación de una función recursiva que reciba un parámetro de tipo entero, imprima el número y luego llame en forma recursiva con el valor del parámetro menos 1.\n",
    "\n",
    "    def cuenta_regresiva(numero):\n",
    "        print(numero)\n",
    "        cuenta_regresiva(numero-1) # llamada recursiva \n",
    "\n",
    "    cuenta_regresiva(5)\n",
    "        \n",
    "Desde el bloque principal del programa se llama a la función `imprimir` para `numero=5`. Se ejecuta el algoritmo de la función, imprime el contenido del parámetro (5) y seguidamente se llama nuevamente a la función de forma recursiva, enviándole el valor `numero-1` (4). Así parámetro recibe el valor 4 y se imprime en pantalla el cuatro, llamando nuevamente a la función imprimir enviándole el valor 3.\n",
    "\n",
    "**_¿Qué podemos observar si ejecutamos este algoritmo?_**"
   ]
  },
  {
   "cell_type": "code",
   "execution_count": null,
   "metadata": {
    "slideshow": {
     "slide_type": "subslide"
    }
   },
   "outputs": [],
   "source": [
    "    def cuenta_regresiva(numero):\n",
    "        if numero >= 0:\n",
    "            print(numero)\n",
    "            cuenta_regresiva(numero-1) # llamada recursiva \n",
    "        else:\n",
    "            print('Fin de la cuenta regresiva')\n",
    "        \n",
    "        print('Fin de la función cuenta_regresiva({:d})'.format(numero))\n",
    "        \n",
    "    cuenta_regresiva(5)"
   ]
  },
  {
   "cell_type": "markdown",
   "metadata": {
    "slideshow": {
     "slide_type": "fragment"
    }
   },
   "source": [
    "**_¿Cómo haríamos si quisieramos hacer una cuenta progresiva?_**\n",
    "\n",
    "<u>Ejemplo</u>: 1 2 3 4 5 ... n"
   ]
  },
  {
   "cell_type": "markdown",
   "metadata": {
    "slideshow": {
     "slide_type": "slide"
    }
   },
   "source": [
    "----\n",
    "\n",
    "## Ejemplo 2: Función recursiva con retorno\n",
    "\n",
    "Un ejemplo de una función recursiva con retorno, es el ejemplo del calculo del factorial de un número. Recordar que el factorial de un número es el resultado que se obtiene de multiplicar dicho número por el anterior y así sucesivamente hasta llegar a uno.\n",
    "\n",
    "<u>Ejemplo</u>: 5! = 4 * 3 * 2 * 1 = 120.\n"
   ]
  },
  {
   "cell_type": "code",
   "execution_count": null,
   "metadata": {
    "slideshow": {
     "slide_type": "subslide"
    }
   },
   "outputs": [],
   "source": [
    "    def factorial_normal(numero):\n",
    "        resultado = 1\n",
    "        i = 2\n",
    "        while i <= numero:\n",
    "            resultado *= i\n",
    "            i += 1\n",
    "        \n",
    "        return resultado\n",
    "\n",
    "    print(f\"El factorial de 5 es igual a {factorial_normal(5)}.\")"
   ]
  },
  {
   "cell_type": "code",
   "execution_count": null,
   "metadata": {
    "slideshow": {
     "slide_type": "subslide"
    }
   },
   "outputs": [],
   "source": [
    "    def factorial(numero):\n",
    "        if numero > 0:\n",
    "            resultado = numero*factorial(numero-1) # llamada recursiva \n",
    "            return resultado\n",
    "        else:\n",
    "            return 1\n",
    "\n",
    "    print(f\"El factorial de 5 es igual a {factorial(5)}.\")"
   ]
  },
  {
   "cell_type": "markdown",
   "metadata": {
    "slideshow": {
     "slide_type": "fragment"
    }
   },
   "source": [
    "**_Hagamos hacer el seguimiento de la ejecución de la función para analizar como se calcula._**"
   ]
  },
  {
   "cell_type": "markdown",
   "metadata": {
    "slideshow": {
     "slide_type": "slide"
    }
   },
   "source": [
    "----\n",
    "\n",
    "## Ejemplo 3: Juego recursivo interactivo\n",
    "\n"
   ]
  },
  {
   "cell_type": "code",
   "execution_count": null,
   "metadata": {
    "slideshow": {
     "slide_type": "fragment"
    }
   },
   "outputs": [],
   "source": [
    "    def jugar(intento=1): \n",
    "        respuesta = input(\"¿De qué color es el caballo blanco de O'Higgins? \") \n",
    "        if respuesta != \"blanco\": \n",
    "            if intento < 3: \n",
    "                print(\"\\nFallaste! Inténtalo de nuevo\")\n",
    "                intento += 1 \n",
    "                jugar(intento) # llamada recursiva \n",
    "            else: \n",
    "                print(\"\\nPerdiste!\")\n",
    "        else:\n",
    "            print(\"\\nGanaste!\")\n",
    "\n",
    "    jugar()"
   ]
  },
  {
   "cell_type": "markdown",
   "metadata": {
    "slideshow": {
     "slide_type": "slide"
    }
   },
   "source": [
    "----\n",
    "\n",
    "## Ejemplo 4: Serie de Fibonacci\n",
    "\n",
    "Otro ejemplo muy usado para ilustrar las posibilidades de la recursividad, es calcular la Serie de Fibonacci. Dicha serie calcula el elemento n sumando los dos anteriores n-1 + n-2. Se asume que los dos primeros elementos son 0 y 1.\n",
    "\n"
   ]
  },
  {
   "cell_type": "code",
   "execution_count": null,
   "metadata": {
    "slideshow": {
     "slide_type": "fragment"
    }
   },
   "outputs": [],
   "source": [
    "    def fibonacci_recursivo(numero):\n",
    "        if numero == 0:\n",
    "            return 0\n",
    "        elif numero == 1:\n",
    "            return 1\n",
    "        else:\n",
    "            return fibonacci_recursivo(numero-1) + fibonacci_recursivo(numero-2)\n",
    "        \n",
    "    fibonacci_recursivo(7)"
   ]
  },
  {
   "cell_type": "markdown",
   "metadata": {
    "slideshow": {
     "slide_type": "slide"
    }
   },
   "source": [
    "----\n",
    "\n",
    "## Ejemplo 5: Verificación de números primos\n"
   ]
  },
  {
   "cell_type": "code",
   "execution_count": null,
   "metadata": {},
   "outputs": [],
   "source": [
    "    def es_primo(numero):\n",
    "        for n in range(2, numero//2):\n",
    "            if numero % n == 0:\n",
    "                print(\"No es primo,\", n, \"es divisor\")\n",
    "                return False\n",
    "            \n",
    "        print(\"Es primo\")\n",
    "        return True\n",
    "    \n",
    "    es_primo(5)"
   ]
  },
  {
   "cell_type": "code",
   "execution_count": null,
   "metadata": {},
   "outputs": [],
   "source": [
    "    def es_primo_recursivo(numero, n=2):\n",
    "        if n >= numero//2:\n",
    "            print(\"Es primo\")\n",
    "            return True\n",
    "        elif numero % n != 0:\n",
    "            return es_primo_recursivo(numero, n + 1)\n",
    "        else:\n",
    "            print(\"No es primo,\", n, \"es divisor\")\n",
    "            return False\n",
    "        \n",
    "    es_primo_recursivo(1009)"
   ]
  },
  {
   "cell_type": "markdown",
   "metadata": {
    "slideshow": {
     "slide_type": "subslide"
    }
   },
   "source": [
    "----\n",
    "\n",
    "## Ejemplo 6: Ordenamiento de una lista\n"
   ]
  },
  {
   "cell_type": "code",
   "execution_count": null,
   "metadata": {
    "slideshow": {
     "slide_type": "fragment"
    }
   },
   "outputs": [],
   "source": [
    "    def ordenar(lista, cant):\n",
    "        if cant>1:\n",
    "            for f in range(0, cant-1):\n",
    "                if lista[f]>lista[f + 1]:\n",
    "                    aux=lista[f]\n",
    "                    lista[f]=lista[f + 1]\n",
    "                    lista[f + 1] = aux\n",
    "                ordenar(lista, cant - 1)\n",
    "\n",
    "    datos=[60,44,22,33,2]\n",
    "    print(datos)\n",
    "    \n",
    "    ordenar(datos, len(datos))\n",
    "    print(datos)"
   ]
  },
  {
   "cell_type": "markdown",
   "metadata": {
    "slideshow": {
     "slide_type": "slide"
    }
   },
   "source": [
    "----\n",
    "\n",
    "## Conclusiones\n",
    "\n",
    "* Es muy importante tener en cuenta que siempre que podamos emplear un algoritmo no recursivo será mejor (ocupa menos memoria de ram y se ejecuta más rápidamente).\n",
    "\n",
    "* Pero hay casos donde el empleo de recursividad hace mucho más sencillo el algoritmo (tener en cuenta que no es el caso de los problemas vistos previamente)."
   ]
  },
  {
   "cell_type": "markdown",
   "metadata": {
    "slideshow": {
     "slide_type": "slide"
    }
   },
   "source": [
    "----\n",
    "\n",
    "## Extra 1: Medición de tiempo de ejecución\n",
    "\n",
    "Medir el tiempo de ejecución de un programa es una tarea muy importante, ya que programar no sólo consiste en crear código que funcione, sino código que pueda ser ejecutado en un tiempo razonable. \n",
    "\n",
    "Imagina que tienes un determinado algoritmo que tarda en ejecutarse 1 segundo. A priori no parece demasiado, pero ¿y si tuviéramos a 1000 usuarios ejecutando ese algoritmo periódicamente? En este caso, podría ser interesante optimizarlo, ya que una simple reducción de 0.1 segundos, podría aliviar la carga de nuestro sistema notablemente.\n",
    "\n",
    "Por lo contrario, si tenemos un determinado algoritmo o proceso que tarda 1 segundo, pero es usado muy de vez en cuanto, tal vez no sea interesante invertir recursos en optimizarlo.\n",
    "\n",
    "Afortunadamente, Python nos proporciona diferentes formas de medir el tiempo de ejecución de un programa."
   ]
  },
  {
   "cell_type": "markdown",
   "metadata": {
    "slideshow": {
     "slide_type": "slide"
    }
   },
   "source": [
    "----\n",
    "\n",
    "## Tiempo de ejecución con `time` (1/3)\n",
    "\n",
    "La librería `time` es bastante completa, pero lo único que nos interesa para medir el tiempo de ejecución es el método `time()`.\n",
    "\n",
    "Este método nos devuelve el número de segundos, con precisión de microsegundos, que han pasado desde el 1 de Enero de 1970.\n"
   ]
  },
  {
   "cell_type": "code",
   "execution_count": null,
   "metadata": {
    "slideshow": {
     "slide_type": "fragment"
    }
   },
   "outputs": [],
   "source": [
    "    import time\n",
    "    print(time.time()) # 1609954317.943479"
   ]
  },
  {
   "cell_type": "markdown",
   "metadata": {
    "slideshow": {
     "slide_type": "subslide"
    }
   },
   "source": [
    "\n",
    "## Tiempo de ejecución con `time` (2/3)\n",
    "\n",
    "Para medir el tiempo de ejecución de nuestros programas, basta con saber el tiempo que ha pasado antes y después de ejecutar nuestro programa, y la diferencia será el tiempo que ha tardado nuestro código."
   ]
  },
  {
   "cell_type": "code",
   "execution_count": null,
   "metadata": {
    "slideshow": {
     "slide_type": "fragment"
    }
   },
   "outputs": [],
   "source": [
    "    import time\n",
    "    inicio = time.time()\n",
    "\n",
    "    # Código a medir\n",
    "    time.sleep(1)\n",
    "    # -------------\n",
    "\n",
    "    fin = time.time()\n",
    "    print(fin-inicio)"
   ]
  },
  {
   "cell_type": "code",
   "execution_count": null,
   "metadata": {
    "slideshow": {
     "slide_type": "fragment"
    }
   },
   "outputs": [],
   "source": [
    "    import time\n",
    "    inicio = time.time()\n",
    "\n",
    "    # Código a medir\n",
    "    lista = [i for i in range(10000000) if i%2==0]\n",
    "    # -------------\n",
    "\n",
    "    fin = time.time()\n",
    "    print(fin-inicio)"
   ]
  },
  {
   "cell_type": "markdown",
   "metadata": {
    "slideshow": {
     "slide_type": "subslide"
    }
   },
   "source": [
    "\n",
    "## Tiempo de ejecución con `time` (3/3)\n",
    "\n",
    "Por otro lado, también podemos crear un **decorador** que use `time`, lo que nos permitirá medir el tiempo de ejecución de nuestras funciones sin repetir tanto código. Creamos el decorador de la siguiente manera:"
   ]
  },
  {
   "cell_type": "code",
   "execution_count": null,
   "metadata": {
    "slideshow": {
     "slide_type": "fragment"
    }
   },
   "outputs": [],
   "source": [
    "    def mide_tiempo(funcion):\n",
    "        def funcion_medida(*args, **kwargs):\n",
    "            inicio = time.time()\n",
    "            c = funcion(*args, **kwargs)\n",
    "            print(time.time() - inicio)\n",
    "            return c\n",
    "        return funcion_medida"
   ]
  },
  {
   "cell_type": "markdown",
   "metadata": {
    "slideshow": {
     "slide_type": "fragment"
    }
   },
   "source": [
    "Ahora podemos usar el decorador `mide_tiempo` con `@` antes de nuestra función, y cada vez que la llamemos se imprimirá por pantalla el tiempo que tardó en ejecutarse."
   ]
  },
  {
   "cell_type": "code",
   "execution_count": null,
   "metadata": {
    "slideshow": {
     "slide_type": "fragment"
    }
   },
   "outputs": [],
   "source": [
    "    @mide_tiempo\n",
    "    def calcula_pares(n):\n",
    "        return [i for i in range(n) if i%2 == 0]\n",
    "\n",
    "    calcula_pares(10000000)"
   ]
  },
  {
   "cell_type": "markdown",
   "metadata": {
    "slideshow": {
     "slide_type": "slide"
    }
   },
   "source": [
    "----\n",
    "\n",
    "## Tiempo de ejecución con `timeit` (1/2)\n",
    "\n",
    "Python nos ofrece también otra librería `timeit`, pensada para medir tiempos de ejecución de fragmentos pequeños de código. Puede ser usada por línea de comandos o como una función dentro de Python.\n",
    "\n",
    "El siguiente fragmento de código nos permite medir el tiempo de ejecución de la sentencia `x=5`. El argumento `number` es el número de veces que se ejecuta el fragmento de código."
   ]
  },
  {
   "cell_type": "code",
   "execution_count": null,
   "metadata": {
    "slideshow": {
     "slide_type": "fragment"
    }
   },
   "outputs": [],
   "source": [
    "    import timeit\n",
    "    \n",
    "    tiempo = timeit.timeit('x = 5', number=100000000)\n",
    "    print(tiempo)"
   ]
  },
  {
   "cell_type": "markdown",
   "metadata": {
    "slideshow": {
     "slide_type": "fragment"
    }
   },
   "source": [
    "Es importante notar que el tiempo que nos devuelve, es la suma de todas las ejecuciones. Es decir, el siguiente ejemplo tarda 1.39 segundos en ejecutar x=5 un total de 100000000 veces."
   ]
  },
  {
   "cell_type": "markdown",
   "metadata": {
    "slideshow": {
     "slide_type": "subslide"
    }
   },
   "source": [
    "\n",
    "## Tiempo de ejecución con `timeit` (2/2)\n",
    "\n",
    "En el siguiente ejemplo vemos como la siguiente _list comprehension_ tarda en ejecutarse una media de 0.062 segundos."
   ]
  },
  {
   "cell_type": "code",
   "execution_count": null,
   "metadata": {
    "slideshow": {
     "slide_type": "fragment"
    }
   },
   "outputs": [],
   "source": [
    "    import timeit\n",
    "    \n",
    "    tiempo = timeit.timeit('lista = [i for i in range(1000000) if i%2==0]', number=5)\n",
    "    \n",
    "    # Calculamos el tiempo medio\n",
    "    print(tiempo/5)"
   ]
  },
  {
   "cell_type": "markdown",
   "metadata": {
    "slideshow": {
     "slide_type": "slide"
    }
   },
   "source": [
    "----\n",
    "\n",
    "## Consejos y conclusiones\n",
    "\n",
    "* Para medir el tiempo de ejecución de tus programas, haz la media de varias ejecuciones. Debido a diferentes factores, nunca obtendrás el mismo resultado, por eso es importante realizar la media. Observa los diferentes valores que obtienes, y si son muy dispares (std), plantéate las cosas.\n",
    "\n",
    "* Si mides fragmentos de código que tardan muy poco en ejecutarse, deberás promediar más valores.\n",
    "\n",
    "* Ten en cuenta que dependiendo de tu sistema operativo, la precisión que obtendrás de las diferentes librerías puede variar.\n",
    "\n",
    "* No pierdas tiempo en optimizar códigos que apenas son usados. Dedica tiempo a analizar el código que requiere de optimización y centra ahí tus esfuerzos."
   ]
  },
  {
   "cell_type": "markdown",
   "metadata": {
    "slideshow": {
     "slide_type": "slide"
    }
   },
   "source": [
    "----\n",
    "\n",
    "## Extra 2: Caching de funciones (1/3)\n",
    "\n",
    "El _caché_ es un término muy usado en informática, y hace referencia al almacenamiento de resultados previos para su posterior **reutilización**, lo que permite **reducir el tiempo de respuesta**. \n",
    "\n",
    "Por ejemplo, si llamamos a una función con un determinado parámetro y acto seguido realizamos la misma llamada, sería interesante **reutilizar el primer resultado** para no tener que calcularlo otra vez. Existen por lo tanto dos posibilidades:\n",
    "\n",
    "* Si ejecutamos la función y el resultado no ha sido calculado con anterioridad, se calcula y se almacena por si fuera útil en el futuro. Esto se conoce como _cache miss_.\n",
    "\n",
    "* Si ejecutamos la función y el caché tiene almacenado el resultado para esa operación, en vez de calcular otra vez la salida la podemos reutilizar, lo que se conoce como _cache hit_. **Dado que estamos reutilizando un valor ya calculado, generalmente el tiempo de respuesta será menor.**"
   ]
  },
  {
   "cell_type": "markdown",
   "metadata": {
    "slideshow": {
     "slide_type": "subslide"
    }
   },
   "source": [
    "\n",
    "## Extra 2: Caching de funciones (2/3)\n",
    "\n",
    "Python nos permite añadir _caching_ a nuestras funciones, pero antes de implementarlo es conveniente hacer un análisis sobre nuestro programa y determinar si merece la pena. Algunas cosas a tener en cuenta:\n",
    "\n",
    "* El _caching_ es especialmente útil cuando trabajamos con **funciones muy intensivas en cálculo**, lo que hace que reutilizar el valor del caché reduzca notablemente el tiempo de respuesta.\n",
    "\n",
    "* Es necesario conocer (a nivel estadístico) la **distribución de los argumentos con los que se llama la función**. Si la función bajo estudio se llama con valores muy dispares y apenas repetidos, el caching poco ayudará, ya que apenas tendremos un _cache hit_.\n",
    "\n",
    "* El uso de un caché puede mejorar el tiempo de respuesta, pero frecuentemente **se paga en un incremento del uso de memoria**. También es necesario decidir el número de valores a almacenar."
   ]
  },
  {
   "cell_type": "markdown",
   "metadata": {
    "slideshow": {
     "slide_type": "subslide"
    }
   },
   "source": [
    "\n",
    "## Extra 2: Caching de funciones (3/3)\n",
    "\n",
    "A continuación veremos como implementar _caching_ en Python, pudiendo hacerlo con **diccionarios** o utilizando la librería `functools`. Para ejemplificarlo, veremos como implementar un caché en nuestro código de números primos visto anteriormente, empleando ambas formas."
   ]
  },
  {
   "cell_type": "code",
   "execution_count": null,
   "metadata": {
    "slideshow": {
     "slide_type": "fragment"
    }
   },
   "outputs": [],
   "source": [
    "    def es_primo(numero):\n",
    "        for n in range(2, numero//2):\n",
    "            if numero % n == 0:\n",
    "                print(\"No es primo,\", n, \"es divisor\")\n",
    "                return False\n",
    "            \n",
    "        print(\"Es primo\")\n",
    "        return True"
   ]
  },
  {
   "cell_type": "markdown",
   "metadata": {
    "slideshow": {
     "slide_type": "slide"
    }
   },
   "source": [
    "----\n",
    "\n",
    "## Caching con Diccionarios\n",
    "\n",
    "La primera forma de realizarlo es usando un **diccionario** como caché. Nótese que este es un ejemplo didáctico. Como se puede ver tenemos claramente diferenciado el _cache hit_ y el _cache miss_. Si el valor no está en el caché se calcula y se devuelve."
   ]
  },
  {
   "cell_type": "code",
   "execution_count": 45,
   "metadata": {
    "slideshow": {
     "slide_type": "fragment"
    }
   },
   "outputs": [],
   "source": [
    "    def es_primo_concache(numero, _cache={}):\n",
    "        if numero not in _cache: # cache miss\n",
    "            _cache[numero] = True \n",
    "            \n",
    "            for n in range(2, numero//2):\n",
    "                if numero % n == 0:\n",
    "                    _cache[numero] = False\n",
    "                    break\n",
    "                    \n",
    "        return _cache[numero] # cache hit"
   ]
  },
  {
   "cell_type": "code",
   "execution_count": null,
   "metadata": {
    "slideshow": {
     "slide_type": "fragment"
    }
   },
   "outputs": [],
   "source": [
    "    import time\n",
    "    tic = time.time()\n",
    "    es_primo_concache(25565479)\n",
    "    print(time.time() - tic)\n",
    "\n",
    "    tic = time.time()\n",
    "    es_primo_concache(25565479)\n",
    "    print(time.time() - tic)"
   ]
  },
  {
   "cell_type": "markdown",
   "metadata": {
    "slideshow": {
     "slide_type": "slide"
    }
   },
   "source": [
    "----\n",
    "\n",
    "## Caching con `functools` y `lru_cache`\n",
    "\n",
    "La segunda forma de realizarlo, y un poco más sofisticada es usando `lru_cache`, un decorador que viene con la librería estándar `functools`. \n",
    "\n",
    "La mayor ventaja es que no necesitamos modificar la función. Nótese que `maxsize` nos permite indicar el número máximo de valores que queremos almacenar en el caché."
   ]
  },
  {
   "cell_type": "code",
   "execution_count": 47,
   "metadata": {
    "slideshow": {
     "slide_type": "fragment"
    }
   },
   "outputs": [],
   "source": [
    "    from functools import lru_cache\n",
    "\n",
    "    @lru_cache(maxsize=32)\n",
    "    def es_primo_concache(numero):\n",
    "        for n in range(2, numero//2):\n",
    "            if numero % n == 0:\n",
    "                return False\n",
    "        \n",
    "        return True"
   ]
  },
  {
   "cell_type": "code",
   "execution_count": null,
   "metadata": {
    "slideshow": {
     "slide_type": "fragment"
    }
   },
   "outputs": [],
   "source": [
    "    import time\n",
    "    tic = time.time()\n",
    "    es_primo_concache(25565479)\n",
    "    print(time.time() - tic)\n",
    "\n",
    "    tic = time.time()\n",
    "    es_primo_concache(25565479)\n",
    "    print(time.time() - tic)"
   ]
  },
  {
   "cell_type": "markdown",
   "metadata": {
    "slideshow": {
     "slide_type": "fragment"
    }
   },
   "source": [
    "En el caso de que queramos limpiar el caché de nuestra función, podemos realizar lo siguiente:"
   ]
  },
  {
   "cell_type": "code",
   "execution_count": null,
   "metadata": {},
   "outputs": [],
   "source": [
    "    es_primo_concache.cache_clear()"
   ]
  }
 ],
 "metadata": {
  "celltoolbar": "Slideshow",
  "kernelspec": {
   "display_name": "Python 3 (ipykernel)",
   "language": "python",
   "name": "python3"
  },
  "language_info": {
   "codemirror_mode": {
    "name": "ipython",
    "version": 3
   },
   "file_extension": ".py",
   "mimetype": "text/x-python",
   "name": "python",
   "nbconvert_exporter": "python",
   "pygments_lexer": "ipython3",
   "version": "3.9.12"
  }
 },
 "nbformat": 4,
 "nbformat_minor": 4
}
