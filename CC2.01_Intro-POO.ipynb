{
 "cells": [
  {
   "cell_type": "markdown",
   "metadata": {
    "slideshow": {
     "slide_type": "slide"
    }
   },
   "source": [
    "<img align=\"left\" src=\"img/logo-ucm.png\" width=\"25%\">\n",
    "<br/><br/><br/><br/><br/>\n",
    "\n",
    "\n",
    "# [Doctorado en Ingeniería (DocIng)](http://www.docing.ucm.cl/index.html)\n",
    "\n",
    "# [Doctorado en Modelamiento Matemático Aplicado (DM<sub>2</sub>A)](http://vrip.ucm.cl/doctorado-en-modelamiento-matematico-aplicado/)\n",
    "\n",
    "\n",
    "## Computación Científica II: Introducción a la Programación Orientada a Objetos (POO)\n",
    "\n",
    "&nbsp;\n",
    "### Profesor: Dr. Ruber Hernández García\n",
    "\n",
    "<div style=\"overflow: hidden; display: inline-block;\">\n",
    "    <div style=\"display: inline-block; max-width: 20%; max-height: 20%;\">\n",
    "        <a href=\"mailto:rhernandez@ucm.cl\">\n",
    "            <img src=\"img/email.webp\" alt=\"email\" height=\"24px\" width=\"24px\">\n",
    "        </a>\n",
    "    </div>\n",
    "    <div style=\"display: inline-block; max-width: 20%; max-height: 20%;\">\n",
    "        <a href=\"www.ruberhg.com\">\n",
    "            <img src=\"img/website-icon.jpeg\" alt=\"website\" height=\"24px\" width=\"24px\">\n",
    "        </a>\n",
    "    </div>\n",
    "    <div style=\"display: inline-block; max-width: 20%; max-height: 20%;\">\n",
    "        <a href=\"https://orcid.org/0000-0002-9311-1193\">\n",
    "            <img src=\"img/orcid.png\" alt=\"orcid\" height=\"24px\" width=\"24px\">\n",
    "        </a> \n",
    "    </div>\n",
    "    <div style=\"display: inline-block; max-width: 20%; max-height: 20%;\">\n",
    "        <a href=\"https://github.com/ruberhg\" rel=\"nofollow noreferrer\">\n",
    "            <img src=\"img/github.png\" alt=\"github\" height=\"24px\" width=\"24px\">\n",
    "        </a>\n",
    "    </div>\n",
    "</div>\n"
   ]
  },
  {
   "cell_type": "markdown",
   "metadata": {
    "slideshow": {
     "slide_type": "slide"
    }
   },
   "source": [
    "----\n",
    "\n",
    "## Introducción\n",
    "\n",
    "Python es un lenguaje **orientado a objetos**, de modo que tiene soporte de primer nivel para la creación de clases. \n",
    "\n",
    "No obstante, no es condición necesaria hacer uso de ellas para poder crear un programa (esto ocurre en otros lenguajes, como Java). De hecho, hemos estado trabajando hasta ahora sin hacer mención a ellas ni emplearlas directamente.\n",
    "\n",
    "Primeramente, es importante tener en claro los conceptos básicos de la orientación a objetos.\n"
   ]
  },
  {
   "cell_type": "markdown",
   "metadata": {
    "slideshow": {
     "slide_type": "slide"
    }
   },
   "source": [
    "----\n",
    "\n",
    "## ¿Qué entendemos por orientación a objetos?\n",
    "\n",
    "Se trata de una forma de organizar el código o paradigma de programación. Algunas formas son más útiles que otras en ciertas ocasiones.\n",
    "\n",
    "Hacer uso del paradigma de orientación a objetos es pensar y organizar el código en términos de clases y objetos.\n",
    "\n",
    "### ¿Qué es una Clase?\n",
    "\n",
    "Podemos definir una _clase_ como una **_plantilla o modelo para la creación de objetos de datos según un modelo predefinido_**. Esta plantilla es la que contiene la **información, características y capacidades** que tendrá el objeto que sea creado a partir de ella. A su vez los objetos creados a partir de ella estarán agrupados en esa misma clase. Las clases sirven para crear tu propio tipo de datos (es decir, tipos de datos definidos por el usuario).\n",
    "\n",
    "### ¿Qué es un Objeto?\n",
    "\n",
    "Al crear **_instancias de una clase_** hace relación a la creación de _objetos_ de ese tipo. Cuando pensamos en objetos pensamos en entidades que tienen un **comportamiento, un estado, almacenan información y pueden realizar tareas**. Refiriéndonos a comportamiento como acciones o capacidades de realizar cambios, y a estados como situación o modo de estar en un momento determinado."
   ]
  },
  {
   "cell_type": "markdown",
   "metadata": {
    "slideshow": {
     "slide_type": "subslide"
    }
   },
   "source": [
    "## Relación Clase - Objeto\n",
    "\n",
    "Pensemos a las **clases y objetos** como _planos y casas_. \n",
    "\n",
    "* Cuando diseñamos un plano, incluimos información tal como medida de la vivienda, números de habitaciones y baños y su correspondiente ubicación, pisos de este o aquel material, distribución de los espacios, etc. \n",
    "\n",
    "* El plano no es en sí mismo ninguna casa, pero describe cómo se verá ésta una vez construida. De modo que, si el plano contiene una puerta lateral, podemos asegurar que no nos encontraremos con una pared cuando nos dirijamos allí en la casa actual.\n",
    "\n",
    "* De la misma forma, _una clase no constituye ningún objeto en particular_, mas define las **propiedades** que tendrán las instancias de dicha clase una vez creadas; y aquí por propiedades se entiende variables y funciones. Las variables y funciones que están dentro de una clase llevan el nombre de **atributos y métodos**, respectivamente."
   ]
  },
  {
   "cell_type": "markdown",
   "metadata": {
    "slideshow": {
     "slide_type": "slide"
    }
   },
   "source": [
    "----\n",
    "\n",
    "## Clases en Python\n",
    "\n",
    "Las clases proveen una forma de empaquetar datos y funcionalidad juntos. Al crear una nueva clase, se crea un nuevo tipo de objeto, permitiendo crear nuevas instancias de ese tipo. Cada instancia de clase puede tener atributos adjuntos para mantener su estado. Las instancias de clase también pueden tener métodos (definidos por su clase) para modificar su estado.\n",
    "\n",
    "**¿Cómo crearíamos una clase en Python?**\n",
    "\n",
    "    class ClassName:\n",
    "        statements\n",
    "        \n",
    "El nombre de las clases sigue las mismas reglas que los nombres de variables en Python, es decir, sólo pueden comenzar con una letra o un subrayado \\_, y sólo pueden contener letras, números o guiones bajos. Además, según PEP 8 (Guía de estilo para la programación en Python), se recomienda que los nombres de las clases estén capitalizadas."
   ]
  },
  {
   "cell_type": "markdown",
   "metadata": {
    "slideshow": {
     "slide_type": "subslide"
    }
   },
   "source": [
    "\n",
    "## Clases en Python: plantilla general\n",
    "\n",
    "    class MyClass:\n",
    "        def __init__(self, p1, p2,...):\n",
    "            # asigancion de atributos\n",
    "            self.attr1 = p1\n",
    "            self.attr2 = p2\n",
    "            ...\n",
    "        \n",
    "        def method1(self, arg):\n",
    "            #acceso a atributos con 'self'\n",
    "            result = self.attr1 + arg\n",
    "            ...\n",
    "            return result\n",
    "            \n",
    "        def method2(self): \n",
    "            ...\n",
    "            print(...)\n",
    "           \n",
    "        ..."
   ]
  },
  {
   "cell_type": "markdown",
   "metadata": {
    "slideshow": {
     "slide_type": "subslide"
    }
   },
   "source": [
    "\n",
    "## Clases en Python: consideraciones\n",
    "\n",
    "* Las definiciones de clases, al igual que las definiciones de funciones (instrucciones def) deben ejecutarse antes de que tengan efecto alguno.\n",
    "\n",
    "* Las definiciones de funciones dentro de una clase (métodos) normalmente tienen una lista de argumentos particular.\n",
    "\n",
    "* Cuando se ingresa una definición de clase, se crea un nuevo espacio de nombres, el cual se usa como ámbito local; por lo tanto, todas las asignaciones a variables locales van a este nuevo espacio de nombres.\n",
    "\n",
    "* Los atributos son como propiedades que queremos añadir a la clase (tipo). Python no distingue la creación de la asignación de un objeto, por ende, siempre podemos crear nuevos atributos dándoles un valor.\n",
    "\n",
    "* Todas las funciones definidas dentro de una clase deberán tener, al menos, un argumento, que por convención se le llama `self` y es una referencia a la instancia de la clase. Al invocar a un método de la clase, no debemos indicar el argumento `self`.\n",
    "\n",
    "* La función `__init__()` es el constructor de la clase y está pensada para inicializar los atributos de la clase. No está pensada para ser llamada directamente, Python lo invoca de forma automática cuando creamos una instancia de la clase.\n",
    "\n",
    "* Todos los métodos y atributos son públicos. Como convención, se prefija un guión bajo a aquellos métodos o atributos que quieran ser catalogados como privados."
   ]
  },
  {
   "cell_type": "markdown",
   "metadata": {
    "slideshow": {
     "slide_type": "slide"
    }
   },
   "source": [
    "----\n",
    "\n",
    "## Mi primera _Clase_ en Python\n",
    "\n"
   ]
  },
  {
   "cell_type": "code",
   "execution_count": 38,
   "metadata": {
    "slideshow": {
     "slide_type": "fragment"
    }
   },
   "outputs": [],
   "source": [
    "class Alumno:\n",
    "    def __init__(self, nombre):\n",
    "        self.nombre = nombre\n",
    "\n",
    "    def saludar(self):\n",
    "        \"\"\"Imprime un saludo en pantalla.\"\"\"\n",
    "        print(f\"¡Hola, soy {self.nombre}!\")"
   ]
  },
  {
   "cell_type": "code",
   "execution_count": 44,
   "metadata": {
    "slideshow": {
     "slide_type": "fragment"
    }
   },
   "outputs": [
    {
     "name": "stdout",
     "output_type": "stream",
     "text": [
      "¡Hola, soy Pablo!\n",
      "Hola Pablo\n",
      "Hola Pablo Aravena\n"
     ]
    },
    {
     "ename": "AttributeError",
     "evalue": "'Alumno' object has no attribute 'apellido'",
     "output_type": "error",
     "traceback": [
      "\u001b[0;31m---------------------------------------------------------------------------\u001b[0m",
      "\u001b[0;31mAttributeError\u001b[0m                            Traceback (most recent call last)",
      "Input \u001b[0;32mIn [44]\u001b[0m, in \u001b[0;36m<cell line: 8>\u001b[0;34m()\u001b[0m\n\u001b[1;32m      5\u001b[0m \u001b[38;5;28mprint\u001b[39m(\u001b[38;5;124m\"\u001b[39m\u001b[38;5;124mHola \u001b[39m\u001b[38;5;124m\"\u001b[39m \u001b[38;5;241m+\u001b[39m alumno\u001b[38;5;241m.\u001b[39mnombre \u001b[38;5;241m+\u001b[39m \u001b[38;5;124m\"\u001b[39m\u001b[38;5;124m \u001b[39m\u001b[38;5;124m\"\u001b[39m \u001b[38;5;241m+\u001b[39m alumno\u001b[38;5;241m.\u001b[39mapellido)\n\u001b[1;32m      7\u001b[0m estudiante \u001b[38;5;241m=\u001b[39m Alumno(\u001b[38;5;124m\"\u001b[39m\u001b[38;5;124mJose\u001b[39m\u001b[38;5;124m\"\u001b[39m)\n\u001b[0;32m----> 8\u001b[0m \u001b[43mestudiante\u001b[49m\u001b[38;5;241;43m.\u001b[39;49m\u001b[43mapellido\u001b[49m\n",
      "\u001b[0;31mAttributeError\u001b[0m: 'Alumno' object has no attribute 'apellido'"
     ]
    }
   ],
   "source": [
    "alumno = Alumno(\"Pablo\")\n",
    "alumno.saludar()\n",
    "print(\"Hola \" + alumno.nombre)\n",
    "alumno.apellido = \"Aravena\"\n",
    "print(\"Hola \" + alumno.nombre + \" \" + alumno.apellido)\n",
    "\n",
    "estudiante = Alumno(\"Jose\")\n",
    "estudiante.apellido"
   ]
  },
  {
   "cell_type": "markdown",
   "metadata": {
    "slideshow": {
     "slide_type": "subslide"
    }
   },
   "source": [
    "## Ejemplos (1/2)"
   ]
  },
  {
   "cell_type": "code",
   "execution_count": 86,
   "metadata": {
    "slideshow": {
     "slide_type": "fragment"
    }
   },
   "outputs": [],
   "source": [
    "class BankAccount:\n",
    "    def __init__(self, first_name, last_name, number, balance=0):\n",
    "        self.first_name = first_name\n",
    "        self.last_name = last_name\n",
    "        self.number = number\n",
    "        self.balance = balance\n",
    "    \n",
    "    def deposit(self, amount): \n",
    "        self.balance += amount\n",
    "        #self.print_info()\n",
    "    \n",
    "    def withdraw(self, amount): \n",
    "        self.balance -= amount\n",
    "        #self.print_info()\n",
    "    \n",
    "    def __str__(self):\n",
    "        first = self.first_name; \n",
    "        last = self.last_name \n",
    "        number = self.number; \n",
    "        bal = self.balance\n",
    "        s = f'{first} {last}, {number}, balance: {bal}' \n",
    "        return s\n",
    "    \n",
    "    def __gt__(self, b):\n",
    "        if isinstance(b, BankAccount):\n",
    "            return self.balance > b.balance\n",
    "        elif isinstance(b, int):\n",
    "            return self.balance > b\n",
    "    \n",
    "    def __ge__(self,b):\n",
    "        return self.balance >= b.balance"
   ]
  },
  {
   "cell_type": "code",
   "execution_count": 88,
   "metadata": {
    "slideshow": {
     "slide_type": "skip"
    }
   },
   "outputs": [
    {
     "name": "stdout",
     "output_type": "stream",
     "text": [
      "John Olsson, 19371554951, balance: 1000 John Olsson, 19371554951, balance: -4000\n"
     ]
    },
    {
     "data": {
      "text/plain": [
       "True"
      ]
     },
     "execution_count": 88,
     "metadata": {},
     "output_type": "execute_result"
    }
   ],
   "source": [
    "a1 = BankAccount('John', 'Olsson', '19371554951')\n",
    "a2 = BankAccount('John', 'Olsson', '19371554951')\n",
    "\n",
    "a1.deposit(1000)\n",
    "a2.withdraw(4000)\n",
    "\n",
    "print(a1,a2)\n",
    "a2 > -5000"
   ]
  },
  {
   "cell_type": "markdown",
   "metadata": {
    "slideshow": {
     "slide_type": "subslide"
    }
   },
   "source": [
    "## Ejemplos (2/2)\n",
    "\n",
    "Calculo de la presión atmosférica $p$ en función de la altitud $h$, dado por la función $p = p_0 \\mathrm{e}^{-Mgh/RT}$."
   ]
  },
  {
   "cell_type": "code",
   "execution_count": null,
   "metadata": {
    "slideshow": {
     "slide_type": "fragment"
    }
   },
   "outputs": [],
   "source": [
    "from math import exp\n",
    "\n",
    "def barometric(h, T):\n",
    "    g = 9.81       #m/(s*s)\n",
    "    R = 8.314      #J/(K*mol)\n",
    "    M = 0.02896    #kg/mol\n",
    "    p0 = 100.0     #kPa\n",
    "    \n",
    "    return p0 * exp(-M*g*h/(R*T))"
   ]
  },
  {
   "cell_type": "markdown",
   "metadata": {
    "slideshow": {
     "slide_type": "fragment"
    }
   },
   "source": [
    "### ¿Cómo podríamos hacerlo con una clase?"
   ]
  },
  {
   "cell_type": "code",
   "execution_count": 30,
   "metadata": {
    "slideshow": {
     "slide_type": "skip"
    }
   },
   "outputs": [],
   "source": [
    "from math import exp\n",
    "\n",
    "class Barometric1:\n",
    "    def __init__(self, T):\n",
    "        self.T = T     #K\n",
    "\n",
    "    def value(self, h):\n",
    "        g = 9.81; R = 9.314\n",
    "        M = 0.02896; p0 = 100.0\n",
    "        return p0 * exp(-M*g*h/(R*self.T))"
   ]
  },
  {
   "cell_type": "markdown",
   "metadata": {
    "slideshow": {
     "slide_type": "slide"
    }
   },
   "source": [
    "----\n",
    "\n",
    "## Métodos especiales: `__call__`\n",
    "\n",
    "El nombre del método especial para hacer que una instancia sea invocable como una función normal de Python es `__call__`:"
   ]
  },
  {
   "cell_type": "code",
   "execution_count": 65,
   "metadata": {
    "slideshow": {
     "slide_type": "fragment"
    }
   },
   "outputs": [],
   "source": [
    "class Barometric:\n",
    "    def __init__(self, T):\n",
    "        self.T = T     #K\n",
    "        self.g = 9.81       #m/(s*s)\n",
    "        self.R = 8.314      #J/(K*mol)\n",
    "        self.M = 0.02896    #kg/mol\n",
    "        self.p0 = 100.0     #kPa\n",
    "    \n",
    "    def __str__(self):\n",
    "        return f'p0 * exp(-M*g*h/(R*T)); T = {self.T}'\n",
    "\n",
    "    def __call__(self, h):\n",
    "        return self.p0 * exp(-self.M*self.g*h/(self.R*self.T))\n",
    "    \n",
    "    "
   ]
  },
  {
   "cell_type": "code",
   "execution_count": 74,
   "metadata": {
    "slideshow": {
     "slide_type": "fragment"
    }
   },
   "outputs": [
    {
     "data": {
      "text/plain": [
       "'Barometric p0 * exp(-M*g*h/(R*T)); T = 245'"
      ]
     },
     "execution_count": 74,
     "metadata": {},
     "output_type": "execute_result"
    }
   ],
   "source": [
    "baro = Barometric(245)\n",
    "p = baro(2346) # similar a p = baro.value(2346)\n",
    "p\n",
    "\n",
    "s =  \"Barometric \" + str(baro)\n",
    "s"
   ]
  },
  {
   "cell_type": "markdown",
   "metadata": {
    "slideshow": {
     "slide_type": "slide"
    }
   },
   "source": [
    "----\n",
    "\n",
    "## Métodos especiales: `__str__`\n",
    "\n",
    "El método `__str__` debe devolver un objeto de cadena, preferiblemente una cadena que proporcione información útil sobre el objeto, y no debe tomar ningún argumento excepto `self`."
   ]
  },
  {
   "cell_type": "code",
   "execution_count": 34,
   "metadata": {
    "slideshow": {
     "slide_type": "fragment"
    }
   },
   "outputs": [],
   "source": [
    "class Barometric: \n",
    "    ...\n",
    "    def __call__(self, h):\n",
    "        return self.p0 * exp(-self.M*self.g*h/(self.R*self.T))\n",
    "\n",
    "    def __str__(self):\n",
    "        return f'p0 * exp(-M*g*h/(R*T)); T = {self.T}'"
   ]
  },
  {
   "cell_type": "markdown",
   "metadata": {
    "slideshow": {
     "slide_type": "slide"
    }
   },
   "source": [
    "----\n",
    "\n",
    "## Métodos especiales: operadores matemáticos y lógicos\n",
    "\n",
    "Existen métodos especiales para las operaciones aritméticas y lógicas, como `__add__`, `__sub__`, `__eq__`, etc. Definir estos métodos dentro de nuestra clase nos permitirá realizar operaciones como `c = a + b` o `a == b`, donde a,b son instancias de la clase.\n",
    "\n",
    "### Operadores matemáticos\n",
    "    __add__   # c = a + b\n",
    "    __sub__   # c = a - b\n",
    "    __mul__   # c = a * b\n",
    "    __div__   # c = a / b\n",
    "    __pow__   # c = a ** b\n",
    "    \n",
    "### Operadores lógicos\n",
    "    __eq__    # a == b\n",
    "    __ne__    # a != b\n",
    "    __lt__    # a < b\n",
    "    __le__    # a <= b\n",
    "    __gt__    # a > b\n",
    "    __ge__    # a >= b"
   ]
  },
  {
   "cell_type": "markdown",
   "metadata": {
    "slideshow": {
     "slide_type": "slide"
    }
   },
   "source": [
    "----\n",
    "\n",
    "## Herencia (1/3)\n",
    "\n",
    "La herencia es una herramienta fundamental para la orientación a objetos. Permite definir jerarquías de clases que comparten diversos métodos y atributos. Por ejemplo, consideremos la siguiente clase `Rectangulo`."
   ]
  },
  {
   "cell_type": "code",
   "execution_count": 89,
   "metadata": {
    "slideshow": {
     "slide_type": "fragment"
    }
   },
   "outputs": [
    {
     "name": "stdout",
     "output_type": "stream",
     "text": [
      "Área del rectángulo:  200\n"
     ]
    }
   ],
   "source": [
    "class Rectangulo:\n",
    "    \"\"\"\n",
    "    Define un rectángulo según su base y su altura.\n",
    "    \"\"\"\n",
    "    def __init__(self, b, h):\n",
    "        self.b = b\n",
    "        self.h = h\n",
    "\n",
    "    def area(self):\n",
    "        return self.b * self.h\n",
    "\n",
    "rectangulo = Rectangulo(20, 10)\n",
    "print(\"Área del rectángulo: \", rectangulo.area())"
   ]
  },
  {
   "cell_type": "markdown",
   "metadata": {
    "slideshow": {
     "slide_type": "subslide"
    }
   },
   "source": [
    "## Herencia (2/3)\n",
    "\n",
    "Supongamos, ahora, que necesitamos definir otra clase Triangulo."
   ]
  },
  {
   "cell_type": "code",
   "execution_count": 36,
   "metadata": {
    "slideshow": {
     "slide_type": "fragment"
    }
   },
   "outputs": [],
   "source": [
    "class Triangulo:\n",
    "    \"\"\"\n",
    "    Define un triángulo según su base y su altura.\n",
    "    \"\"\"\n",
    "    def __init__(self, b, h):\n",
    "        self.b = b\n",
    "        self.h = h\n",
    "\n",
    "    def area(self):\n",
    "        return (self.b * self.h) / 2"
   ]
  },
  {
   "cell_type": "markdown",
   "metadata": {
    "slideshow": {
     "slide_type": "fragment"
    }
   },
   "source": [
    "En efecto, los códigos son muy similares, a excepción del método `area()`. Pero dado que el método `__init__()` es el mismo, podemos abstraerlo en una clase padre de la cual hereden tanto Rectangulo como Triangulo."
   ]
  },
  {
   "cell_type": "markdown",
   "metadata": {
    "slideshow": {
     "slide_type": "subslide"
    }
   },
   "source": [
    "## Herencia (3/3)\n",
    "\n",
    "Podemos crear una clase `Poligono`:"
   ]
  },
  {
   "cell_type": "code",
   "execution_count": 37,
   "metadata": {
    "slideshow": {
     "slide_type": "fragment"
    }
   },
   "outputs": [
    {
     "name": "stdout",
     "output_type": "stream",
     "text": [
      "Área del rectángulo:  200\n",
      "Área del triángulo: 120.0\n"
     ]
    }
   ],
   "source": [
    "class Poligono:\n",
    "    \"\"\"\n",
    "    Define un polígono según su base y su altura.\n",
    "    \"\"\"\n",
    "    def __init__(self, b, h):\n",
    "        self.b = b\n",
    "        self.h = h\n",
    "\n",
    "class Rectangulo(Poligono):\n",
    "\n",
    "    def area(self):\n",
    "        return self.b * self.h\n",
    "\n",
    "class Triangulo(Poligono):\n",
    "\n",
    "    def area(self):\n",
    "        return (self.b * self.h) / 2\n",
    "\n",
    "rectangulo = Rectangulo(20, 10)\n",
    "triangulo = Triangulo(20, 12)\n",
    "\n",
    "print(\"Área del rectángulo: \", rectangulo.area())\n",
    "print(\"Área del triángulo:\", triangulo.area())"
   ]
  }
 ],
 "metadata": {
  "celltoolbar": "Slideshow",
  "kernelspec": {
   "display_name": "Python 3 (ipykernel)",
   "language": "python",
   "name": "python3"
  },
  "language_info": {
   "codemirror_mode": {
    "name": "ipython",
    "version": 3
   },
   "file_extension": ".py",
   "mimetype": "text/x-python",
   "name": "python",
   "nbconvert_exporter": "python",
   "pygments_lexer": "ipython3",
   "version": "3.9.12"
  }
 },
 "nbformat": 4,
 "nbformat_minor": 4
}
