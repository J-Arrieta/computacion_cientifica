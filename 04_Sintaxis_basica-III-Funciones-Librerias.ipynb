{
 "cells": [
  {
   "cell_type": "markdown",
   "metadata": {
    "slideshow": {
     "slide_type": "slide"
    }
   },
   "source": [
    "<img align=\"left\" src=\"img/logo-ucm.png\" width=\"25%\">\n",
    "<br/><br/><br/><br/><br/>\n",
    "\n",
    "\n",
    "# [Doctorado en Ingeniería (DocIng)](http://www.docing.ucm.cl/index.html)\n",
    "\n",
    "# [Doctorado en Modelamiento Matemático Aplicado (DM<sub>2</sub>A)](http://vrip.ucm.cl/doctorado-en-modelamiento-matematico-aplicado/)\n",
    "\n",
    "\n",
    "## Computación Científica I: Introducción a Python para la Investigación. \n",
    "### Programación estructurada. Sintaxis básica: operadores, variables, tipos de datos, estructuras de control, funciones, librerías, entrada y salida estándar.\n",
    "\n",
    "&nbsp;\n",
    "### Profesor: Dr. Ruber Hernández García\n",
    "\n",
    "<div style=\"overflow: hidden; display: inline-block;\">\n",
    "    <div style=\"display: inline-block; max-width: 20%; max-height: 20%;\">\n",
    "        <a href=\"mailto:rhernandez@ucm.cl\">\n",
    "            <img src=\"img/email.webp\" alt=\"email\" height=\"24px\" width=\"24px\">\n",
    "        </a>\n",
    "    </div>\n",
    "    <div style=\"display: inline-block; max-width: 20%; max-height: 20%;\">\n",
    "        <a href=\"www.ruberhg.com\">\n",
    "            <img src=\"img/website-icon.jpeg\" alt=\"website\" height=\"24px\" width=\"24px\">\n",
    "        </a>\n",
    "    </div>\n",
    "    <div style=\"display: inline-block; max-width: 20%; max-height: 20%;\">\n",
    "        <a href=\"https://orcid.org/0000-0002-9311-1193\">\n",
    "            <img src=\"img/orcid.png\" alt=\"orcid\" height=\"24px\" width=\"24px\">\n",
    "        </a> \n",
    "    </div>\n",
    "    <div style=\"display: inline-block; max-width: 20%; max-height: 20%;\">\n",
    "        <a href=\"https://github.com/ruberhg\" rel=\"nofollow noreferrer\">\n",
    "            <img src=\"img/github.png\" alt=\"github\" height=\"24px\" width=\"24px\">\n",
    "        </a>\n",
    "    </div>\n",
    "</div>\n",
    "\n"
   ]
  },
  {
   "cell_type": "markdown",
   "metadata": {
    "slideshow": {
     "slide_type": "slide"
    }
   },
   "source": [
    "----\n",
    "\n",
    "## Sintaxis de Python: funciones, módulos y paquetes\n",
    "\n",
    "Lo más importante para programar, y no solo en Python, es saber organizar el código en piezas más pequeñas que hagan tareas independientes y combinarlas entre sí. Las **funciones** son el primer nivel de organización del código: reciben unas *entradas*, las *procesan* y devuelven unas *salidas*. Asimismo, los **módulos y paquetes** conforman otro nivel de organización de más alto nivel, al permitir agrupar un conjunto de clases y/o funciones.\n",
    "\n",
    "![Black box](img/blackbox.jpg)"
   ]
  },
  {
   "cell_type": "markdown",
   "metadata": {
    "slideshow": {
     "slide_type": "slide"
    }
   },
   "source": [
    "## Funciones\n",
    "\n",
    "Hasta ahora hemos definido código en una celda: declaramos parámetros en variables, luego hacemos alguna operación e imprimimos y/o devolvemos un resultado. \n",
    "\n",
    "Para generalizar esto podemos declarar **funciones**, de manera de que no sea necesario redefinir variables en el código para calcular/realizar nuestra operación con diferentes parámetros. En Python las funciones se definen con la sentencia `def` y con `return` se devuelve un valor.\n",
    "\n",
    "<div class=\"alert alert-warning\"><strong>Importante:</strong> Es importante resaltar que las variables que se crean dentro de las funciones no son accesibles una vez que termina la ejecución de la función, lo que se conoce como <strong><em>\"Scope\"</em></strong> de las variables. En cambio, la función si que puede acceder a cosas que se han definido fuera de ella. No obstantes, esto último no constituye una buena práctica de cara la reproducibilidad, mantenibilidad y testeo de la función.</div>"
   ]
  },
  {
   "cell_type": "code",
   "execution_count": 1,
   "metadata": {
    "slideshow": {
     "slide_type": "subslide"
    }
   },
   "outputs": [],
   "source": [
    "def potencia(numero, exponente=2):\n",
    "    \"\"\"Dado un escalar, \n",
    "    devuelve su potencia\"\"\"        # Documentación de la función\n",
    "    resulta = numero**exponente\n",
    "    return resulta"
   ]
  },
  {
   "cell_type": "code",
   "execution_count": 2,
   "metadata": {
    "slideshow": {
     "slide_type": "fragment"
    }
   },
   "outputs": [
    {
     "name": "stdout",
     "output_type": "stream",
     "text": [
      "Help on function potencia in module __main__:\n",
      "\n",
      "potencia(numero, exponente=2)\n",
      "    Dado un escalar, \n",
      "    devuelve su potencia\n",
      "\n"
     ]
    }
   ],
   "source": [
    "potencia(3)\n",
    "help(potencia)"
   ]
  },
  {
   "cell_type": "code",
   "execution_count": 3,
   "metadata": {
    "slideshow": {
     "slide_type": "fragment"
    }
   },
   "outputs": [
    {
     "data": {
      "text/plain": [
       "4e+20"
      ]
     },
     "execution_count": 3,
     "metadata": {},
     "output_type": "execute_result"
    }
   ],
   "source": [
    "potencia(2e10)"
   ]
  },
  {
   "cell_type": "code",
   "execution_count": 4,
   "metadata": {
    "slideshow": {
     "slide_type": "fragment"
    }
   },
   "outputs": [
    {
     "data": {
      "text/plain": [
       "(24-10j)"
      ]
     },
     "execution_count": 4,
     "metadata": {},
     "output_type": "execute_result"
    }
   ],
   "source": [
    "potencia(5-1j)"
   ]
  },
  {
   "cell_type": "code",
   "execution_count": 5,
   "metadata": {
    "slideshow": {
     "slide_type": "fragment"
    }
   },
   "outputs": [
    {
     "data": {
      "text/plain": [
       "3125"
      ]
     },
     "execution_count": 5,
     "metadata": {},
     "output_type": "execute_result"
    }
   ],
   "source": [
    "potencia(exponente=3 + 2,numero=1 + 4)       # se pueden pasar los parámetros por nombres"
   ]
  },
  {
   "cell_type": "markdown",
   "metadata": {
    "slideshow": {
     "slide_type": "subslide"
    }
   },
   "source": [
    "<div class=\"alert alert-info\">Notar que no <strong>exigimos un tipo de dato</strong> en la definición de la función. Python es dinámico: se esperan <strong>comportamientos</strong> en vez de tipos. Un tipo de datos puede implementar distintos comportamientos y <em>\"funcionar\"</em>.\n",
    "\n",
    "Si un número, cualquiera sea su tipo, puede elevarse al cuadrado, ¿por qué deberíamos hacer una función equivalente para enteros, otra para flotantes de simple precisión y otra para complejos como se hace en otros lenguajes?\n",
    "\n",
    "Esto es lo que se conoce como <strong><a href=\"https://es.wikipedia.org/wiki/Duck_typing\">\"Duck typing\"</a></strong>, que es el estilo de orientación a objetos que utiliza Python.\n",
    "\n",
    "<p style=\"margin-left: 30px\"><em>\"Cuando veo un ave que camina como un pato, nada como un pato y suena como un pato, a esa ave yo le digo pato.\"</em></p>\n",
    "</div>"
   ]
  },
  {
   "cell_type": "markdown",
   "metadata": {
    "slideshow": {
     "slide_type": "fragment"
    }
   },
   "source": [
    "Obviamente, si el objeto (el tipo del objeto) que pasamos no soporta el comportamiento que esperamos (en este caso no se puede \"elevar al cuadrado\" una cadena) fallará. "
   ]
  },
  {
   "cell_type": "code",
   "execution_count": 6,
   "metadata": {
    "slideshow": {
     "slide_type": "fragment"
    }
   },
   "outputs": [
    {
     "ename": "TypeError",
     "evalue": "unsupported operand type(s) for ** or pow(): 'str' and 'int'",
     "output_type": "error",
     "traceback": [
      "\u001b[0;31m---------------------------------------------------------------------------\u001b[0m",
      "\u001b[0;31mTypeError\u001b[0m                                 Traceback (most recent call last)",
      "\u001b[0;32m<ipython-input-6-a48a58431970>\u001b[0m in \u001b[0;36m<module>\u001b[0;34m\u001b[0m\n\u001b[0;32m----> 1\u001b[0;31m \u001b[0mpotencia\u001b[0m\u001b[0;34m(\u001b[0m\u001b[0;34m\"hola mundo\"\u001b[0m\u001b[0;34m)\u001b[0m\u001b[0;34m\u001b[0m\u001b[0;34m\u001b[0m\u001b[0m\n\u001b[0m",
      "\u001b[0;32m<ipython-input-1-53fea73a651f>\u001b[0m in \u001b[0;36mpotencia\u001b[0;34m(numero, exponente)\u001b[0m\n\u001b[1;32m      2\u001b[0m     \"\"\"Dado un escalar, \n\u001b[1;32m      3\u001b[0m     devuelve su potencia\"\"\"        # Documentación de la función\n\u001b[0;32m----> 4\u001b[0;31m     \u001b[0mresulta\u001b[0m \u001b[0;34m=\u001b[0m \u001b[0mnumero\u001b[0m\u001b[0;34m**\u001b[0m\u001b[0mexponente\u001b[0m\u001b[0;34m\u001b[0m\u001b[0;34m\u001b[0m\u001b[0m\n\u001b[0m\u001b[1;32m      5\u001b[0m     \u001b[0;32mreturn\u001b[0m \u001b[0mresulta\u001b[0m\u001b[0;34m\u001b[0m\u001b[0;34m\u001b[0m\u001b[0m\n",
      "\u001b[0;31mTypeError\u001b[0m: unsupported operand type(s) for ** or pow(): 'str' and 'int'"
     ]
    }
   ],
   "source": [
    "potencia(\"hola mundo\")"
   ]
  },
  {
   "cell_type": "markdown",
   "metadata": {
    "slideshow": {
     "slide_type": "subslide"
    }
   },
   "source": [
    "### Un paréntesis: documentando las funciones `docstrings`\n",
    "\n",
    "La documentación de una función se almacena en el llamado `docstring`. Esta cadena de documentación va justo después de la cabecera y se define entre comillas triples. Módulos, funciones, métodos y clases pueden tener una \"cadena de documentación\". Python automáticamente asigna esa cadena al atributo `__doc__` del objeto en cuestión.\n",
    "\n",
    "Los `docstrings` **son opcionales pero muy recomendados**, porque a diferencia de los comentarios (que se ponen con `#`), son los que se muestran en la ayuda interactiva y tambien pueden post-procesarse para generar documentación de referencia automática.\n",
    "\n",
    "Es una buena práctica, no solo documentar las funciones, sino hacerlo con un estilo único y estandarizado. Una referencia respaldada en el ecosistema científico es el estilo de documentación de NumPy: https://numpydoc.readthedocs.io/en/latest/format.html#docstring-standard"
   ]
  },
  {
   "cell_type": "code",
   "execution_count": null,
   "metadata": {
    "slideshow": {
     "slide_type": "fragment"
    }
   },
   "outputs": [],
   "source": [
    "help(potencia)\n",
    "\n",
    "potencia.__doc__ = \"Recibe un escalar y dado un exponente, devuelve su potencia.\"\n",
    "\n",
    "help(potencia)"
   ]
  },
  {
   "cell_type": "markdown",
   "metadata": {
    "slideshow": {
     "slide_type": "subslide"
    }
   },
   "source": [
    "### Parámetros arbitrarios: `*args` y `**kwargs`\n",
    "\n",
    "Hasta acá todo bonito. Pero ¿qué tal si queremos definir una función que acepte una cantidad arbitraria de parámetros? Acá vienen `*args` y `**kwargs`. Por ejemplo la función `zip` recibe una cantidad arbitraria de iteradores y devuelve tuplas con los i-elementos de cada una."
   ]
  },
  {
   "cell_type": "code",
   "execution_count": 1,
   "metadata": {
    "slideshow": {
     "slide_type": "fragment"
    }
   },
   "outputs": [
    {
     "data": {
      "text/plain": [
       "[(1, 'a', 'alfa'), (2, 'b', 'beta'), (3, 'c', 'gama')]"
      ]
     },
     "execution_count": 1,
     "metadata": {},
     "output_type": "execute_result"
    }
   ],
   "source": [
    "list(zip((1, 2, 3), ('a', 'b', 'c'), ('alfa', 'beta', 'gama', 'theta')))"
   ]
  },
  {
   "cell_type": "markdown",
   "metadata": {
    "slideshow": {
     "slide_type": "fragment"
    }
   },
   "source": [
    "__*Entonces ¿cómo definiríamos una función al estilo  `zip` que recibe cuantos argumentos queramos?*__"
   ]
  },
  {
   "cell_type": "code",
   "execution_count": 5,
   "metadata": {
    "slideshow": {
     "slide_type": "subslide"
    }
   },
   "outputs": [],
   "source": [
    "def promedio(*args):\n",
    "    \"\"\"\n",
    "    Calcula el promedio de todos los argumentos dados\n",
    "    \"\"\"\n",
    "    \n",
    "    print(args)         # args es una tupla de los argumentos posicionales dados. \n",
    "    \n",
    "    suma = 0\n",
    "    for num in args:        \n",
    "        suma += num     # igual a suma = suma + num\n",
    "    \n",
    "    return suma/len(args)"
   ]
  },
  {
   "cell_type": "code",
   "execution_count": 6,
   "metadata": {
    "slideshow": {
     "slide_type": "fragment"
    }
   },
   "outputs": [
    {
     "name": "stdout",
     "output_type": "stream",
     "text": [
      "(3, 4, 2, 5)\n"
     ]
    },
    {
     "data": {
      "text/plain": [
       "3.5"
      ]
     },
     "execution_count": 6,
     "metadata": {},
     "output_type": "execute_result"
    }
   ],
   "source": [
    "promedio(3, 4, 2, 5)"
   ]
  },
  {
   "cell_type": "code",
   "execution_count": null,
   "metadata": {
    "slideshow": {
     "slide_type": "fragment"
    }
   },
   "outputs": [],
   "source": [
    "promedio(10, 20, 2.1)"
   ]
  },
  {
   "cell_type": "markdown",
   "metadata": {
    "slideshow": {
     "slide_type": "subslide"
    }
   },
   "source": [
    "__Por otro lado, tenemos como ejemplo el constructor `dict` que acepta una cantidad de argumentos arbitrarios por clave para crear un diccionario:__"
   ]
  },
  {
   "cell_type": "code",
   "execution_count": 2,
   "metadata": {
    "slideshow": {
     "slide_type": "fragment"
    }
   },
   "outputs": [
    {
     "data": {
      "text/plain": [
       "{'Carlitos': 10, 'Gaitán': 'Jugador Nº 12', 'Gonzales': 'no juega'}"
      ]
     },
     "execution_count": 2,
     "metadata": {},
     "output_type": "execute_result"
    }
   ],
   "source": [
    "dict(Carlitos=10, Gaitán='Jugador Nº 12', Gonzales='no juega')"
   ]
  },
  {
   "cell_type": "markdown",
   "metadata": {
    "slideshow": {
     "slide_type": "fragment"
    }
   },
   "source": [
    "__*¿Cómo definir una función que permita esa flexibilidad? Eso se hace con `**kwarg`*__"
   ]
  },
  {
   "cell_type": "code",
   "execution_count": 3,
   "metadata": {
    "slideshow": {
     "slide_type": "subslide"
    }
   },
   "outputs": [],
   "source": [
    "def itemizar(**kwargs):\n",
    "    \"\"\"\n",
    "    Genera una lista de items con todos los argumentos dados\n",
    "    \"\"\"\n",
    "    \n",
    "    for clave, valor in kwargs.items():\n",
    "        print('* {0} ({1})'.format(clave, valor))"
   ]
  },
  {
   "cell_type": "code",
   "execution_count": 4,
   "metadata": {
    "slideshow": {
     "slide_type": "fragment"
    }
   },
   "outputs": [
    {
     "name": "stdout",
     "output_type": "stream",
     "text": [
      "* tornillos (10)\n",
      "* lija (2)\n",
      "* cualquiera (10)\n",
      "* cosa (40)\n"
     ]
    }
   ],
   "source": [
    "itemizar(tornillos=10, lija=2, cualquiera=10, cosa=40)"
   ]
  },
  {
   "cell_type": "markdown",
   "metadata": {
    "slideshow": {
     "slide_type": "subslide"
    }
   },
   "source": [
    "<div class=\"alert alert-info\">En resumen, con <strong>`*args`</strong> se indica <em>\"mapear todos los argumentos posicionales no explícitos a una tupla llamada `args`\"</em>. Y con <strong>`**kwargs`</strong> se indica <em>\"mapear todos los argumentos de palabra clave no explícitos a un diccionario llamado `kwargs`\"</em>.\n",
    "<br/><br/>\n",
    "No es necesario los nombres \"args\" y \"kwargs\", podemos llamarlas diferente, pero es una convención muy extendida. Estrictamente, los simbolos que indican cantidades arbitrarias de parametros son `*` y `**`. Además es posible poner parametros \"comunes\" antes de los parametros arbritarios.\n",
    "</div>"
   ]
  },
  {
   "cell_type": "code",
   "execution_count": null,
   "metadata": {
    "slideshow": {
     "slide_type": "fragment"
    }
   },
   "outputs": [],
   "source": [
    "def f(a1,*args,**kwargs):\n",
    "    print('a1=', a1)\n",
    "    print('args=', args)\n",
    "    print('kwargs=', kwargs)\n"
   ]
  },
  {
   "cell_type": "code",
   "execution_count": null,
   "metadata": {
    "slideshow": {
     "slide_type": "fragment"
    }
   },
   "outputs": [],
   "source": [
    "f(4)   # solo definido el parámetro común a"
   ]
  },
  {
   "cell_type": "code",
   "execution_count": null,
   "metadata": {
    "slideshow": {
     "slide_type": "fragment"
    }
   },
   "outputs": [],
   "source": [
    "f('valor', 1, 2)    # 'a1' y dos argumentos posicionales arbitrarios"
   ]
  },
  {
   "cell_type": "code",
   "execution_count": null,
   "metadata": {
    "slideshow": {
     "slide_type": "fragment"
    }
   },
   "outputs": [],
   "source": [
    "f('2', 1, 2, color='azul', detallado=True)  # 'a1', dos argumentos posicionales arbitrarios y dos argumentos codificados arbitrarios"
   ]
  },
  {
   "cell_type": "markdown",
   "metadata": {
    "slideshow": {
     "slide_type": "subslide"
    }
   },
   "source": [
    "<div class=\"alert alert-info\">\n",
    "Para más información acerca otras características de las funciones en Python, ver el Extra de Funciones en: <code>extra/extra_funciones.ipynb</code>.\n",
    "</div>\n",
    "\n"
   ]
  },
  {
   "cell_type": "markdown",
   "metadata": {
    "slideshow": {
     "slide_type": "slide"
    }
   },
   "source": [
    "----\n",
    "\n",
    "## Módulos\n",
    "\n",
    "\n",
    "Buenísimo estos *notebooks* pero ¿qué pasa si quiero reusar código? \n",
    "\n",
    "Hay que crear **módulos o librerías**. \n",
    "\n",
    "Por ejemplo, creemos un módulo para guardar la función que encuentra raíces de segundo grado.\n",
    "\n",
    "Podemos abrir cualquier editor (incluido el que trae el propio jupyter), o alternativamente podemos preceder la celda con la \"función magic\" (que aporta Jupyter y se denotan por empezar con `%` o `%%`), en este caso `%%writefile`\n",
    "\n",
    "El resultado es dejar un archivo llamado `cuadratica.py` con el código de nuestra función en el mismo directorio donde tenemos el notebook (el archivo .ipynb)."
   ]
  },
  {
   "cell_type": "code",
   "execution_count": null,
   "metadata": {
    "slideshow": {
     "slide_type": "subslide"
    }
   },
   "outputs": [],
   "source": [
    "%%writefile cuadratica.py     \n",
    "\n",
    "def raices(a, b=0, c=0):\n",
    "    \"\"\"Dados los coeficientes, encuentra los valores de x tal que ax^2 + bx + c = 0\"\"\"\n",
    "\n",
    "    discriminante = (b**2 - 4*a*c)**0.5\n",
    "    x1 = (-b + discriminante)/(2*a)\n",
    "    x2 = (-b - discriminante)/(2*a)\n",
    "    return (x1, x2)"
   ]
  },
  {
   "cell_type": "markdown",
   "metadata": {
    "slideshow": {
     "slide_type": "subslide"
    }
   },
   "source": [
    "Lo hemos guardado en un archivo `cuadratica.py` en el directorio donde estamos corriendo esta consola (notebook), entonces directamente podemos **importar** ese módulo. "
   ]
  },
  {
   "cell_type": "code",
   "execution_count": null,
   "metadata": {
    "slideshow": {
     "slide_type": "fragment"
    }
   },
   "outputs": [],
   "source": [
    "import cuadratica"
   ]
  },
  {
   "cell_type": "markdown",
   "metadata": {
    "slideshow": {
     "slide_type": "fragment"
    }
   },
   "source": [
    "El módulo `cuadratica` importado funciona como \"*espacio de nombres*\", donde todos los objetos definidos dentro son atributos"
   ]
  },
  {
   "cell_type": "code",
   "execution_count": null,
   "metadata": {
    "slideshow": {
     "slide_type": "fragment"
    }
   },
   "outputs": [],
   "source": [
    "cuadratica.raices"
   ]
  },
  {
   "cell_type": "code",
   "execution_count": null,
   "metadata": {
    "slideshow": {
     "slide_type": "fragment"
    }
   },
   "outputs": [],
   "source": [
    "cuadratica.raices(3, 2, -1)"
   ]
  },
  {
   "cell_type": "code",
   "execution_count": null,
   "metadata": {
    "slideshow": {
     "slide_type": "fragment"
    }
   },
   "outputs": [],
   "source": [
    "cuadratica.raices(3, 2, 1)"
   ]
  },
  {
   "cell_type": "markdown",
   "metadata": {
    "slideshow": {
     "slide_type": "subslide"
    }
   },
   "source": [
    "Importar un módulo es importar un \"*espacio de nombres*\", donde todo lo que el módulo contenga (funciones, clases, constantes, etc.) se accederá como un atributo del módulo de la forma  `módulo.<objeto>`\n",
    "\n",
    "Cuando el nombre del espacio de nombres es muy largo, podemos ponerle un alias\n"
   ]
  },
  {
   "cell_type": "code",
   "execution_count": null,
   "metadata": {
    "slideshow": {
     "slide_type": "fragment"
    }
   },
   "outputs": [],
   "source": [
    "import cuadratica as cuad   # igual que la primera forma pero poniendole un alias (mas breve). \n",
    "\n",
    "cuad.raices(24,6,-5)"
   ]
  },
  {
   "cell_type": "markdown",
   "metadata": {
    "slideshow": {
     "slide_type": "fragment"
    }
   },
   "source": [
    "Si **sólo queremos alguna unidad de código y no todo el módulo**, entonces podemos hacer una importación selectiva"
   ]
  },
  {
   "cell_type": "code",
   "execution_count": null,
   "metadata": {
    "slideshow": {
     "slide_type": "fragment"
    }
   },
   "outputs": [],
   "source": [
    "from cuadratica import raices  # sólo importa el \"objeto\" que indequemos y lo deja \n",
    "                               # en el espacio de nombres desde el que estamos importando"
   ]
  },
  {
   "cell_type": "code",
   "execution_count": null,
   "metadata": {
    "slideshow": {
     "slide_type": "fragment"
    }
   },
   "outputs": [],
   "source": [
    "raices?"
   ]
  },
  {
   "cell_type": "markdown",
   "metadata": {
    "slideshow": {
     "slide_type": "subslide"
    }
   },
   "source": [
    "Si, como sucede en general, el módulo definiera más de una unidad de código (una función, clase, constantes, etc.) podemos usar una tupla para importar varias cosas cosas al espacio de nombres actual. Por ejemplo:\n",
    "\n",
    "      from cuadratica import raices, integral, diferencial \n",
    " \n",
    "Por último, si queremos importar todo pero no usar el prefijo, podemos usar el `*`, pero **esto no es recomendado**.\n",
    "    \n",
    "    from cuadratica import *"
   ]
  },
  {
   "cell_type": "markdown",
   "metadata": {
    "slideshow": {
     "slide_type": "slide"
    }
   },
   "source": [
    "----\n",
    "\n",
    "### Paquetes: módulos de módulos\n",
    "\n",
    "Cuando tenemos muchos módulos que están relacionados es bueno armar un **paquete**. Un paquete de módulos es un simple directorio con un módulo especial llamado `__init__.py` (que puede estar vacio) y tantos módulos y subpaquetes como queramos. \n",
    "\n",
    "\n",
    "Los paquetes se usan igual que un módulo. Por ejemplo, supongamos que tenemos una estructura:\n",
    "\n",
    "    paquete/\n",
    "       __init__.py\n",
    "       modulo.py\n",
    "\n",
    "Puedo importar la `funcion_loca` definida en `modulo.py` así:\n",
    "\n",
    "    from paquete.modulo import funcion_loca \n"
   ]
  },
  {
   "cell_type": "code",
   "execution_count": null,
   "metadata": {
    "slideshow": {
     "slide_type": "notes"
    }
   },
   "outputs": [],
   "source": [
    "%mkdir paquete             # creamos un directorio  \"paquete\""
   ]
  },
  {
   "cell_type": "code",
   "execution_count": null,
   "metadata": {
    "slideshow": {
     "slide_type": "notes"
    }
   },
   "outputs": [],
   "source": [
    "%%writefile paquete/__init__.py         \n",
    " \n",
    " "
   ]
  },
  {
   "cell_type": "code",
   "execution_count": null,
   "metadata": {
    "slideshow": {
     "slide_type": "notes"
    }
   },
   "outputs": [],
   "source": [
    "%%writefile paquete/módulo.py\n",
    "\n",
    "def funcion_loca(w=300,h=200):\n",
    "    _                                      =   (\n",
    "                                        255,\n",
    "                                      lambda\n",
    "                               V       ,B,c\n",
    "                             :c   and Y(V*V+B,B,  c\n",
    "                               -1)if(abs(V)<6)else\n",
    "               (              2+c-4*abs(V)**-.4)/i\n",
    "                 )  ;v,      x=w,h; C = range(-1,v*x \n",
    "                  +1);import  struct; P = struct.pack;M, \\\n",
    "            j  =b'<QIIHHHH',open('img/M.bmp','wb').write; k= v,x,1,24\n",
    "    for X in C or 'Mandelbrot. Adapted to Python3 by @tin_nqn_':\n",
    "        j(b'BM' + P(M, v*x*3+26, 26, 12,*k)) if X==-1 else 0; i,\\\n",
    "            Y=_;j(P(b'BBB',*(lambda T: map(int, (T*80+T**9\n",
    "                  *i-950*T  **99,T*70-880*T**18 + 701*\n",
    "                 T  **9     ,T*i**(1-T**45*2))))(sum(\n",
    "               [              Y(0,(A%3/3.+X%v+(X/v+\n",
    "                               A/3/3.-x/2)/1j)*2.5\n",
    "                             /x   -2.7,i)**2 for  \\\n",
    "                               A       in C\n",
    "                                      [:9]])\n",
    "                                        /9)\n",
    "                                       )   )"
   ]
  },
  {
   "cell_type": "code",
   "execution_count": null,
   "metadata": {
    "slideshow": {
     "slide_type": "notes"
    }
   },
   "outputs": [],
   "source": [
    "from paquete import módulo as m # import funcion_loca\n",
    "m.funcion_loca()\n",
    "\n",
    "# podes ver el resultado creando una celda tipo Markdown con el contenido:\n",
    "#\n",
    "# ![](img/M.bmp)"
   ]
  },
  {
   "cell_type": "markdown",
   "metadata": {
    "slideshow": {
     "slide_type": "notes"
    }
   },
   "source": [
    "![M](img/M.bmp)"
   ]
  },
  {
   "cell_type": "code",
   "execution_count": null,
   "metadata": {
    "slideshow": {
     "slide_type": "notes"
    }
   },
   "outputs": [],
   "source": [
    "from paquete import cuadratica as cuad\n",
    "\n",
    "cuad.raices(24,6,-5)"
   ]
  },
  {
   "cell_type": "markdown",
   "metadata": {
    "slideshow": {
     "slide_type": "slide"
    }
   },
   "source": [
    "----\n",
    "\n",
    "## Biblioteca estándar: las baterías puestas de Python\n",
    "\n",
    "Sin entrar en detalles, ya utilizamos algunos módulos que trae python, por ejemplo cuando importamos el módulo `math` para usar las funciones matemáticas y constantes que define\n",
    "    \n",
    "    import math\n",
    "\n",
    "Hay muchísimas más funcionalidades que vienen incorporadas al lenguaje y están estandarizadas para que funcionen (salvo casos específicos) de la misma manera en cualquier implementación de Python y sistema operativo. Es lo que se conoce como la [biblioteca estándar de python](http://docs.python.org/3/library/), que es muy abarcadora y potente. \n",
    "\n",
    "Además de funciones matemáticas, manejo de algunos formatos de archivos más específicos que el \"texto plano\", protocolos de internet, otras *clases* de números y estructuras de datos,  etc.\n",
    "\n",
    "Python es un lenguaje muy completo pero, aunque es muy grande, su librería estándar no es infinita. Por suerte hay [miles y miles de bibliotecas extras](https://pypi.python.org) para complementar casi cualquier aspecto en el que queramos aplicar Python. En algunos ámbitos, con soluciones muy destacadas.\n"
   ]
  },
  {
   "cell_type": "markdown",
   "metadata": {
    "slideshow": {
     "slide_type": "slide"
    }
   },
   "source": [
    "## CSV\n",
    "\n",
    "[CSV](https://es.wikipedia.org/wiki/CSV) (Comma Separated Values) es un formato de archivo abierto (un archivo de texto) para datos compartir datos estructurados tipo tabla. \n",
    "\n",
    "Es muy simple y básica pero muy usado para intercambiar información estructurada entre distintos programas. Por ejemplo, desde Excel o Libreoffice Calc se pueden guardar (y abrir) archivos `.csv`. Python posee un módulo específico para tratar este tipo de archivos. \n",
    "\n",
    "Ver [documentación](https://docs.python.org/3/library/csv.html)\n"
   ]
  },
  {
   "cell_type": "code",
   "execution_count": 7,
   "metadata": {
    "slideshow": {
     "slide_type": "subslide"
    }
   },
   "outputs": [
    {
     "name": "stdout",
     "output_type": "stream",
     "text": [
      "Component,Mol fraction\r\n",
      "n2,0.46\r\n",
      "co2,3.36\r\n",
      "c1,62.36\r\n",
      "c2,8.9\r\n",
      "c3,5.31\r\n",
      "c4,3.01\r\n",
      "c5,1.5\r\n",
      "c6,1.05\r\n",
      "c7,2.0\r\n",
      "c7+,12.049\r\n"
     ]
    }
   ],
   "source": [
    "!cat data/near_critical_oil.csv"
   ]
  },
  {
   "cell_type": "markdown",
   "metadata": {
    "slideshow": {
     "slide_type": "subslide"
    }
   },
   "source": [
    "Para leer desde un archivo `.csv`:"
   ]
  },
  {
   "cell_type": "code",
   "execution_count": null,
   "metadata": {
    "slideshow": {
     "slide_type": "fragment"
    }
   },
   "outputs": [],
   "source": [
    "import csv\n",
    "\n",
    "with open('data/near_critical_oil.csv') as csv_file:\n",
    "    reader = csv.reader(csv_file)\n",
    "    \n",
    "    critical_oil = [line for line in reader]   #también se puede usar: `list(reader)`\n",
    "    \n",
    "critical_oil"
   ]
  },
  {
   "cell_type": "markdown",
   "metadata": {
    "slideshow": {
     "slide_type": "subslide"
    }
   },
   "source": [
    "Para escribir en un archivo `.csv`, creamos un objeto `writer`:"
   ]
  },
  {
   "cell_type": "code",
   "execution_count": null,
   "metadata": {
    "slideshow": {
     "slide_type": "fragment"
    }
   },
   "outputs": [],
   "source": [
    "datos = [('Nombre', 'Peso'), ('Juan', 92), ('La \"Mole\" Moli', 121), ('Martín', '5 kilos de más')]\n",
    "\n",
    "with open('data/pesos.csv', 'w') as pesos_csv:\n",
    "    writer = csv.writer(pesos_csv)\n",
    "    writer.writerows(datos)"
   ]
  },
  {
   "cell_type": "code",
   "execution_count": null,
   "metadata": {
    "slideshow": {
     "slide_type": "fragment"
    }
   },
   "outputs": [],
   "source": [
    "%cat data/pesos.csv"
   ]
  },
  {
   "cell_type": "markdown",
   "metadata": {
    "slideshow": {
     "slide_type": "slide"
    }
   },
   "source": [
    "## Números aleatorios\n",
    "\n",
    "Todas las funciones relacionadas a la aleatoriedad están en el módulo `random`. \n",
    "\n",
    "Ver [documentación](https://docs.python.org/3/library/random.html)"
   ]
  },
  {
   "cell_type": "code",
   "execution_count": null,
   "metadata": {
    "slideshow": {
     "slide_type": "fragment"
    }
   },
   "outputs": [],
   "source": [
    "import random\n",
    "\n",
    "# la función más básica\n",
    "random.random()           # float aleatorio, 0.0 <= x < 1.0"
   ]
  },
  {
   "cell_type": "code",
   "execution_count": null,
   "metadata": {
    "slideshow": {
     "slide_type": "fragment"
    }
   },
   "outputs": [],
   "source": [
    "random.randrange(-10, 11, 2)           # análogo a range() devuelve un numero aleatorio de la serie"
   ]
  },
  {
   "cell_type": "code",
   "execution_count": null,
   "metadata": {
    "slideshow": {
     "slide_type": "fragment"
    }
   },
   "outputs": [],
   "source": [
    "random.choice([0.3, 10, 'A'])     # elige un elemento al azar de una secuencia no vacía"
   ]
  },
  {
   "cell_type": "code",
   "execution_count": null,
   "metadata": {
    "slideshow": {
     "slide_type": "fragment"
    }
   },
   "outputs": [],
   "source": [
    "l = list(range(10))\n",
    "random.sample(l, k=5)      # elige k elementos de la poblacion dada "
   ]
  },
  {
   "cell_type": "code",
   "execution_count": null,
   "metadata": {
    "slideshow": {
     "slide_type": "fragment"
    }
   },
   "outputs": [],
   "source": [
    "random.shuffle(l)       # \"desordena\" una lista (inline)\n",
    "l"
   ]
  },
  {
   "cell_type": "markdown",
   "metadata": {
    "slideshow": {
     "slide_type": "subslide"
    }
   },
   "source": [
    "También tiene muchas funciones de probabilidad:"
   ]
  },
  {
   "cell_type": "code",
   "execution_count": null,
   "metadata": {
    "slideshow": {
     "slide_type": "fragment"
    }
   },
   "outputs": [],
   "source": [
    "[method for method in dir(random) if method.endswith('variate')]"
   ]
  },
  {
   "cell_type": "code",
   "execution_count": null,
   "metadata": {
    "slideshow": {
     "slide_type": "fragment"
    }
   },
   "outputs": [],
   "source": [
    "random.normalvariate??"
   ]
  },
  {
   "cell_type": "code",
   "execution_count": null,
   "metadata": {
    "slideshow": {
     "slide_type": "fragment"
    }
   },
   "outputs": [],
   "source": [
    "sum(random.normalvariate(1, 0.25) for i in range(10000)) / 10000"
   ]
  },
  {
   "cell_type": "code",
   "execution_count": null,
   "metadata": {
    "slideshow": {
     "slide_type": "fragment"
    }
   },
   "outputs": [],
   "source": [
    "import statistics"
   ]
  },
  {
   "cell_type": "code",
   "execution_count": null,
   "metadata": {
    "slideshow": {
     "slide_type": "fragment"
    }
   },
   "outputs": [],
   "source": [
    "statistics.stdev((random.normalvariate(1, 0.25) for i in range(10000)))"
   ]
  }
 ],
 "metadata": {
  "celltoolbar": "Slideshow",
  "kernelspec": {
   "display_name": "Python 3 (ipykernel)",
   "language": "python",
   "name": "python3"
  },
  "language_info": {
   "codemirror_mode": {
    "name": "ipython",
    "version": 3
   },
   "file_extension": ".py",
   "mimetype": "text/x-python",
   "name": "python",
   "nbconvert_exporter": "python",
   "pygments_lexer": "ipython3",
   "version": "3.9.7"
  }
 },
 "nbformat": 4,
 "nbformat_minor": 4
}
