{
 "cells": [
  {
   "cell_type": "markdown",
   "metadata": {
    "slideshow": {
     "slide_type": "slide"
    }
   },
   "source": [
    "<img align=\"left\" src=\"img/logo-ucm.png\" width=\"25%\">\n",
    "<br/><br/><br/><br/><br/>\n",
    "\n",
    "\n",
    "# [Doctorado en Ingeniería (DocIng)](http://www.docing.ucm.cl/index.html)\n",
    "\n",
    "# [Doctorado en Modelamiento Matemático Aplicado (DM<sub>2</sub>A)](http://vrip.ucm.cl/doctorado-en-modelamiento-matematico-aplicado/)\n",
    "\n",
    "\n",
    "## Computación Científica II: Introducción al curso\n",
    "\n",
    "&nbsp;\n",
    "### Profesor: Dr. Ruber Hernández García\n",
    "\n",
    "<div style=\"overflow: hidden; display: inline-block;\">\n",
    "    <div style=\"display: inline-block; max-width: 20%; max-height: 20%;\">\n",
    "        <a href=\"mailto:rhernandez@ucm.cl\">\n",
    "            <img src=\"img/email.webp\" alt=\"email\" height=\"24px\" width=\"24px\">\n",
    "        </a>\n",
    "    </div>\n",
    "    <div style=\"display: inline-block; max-width: 20%; max-height: 20%;\">\n",
    "        <a href=\"www.ruberhg.com\">\n",
    "            <img src=\"img/website-icon.jpeg\" alt=\"website\" height=\"24px\" width=\"24px\">\n",
    "        </a>\n",
    "    </div>\n",
    "    <div style=\"display: inline-block; max-width: 20%; max-height: 20%;\">\n",
    "        <a href=\"https://orcid.org/0000-0002-9311-1193\">\n",
    "            <img src=\"img/orcid.png\" alt=\"orcid\" height=\"24px\" width=\"24px\">\n",
    "        </a> \n",
    "    </div>\n",
    "    <div style=\"display: inline-block; max-width: 20%; max-height: 20%;\">\n",
    "        <a href=\"https://github.com/ruberhg\" rel=\"nofollow noreferrer\">\n",
    "            <img src=\"img/github.png\" alt=\"github\" height=\"24px\" width=\"24px\">\n",
    "        </a>\n",
    "    </div>\n",
    "</div>\n"
   ]
  },
  {
   "cell_type": "markdown",
   "metadata": {
    "slideshow": {
     "slide_type": "slide"
    }
   },
   "source": [
    "## Competencias asociadas a la Computación Científica\n",
    "\n",
    "* Construir modelos matemáticos y computacionales aplicados a las ciencias e ingeniería.\n",
    "\n",
    "* Utilizar adecuadamente los medios de cómputo de última generación, tales como los supercomputadores o plataformas distribuidas, cuyo funcionamiento difiere sustancialmente de los computadores convencionales o seriales.\n",
    "\n",
    "* Adoptar una línea de investigación en matemática aplicada y computacional.\n",
    "\n",
    "* Abordar satisfactoriamente los problemas de carácter científico o tecnológico en diversos campos de aplicación, produciendo modelos matemáticos y computacionales para su manejo, control y/o solución.\n",
    "\n",
    "* Elaborar software científico propio.\n"
   ]
  },
  {
   "cell_type": "markdown",
   "metadata": {
    "slideshow": {
     "slide_type": "slide"
    }
   },
   "source": [
    "----\n",
    "\n",
    "## Descripción del curso\n",
    "\n",
    "[Programa de la Asignatura](pdf/comp_cientifica-II.pdf)\n",
    "\n",
    "Esta asignatura es la continuación de Computación Científica I para fortalecer las competencias asociadas a la resolución de problemas matemáticos mediante la computación. Al finalizar el curso, el estudiante será capaz de utilizar estructuras de datos, manejo de datos y computación paralela, para resolver problemas de cómputo científico. \n",
    "\n",
    "**RA1.** Resolver problemas de cómputo científico utilizando estructuras de Datos Lineales y no Lineales adecuadas para el problema, en base a consideraciones de eficiencia de tiempos de acceso, utilización de recursos, tipo de implementación y complejidad. (20%)\n",
    "\n",
    "**RA2.** Utilizar técnicas y herramientas de visualización de datos para el análisis de un problema de cómputo científico. (20%)\n",
    "\n",
    "**RA3.** Resolver eficientemente problemas de cómputo científico, usando técnicas de computación paralela junto a la plataforma de hardware adecuada. (60%)"
   ]
  },
  {
   "cell_type": "markdown",
   "metadata": {
    "slideshow": {
     "slide_type": "subslide"
    }
   },
   "source": [
    "## Unidades de Aprendizaje y Ejes Temáticos\n",
    "\n",
    "![unidades](img/unidades-2.png)"
   ]
  },
  {
   "cell_type": "markdown",
   "metadata": {
    "slideshow": {
     "slide_type": "subslide"
    }
   },
   "source": [
    "## Bibliografía básica\n",
    "\n",
    "* Joakim Sundnes (2020): Introduction to Scientific Programming with Python. Simula SpringerBriefs on Computing. https://doi.org/10.1007/978-3-030-50356-7\n",
    "\n",
    "* Chazallet, Sébastien (2016): Python 3: Los fundamentos del lenguaje. Barcelona : Ediciones ENI.\n",
    "\n",
    "* Luis Joyanes Aguilar (2017): FUNDAMENTOS DE PROGRAMACIÓN. Algoritmos, estructura de datos y objetos. Cuarta edición. McGraw Hill.\n",
    "\n",
    "* Tim Grobmann, Mario Dobler, Data Visualization with Python, O’Reilly, 2019.\n",
    "\n",
    "* Qingkai Kong, Timmy Siauw, Alexandre Bayen. Python Programming And Numerical Methods: A Guide For Engineers And Scientists. Academic Press, 2020.\n",
    "\n",
    "* Giancarlo Zaccone, Python Parallel Programming Cookbook, Packt 2019.\n",
    "\n",
    "\n",
    "#### Bibliografía complementaria\n",
    "\n",
    "* Joel Grus, Data Science from Scratch, First Principles with Python, O’Reilly, 2015.\n",
    "\n",
    "* Jake VanderPlas, Python Data Science Handbook Essential Tools for Working with Data, O’Reilly, 2016.\n",
    "\n",
    "* Sam Morley. Applying Math with Python. Packt, 2020."
   ]
  }
 ],
 "metadata": {
  "celltoolbar": "Slideshow",
  "kernelspec": {
   "display_name": "Python 3 (ipykernel)",
   "language": "python",
   "name": "python3"
  },
  "language_info": {
   "codemirror_mode": {
    "name": "ipython",
    "version": 3
   },
   "file_extension": ".py",
   "mimetype": "text/x-python",
   "name": "python",
   "nbconvert_exporter": "python",
   "pygments_lexer": "ipython3",
   "version": "3.9.12"
  }
 },
 "nbformat": 4,
 "nbformat_minor": 4
}
