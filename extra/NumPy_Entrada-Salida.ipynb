{
 "cells": [
  {
   "cell_type": "markdown",
   "metadata": {},
   "source": [
    "# NumPy: Entrada/Salida"
   ]
  },
  {
   "cell_type": "markdown",
   "metadata": {},
   "source": [
    "Con E/S (I/O en inglés) entendemos leer y escribir datos archivos. Es algo que necesitaremos hacer con relativa frecuencia, y en NumPy es muy sencillo de hacer. Para el caso de la **lectura** se usa la función `np.loadtxt`."
   ]
  },
  {
   "cell_type": "code",
   "execution_count": 3,
   "metadata": {
    "scrolled": true
   },
   "outputs": [
    {
     "name": "stdout",
     "output_type": "stream",
     "text": [
      "﻿Estación: Barrio del Pilar;;;;\n",
      "Fecha;Hora;CO;NO2;O3\n",
      ";;mg/m³;µg/m³;µg/m³\n",
      "22/03/2016;01:00;0.2;14;73\n",
      "22/03/2016;02:00;0.2;10;77\n",
      "22/03/2016;03:00;0.2;9;75\n",
      "22/03/2016;04:00;0.2;3;81\n",
      "22/03/2016;05:00;0.2;3;81\n",
      "22/03/2016;06:00;0.2;6;79\n",
      "22/03/2016;07:00;0.2;24;59\n"
     ]
    }
   ],
   "source": [
    "# Linux command \n",
    "!head ../data/barrio_del_pilar-20160322.csv\n",
    "\n",
    "# Windows\n",
    "#!type ..\\data\\barrio_del_pilar-20160322.csv"
   ]
  },
  {
   "cell_type": "markdown",
   "metadata": {},
   "source": [
    "Primero, importamos las librerías que vamos a usar: Numpy y Matplotlib. También usaremos `plt.ion()` para activar el modo interactivo de matplotlib."
   ]
  },
  {
   "cell_type": "code",
   "execution_count": 4,
   "metadata": {},
   "outputs": [],
   "source": [
    "import numpy as np\n",
    "import matplotlib.pyplot as plt"
   ]
  },
  {
   "cell_type": "code",
   "execution_count": 5,
   "metadata": {},
   "outputs": [],
   "source": [
    "plt.ion()"
   ]
  },
  {
   "cell_type": "markdown",
   "metadata": {},
   "source": [
    "### Cargando los datos\n",
    "\n",
    "Usaremos la función `loadtxt` para cargar los datos en un array. Usaremos los argumentos opcionales `skiprows`, `delimiter` y `usecols` para captar los datos que queremos."
   ]
  },
  {
   "cell_type": "code",
   "execution_count": 6,
   "metadata": {
    "scrolled": true
   },
   "outputs": [
    {
     "data": {
      "text/plain": [
       "array([[ 0.2, 14. , 73. ],\n",
       "       [ 0.2, 10. , 77. ],\n",
       "       [ 0.2,  9. , 75. ],\n",
       "       [ 0.2,  3. , 81. ],\n",
       "       [ 0.2,  3. , 81. ],\n",
       "       [ 0.2,  6. , 79. ],\n",
       "       [ 0.2, 24. , 59. ],\n",
       "       [ 0.3, 48. , 37. ],\n",
       "       [ 0.3, 40. , 43. ],\n",
       "       [ 0.3, 41. , 44. ]])"
      ]
     },
     "execution_count": 6,
     "metadata": {},
     "output_type": "execute_result"
    }
   ],
   "source": [
    "# loading the data:\n",
    "# ./data/barrio_del_pilar-20160322.csv\n",
    "data1 = np.loadtxt('../data/barrio_del_pilar-20160322.csv', skiprows=3, delimiter=';', usecols=(2,3,4))\n",
    "data1[:10,:]"
   ]
  },
  {
   "cell_type": "markdown",
   "metadata": {},
   "source": [
    "### Valores inexistentes\n",
    "\n",
    "El archivo que contiene los datos de 2015 tiene algunos agujeros por errores de medida. Como alternativa a `loadtxt`, podremos usar la función `genfromtxt`, teniendo cuidado de que el ella el argumento opcional de saltar líneas pasa a llamarse `skip_header`."
   ]
  },
  {
   "cell_type": "code",
   "execution_count": 8,
   "metadata": {},
   "outputs": [
    {
     "data": {
      "text/plain": [
       "array([[ 0.5, 65. ,  7. ],\n",
       "       [ 0.4, 50. ,  7. ],\n",
       "       [ 0.3, 37. , 11. ],\n",
       "       [ 0.3, 37. , 10. ],\n",
       "       [ 0.3, 29. , 17. ],\n",
       "       [ 0.3, 36. , 13. ],\n",
       "       [ 0.3, 47. ,  7. ],\n",
       "       [ 0.4, 57. ,  6. ],\n",
       "       [ 0.5, 67. ,  6. ],\n",
       "       [ 0.5, 69. ,  8. ]])"
      ]
     },
     "execution_count": 8,
     "metadata": {},
     "output_type": "execute_result"
    }
   ],
   "source": [
    "#Loading the data 2:\n",
    "#../data/barrio_del_pilar-20151222.csv\n",
    "data2 = np.genfromtxt('../data/barrio_del_pilar-20151222.csv', skip_header=3, delimiter=';', usecols=(2,3,4))\n",
    "data2[:10,:]"
   ]
  },
  {
   "cell_type": "markdown",
   "metadata": {},
   "source": [
    "Podemos comprobar como afecta la existencia de estos valores a algunas funciones de Numpy, como `np.mean`. A veces es posible esquivar estos problemas con otras funciones como `np.nanmean`."
   ]
  },
  {
   "cell_type": "code",
   "execution_count": 9,
   "metadata": {},
   "outputs": [
    {
     "data": {
      "text/plain": [
       "array([nan, nan, nan])"
      ]
     },
     "execution_count": 9,
     "metadata": {},
     "output_type": "execute_result"
    }
   ],
   "source": [
    "np.mean(data2, axis=0)"
   ]
  },
  {
   "cell_type": "code",
   "execution_count": 10,
   "metadata": {
    "scrolled": true
   },
   "outputs": [
    {
     "data": {
      "text/plain": [
       "array([ 0.64179894, 67.57671958, 17.3       ])"
      ]
     },
     "execution_count": 10,
     "metadata": {},
     "output_type": "execute_result"
    }
   ],
   "source": [
    "np.nanmean(data2, axis=0)"
   ]
  },
  {
   "cell_type": "markdown",
   "metadata": {},
   "source": [
    "Probemos a calcular la diferencia entre ambos años:"
   ]
  },
  {
   "cell_type": "code",
   "execution_count": 11,
   "metadata": {},
   "outputs": [
    {
     "data": {
      "text/plain": [
       "array([[ -0.3, -51. ,  66. ],\n",
       "       [ -0.2, -40. ,  70. ],\n",
       "       [ -0.1, -28. ,  64. ],\n",
       "       [ -0.1, -34. ,  71. ],\n",
       "       [ -0.1, -26. ,  64. ],\n",
       "       [ -0.1, -30. ,  66. ],\n",
       "       [ -0.1, -23. ,  52. ],\n",
       "       [ -0.1,  -9. ,  31. ],\n",
       "       [ -0.2, -27. ,  37. ],\n",
       "       [ -0.2, -28. ,  36. ]])"
      ]
     },
     "execution_count": 11,
     "metadata": {},
     "output_type": "execute_result"
    }
   ],
   "source": [
    "data_dif = data1 - data2\n",
    "data_dif[:10,:]"
   ]
  },
  {
   "cell_type": "markdown",
   "metadata": {},
   "source": [
    "### Guardar los datos nuevos\n",
    "\n",
    "Supongamos que ahora queremos guardar nuestra tabla de datos en un archivo txt, para poder cargarlo ya modificado más adelante. Una manera fácil de hacerlo sería con otra función de NumPy: `np.savetxt`. Lo usaremos con los argumentos opcionales `fmt='%9.3f', newline = '\\r\\n'` para obtener un fichero bonito que podamos entender de un vistazo."
   ]
  },
  {
   "cell_type": "code",
   "execution_count": 12,
   "metadata": {},
   "outputs": [],
   "source": [
    "np.savetxt('../data/diferencia_interanual.txt', data_dif, fmt='%9.3f', newline = '\\r\\n')"
   ]
  },
  {
   "cell_type": "markdown",
   "metadata": {},
   "source": [
    "### Pintando los datos"
   ]
  },
  {
   "cell_type": "markdown",
   "metadata": {},
   "source": [
    "* NO2\n",
    "    - Media anual: 40 µg/m3\n",
    "    - Media horaria: 200 µg/m3"
   ]
  },
  {
   "cell_type": "code",
   "execution_count": 13,
   "metadata": {},
   "outputs": [
    {
     "data": {
      "text/plain": [
       "(0, 220)"
      ]
     },
     "execution_count": 13,
     "metadata": {},
     "output_type": "execute_result"
    },
    {
     "data": {
      "image/png": "[encoded data removed]",
      "text/plain": [
       "<Figure size 432x288 with 1 Axes>"
      ]
     },
     "metadata": {
      "needs_background": "light"
     },
     "output_type": "display_data"
    }
   ],
   "source": [
    "plt.plot(data1[:, 1], label='2016')\n",
    "plt.plot(data2[:, 1], label='2015')\n",
    "\n",
    "plt.legend()\n",
    "\n",
    "plt.hlines(200, 0, 200, linestyles='--')\n",
    "plt.hlines(40, 0, 200, linestyles='--')\n",
    "plt.ylim(0, 220)"
   ]
  },
  {
   "cell_type": "markdown",
   "metadata": {},
   "source": [
    "* CO \n",
    "    - Máxima diaria de las medias móviles octohorarias: 10 mg/m³"
   ]
  },
  {
   "cell_type": "code",
   "execution_count": 14,
   "metadata": {},
   "outputs": [],
   "source": [
    "# http://docs.scipy.org/doc/numpy-1.10.0/reference/generated/numpy.convolve.html\n",
    "def moving_average(x, N=8):\n",
    "    return np.convolve(x, np.ones(N)/N, mode='same')"
   ]
  },
  {
   "cell_type": "code",
   "execution_count": 15,
   "metadata": {},
   "outputs": [
    {
     "data": {
      "text/plain": [
       "<matplotlib.legend.Legend at 0x11d5e6410>"
      ]
     },
     "execution_count": 15,
     "metadata": {},
     "output_type": "execute_result"
    },
    {
     "data": {
      "image/png": "[encoded data removed]",
      "text/plain": [
       "<Figure size 432x288 with 1 Axes>"
      ]
     },
     "metadata": {
      "needs_background": "light"
     },
     "output_type": "display_data"
    }
   ],
   "source": [
    "plt.plot(moving_average(data1[:, 0]), label='2016')\n",
    "\n",
    "plt.plot(moving_average(data2[:, 0]), label='2015')\n",
    "\n",
    "plt.hlines(10, 0, 250, linestyles='--')\n",
    "plt.ylim(0, 11)\n",
    "\n",
    "plt.legend()"
   ]
  },
  {
   "cell_type": "markdown",
   "metadata": {},
   "source": [
    "* O3\n",
    "    - Máxima diaria de las medias móviles octohorarias: 120 µg/m3\n",
    "    - Umbral de información. 180 µg/m3\n",
    "    - Media horaria. Umbral de alerta. 240 µg/m3"
   ]
  },
  {
   "cell_type": "code",
   "execution_count": 16,
   "metadata": {},
   "outputs": [
    {
     "data": {
      "text/plain": [
       "<matplotlib.legend.Legend at 0x11d6bd190>"
      ]
     },
     "execution_count": 16,
     "metadata": {},
     "output_type": "execute_result"
    },
    {
     "data": {
      "image/png": "[encoded data removed]",
      "text/plain": [
       "<Figure size 432x288 with 1 Axes>"
      ]
     },
     "metadata": {
      "needs_background": "light"
     },
     "output_type": "display_data"
    }
   ],
   "source": [
    "plt.plot(moving_average(data1[:, 2]), label='2016')\n",
    "#plt.plot(data1[:, 2])\n",
    "\n",
    "plt.plot(moving_average(data2[:, 2]), label='2015')\n",
    "#plt.plot(data2[:, 2])\n",
    "\n",
    "plt.hlines(180, 0, 250, linestyles='--')\n",
    "plt.ylim(0, 190)\n",
    "\n",
    "plt.legend()"
   ]
  },
  {
   "cell_type": "markdown",
   "metadata": {},
   "source": [
    "## ¿Cómo leeríamos un archivo sin usar NumPy?"
   ]
  },
  {
   "cell_type": "code",
   "execution_count": 16,
   "metadata": {},
   "outputs": [],
   "source": [
    "data_file = '../data/barrio_del_pilar-20151222.csv'"
   ]
  },
  {
   "cell_type": "code",
   "execution_count": null,
   "metadata": {},
   "outputs": [],
   "source": [
    "data = []\n",
    "\n",
    "with open(data_file) as f:\n",
    "    # Saltamos las tres primeras líneas\n",
    "    for ii in range(3):\n",
    "        f.readline()\n",
    "    \n",
    "    for line in f:\n",
    "        line_string = line\n",
    "        line_list = line.split(';')\n",
    "        \n",
    "        date = line_list[0]\n",
    "        hour = line_list[1]\n",
    "        \n",
    "        components_data = []\n",
    "        for c in line_list[2:]:\n",
    "            if '-' not in c:\n",
    "                components_data.append(float(c))\n",
    "            else:\n",
    "                components_data.append(np.nan)\n",
    "        data.append(components_data)\n",
    "        \n",
    "print(np.array(data))    "
   ]
  }
 ],
 "metadata": {
  "anaconda-cloud": {},
  "kernelspec": {
   "display_name": "Python 3 (ipykernel)",
   "language": "python",
   "name": "python3"
  },
  "language_info": {
   "codemirror_mode": {
    "name": "ipython",
    "version": 3
   },
   "file_extension": ".py",
   "mimetype": "text/x-python",
   "name": "python",
   "nbconvert_exporter": "python",
   "pygments_lexer": "ipython3",
   "version": "3.9.7"
  }
 },
 "nbformat": 4,
 "nbformat_minor": 4
}
