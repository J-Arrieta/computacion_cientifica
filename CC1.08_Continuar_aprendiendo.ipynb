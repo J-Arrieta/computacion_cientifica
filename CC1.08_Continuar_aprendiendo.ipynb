{
 "cells": [
  {
   "cell_type": "markdown",
   "metadata": {},
   "source": [
    "<img align=\"left\" src=\"img/logo-ucm.png\" width=\"25%\">\n",
    "<br/><br/><br/><br/><br/>\n",
    "\n",
    "\n",
    "# [Doctorado en Ingeniería (DocIng)](http://www.docing.ucm.cl/index.html)\n",
    "\n",
    "# [Doctorado en Modelamiento Matemático Aplicado (DM<sub>2</sub>A)](http://vrip.ucm.cl/doctorado-en-modelamiento-matematico-aplicado/)\n",
    "\n",
    "\n",
    "## Computación Científica I: Introducción a Python para la Investigación. \n",
    "### Para seguir aprendiendo\n",
    "\n",
    "&nbsp;\n",
    "### Profesor: Dr. Ruber Hernández García\n",
    "\n",
    "<div style=\"overflow: hidden; display: inline-block;\">\n",
    "    <div style=\"display: inline-block; max-width: 20%; max-height: 20%;\">\n",
    "        <a href=\"mailto:rhernandez@ucm.cl\">\n",
    "            <img src=\"img/email.webp\" alt=\"email\" height=\"24px\" width=\"24px\">\n",
    "        </a>\n",
    "    </div>\n",
    "    <div style=\"display: inline-block; max-width: 20%; max-height: 20%;\">\n",
    "        <a href=\"www.ruberhg.com\">\n",
    "            <img src=\"img/website-icon.jpeg\" alt=\"website\" height=\"24px\" width=\"24px\">\n",
    "        </a>\n",
    "    </div>\n",
    "    <div style=\"display: inline-block; max-width: 20%; max-height: 20%;\">\n",
    "        <a href=\"https://orcid.org/0000-0002-9311-1193\">\n",
    "            <img src=\"img/orcid.png\" alt=\"orcid\" height=\"24px\" width=\"24px\">\n",
    "        </a> \n",
    "    </div>\n",
    "    <div style=\"display: inline-block; max-width: 20%; max-height: 20%;\">\n",
    "        <a href=\"https://github.com/ruberhg\" rel=\"nofollow noreferrer\">\n",
    "            <img src=\"img/github.png\" alt=\"github\" height=\"24px\" width=\"24px\">\n",
    "        </a>\n",
    "    </div>\n",
    "</div>\n",
    "\n"
   ]
  },
  {
   "cell_type": "markdown",
   "metadata": {},
   "source": [
    "---"
   ]
  },
  {
   "cell_type": "markdown",
   "metadata": {},
   "source": [
    "## ¿Cómo seguir con Python?"
   ]
  },
  {
   "cell_type": "markdown",
   "metadata": {},
   "source": [
    "El universo Python es muy amplio y se hace muy difícil poder abarcarlo en tan breve tiempo. Lo más importante es que hayan podido aprender las nociones básicas y puedan seguir profundizando si les interesa el tema. \n",
    "\n",
    "__A continuación, les dejo algunas ideas sobre cómo seguir aprendiendo Python y sus posibles herramientas orientadas a la investigación.__"
   ]
  },
  {
   "cell_type": "markdown",
   "metadata": {},
   "source": [
    "### Algunos libros y enlaces"
   ]
  },
  {
   "cell_type": "markdown",
   "metadata": {},
   "source": [
    "* Libro [\"Automate the Boring Stuff with Python\" by Al Sweigart](http://automatetheboringstuff.com/): lectura gratuita en línea bajo licencia Creative Commons. [EN]\n",
    "* [Recopilatorio de recursos \"Grupo de Iniciación de Python Madrid\"](https://python-madrid.github.io/learn-doc/): amplio recopilatorio de documentación, manuales y tutoriales. [ES][EN]\n",
    "* [Scipy Lecture Notes](http://scipy-lectures.org/): tutoriales sobre el ecosistema científico de Python. Los diferentes capítulos corresponden a un curso de 1 a 2 horas con un nivel creciente de experiencia, desde principiante hasta experto. [EN]\n",
    "* Libro [\"Python Data Science Handbook\" by Jake VanderPlas](http://shop.oreilly.com/product/0636920034919): contenido disponible en [GitHub](https://github.com/jakevdp/PythonDataScienceHandbook). [EN]\n",
    "* Libro [\"How to Think Like a Computer Scientist 2nd Ed.\"](https://greenteapress.com/wp/think-python-2e/): es de conceptos generales de programación usando Python.[EN] (ver copia en directorio `extra`).\n",
    "* Libro [\"A Byte of Python\"](https://python.swaroopch.com/): es un libro para iniciarse en Python, el autor proclama que es para quien lo unico que sabe de computación es grabar un archivo. [EN]\n",
    "* The Python Tutorial: presenta muchas de las características más notables de Python, y le dará una buena idea del sabor y el estilo del lenguaje. Versión en [Español](https://tutorial.python.org.ar/en/latest/) y en [Inglés](https://docs.python.org/3/tutorial/index.html)."
   ]
  },
  {
   "cell_type": "markdown",
   "metadata": {},
   "source": [
    "### Webs interesantes\n",
    "* Web oficial [Python Software Foundation](https://www.python.org/). [EN]\n",
    "* Proyecto [Pybonacci](http://www.pybonacci.org/): blog sobre el uso de Python para aplicaciones científicas. [ES]\n",
    "* El blog de Python [j2LOGO](https://j2logo.com/): blog de Python en español, contiene tutoriales, manuales, cursos, guías, ejercicios y recursos variados. [ES]\n",
    "* [Software-Carpentry](https://software-carpentry.org/lessons/): talleres de Python, Linux, SQL, GitHub. [EN]"
   ]
  },
  {
   "cell_type": "markdown",
   "metadata": {},
   "source": [
    "### Cursos\n",
    "* Curso de Python para científicos e ingenieros [ES]\n",
    "\n",
    "<a href=\"http://cacheme.org/curso-online-python-cientifico-ingenieros/\" target=\"_blank\"><img src=\"https://github.com/CAChemE/curso-python-datos/raw/master/images/curso-online-python.png\" \n",
    "alt=\"IMAGE ALT TEXT HERE\" width=\"340\" height=\"180\" border=\"10\" /></a>\n",
    "* [A gallery of interesting Jupyter and IPython Notebooks](https://github.com/jupyter/jupyter/wiki/A-gallery-of-interesting-Jupyter-Notebooks) [EN]\n",
    " \n",
    "\n",
    "### ¿Dónde pedir ayuda?\n",
    "* [ES] [StackOverflow](https://es.stackoverflow.com/?tags=python)"
   ]
  },
  {
   "cell_type": "markdown",
   "metadata": {},
   "source": [
    "-----\n",
    "\n",
    "## Referencias y/o créditos\n",
    "\n",
    "\n",
    "Parte de los materiales de este taller han sido inspirados y/o adaptados de múltiples fuentes:\n",
    "\n",
    "* [Curso AeroPython](https://github.com/AeroPython/Curso_AeroPython/)\n",
    "* [Curso de Python para ciencias e ingenierías](https://github.com/mgaitan/curso-python-cientifico) de Martín Gaitán.\n",
    "* [Scipy Lectures](http://scipy-lectures.org/)\n",
    "* [Scientific Python Lectures](https://github.com/jrjohansson/scientific-python-lectures) de J.R. Johansson.\n",
    "* [El tutorial de Python](https://tutorial.python.org.ar/en/latest/) traducción al castellano por la comunidad `Python Argentina <http://python.org.ar/>`."
   ]
  }
 ],
 "metadata": {
  "anaconda-cloud": {},
  "kernelspec": {
   "display_name": "Python 3 (ipykernel)",
   "language": "python",
   "name": "python3"
  },
  "language_info": {
   "codemirror_mode": {
    "name": "ipython",
    "version": 3
   },
   "file_extension": ".py",
   "mimetype": "text/x-python",
   "name": "python",
   "nbconvert_exporter": "python",
   "pygments_lexer": "ipython3",
   "version": "3.9.7"
  }
 },
 "nbformat": 4,
 "nbformat_minor": 4
}
