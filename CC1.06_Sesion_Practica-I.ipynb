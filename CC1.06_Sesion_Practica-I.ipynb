{
 "cells": [
  {
   "cell_type": "markdown",
   "id": "e8582856",
   "metadata": {
    "slideshow": {
     "slide_type": "slide"
    }
   },
   "source": [
    "<img align=\"left\" src=\"img/logo-ucm.png\" width=\"25%\">\n",
    "<br/><br/><br/><br/><br/>\n",
    "\n",
    "\n",
    "# [Doctorado en Ingeniería (DocIng)](http://www.docing.ucm.cl/index.html)\n",
    "\n",
    "# [Doctorado en Modelamiento Matemático Aplicado (DM<sub>2</sub>A)](http://vrip.ucm.cl/doctorado-en-modelamiento-matematico-aplicado/)\n",
    "\n",
    "\n",
    "## Computación Científica I: Introducción a Python para la Investigación. \n",
    "### Sesión Practica 1\n",
    "\n",
    "&nbsp;\n",
    "### Profesor: Dr. Ruber Hernández García\n",
    "\n",
    "<div style=\"overflow: hidden; display: inline-block;\">\n",
    "    <div style=\"display: inline-block; max-width: 20%; max-height: 20%;\">\n",
    "        <a href=\"mailto:rhernandez@ucm.cl\">\n",
    "            <img src=\"img/email.webp\" alt=\"email\" height=\"24px\" width=\"24px\">\n",
    "        </a>\n",
    "    </div>\n",
    "    <div style=\"display: inline-block; max-width: 20%; max-height: 20%;\">\n",
    "        <a href=\"www.ruberhg.com\">\n",
    "            <img src=\"img/website-icon.jpeg\" alt=\"website\" height=\"24px\" width=\"24px\">\n",
    "        </a>\n",
    "    </div>\n",
    "    <div style=\"display: inline-block; max-width: 20%; max-height: 20%;\">\n",
    "        <a href=\"https://orcid.org/0000-0002-9311-1193\">\n",
    "            <img src=\"img/orcid.png\" alt=\"orcid\" height=\"24px\" width=\"24px\">\n",
    "        </a> \n",
    "    </div>\n",
    "    <div style=\"display: inline-block; max-width: 20%; max-height: 20%;\">\n",
    "        <a href=\"https://github.com/ruberhg\" rel=\"nofollow noreferrer\">\n",
    "            <img src=\"img/github.png\" alt=\"github\" height=\"24px\" width=\"24px\">\n",
    "        </a>\n",
    "    </div>\n",
    "</div>\n",
    "\n"
   ]
  },
  {
   "cell_type": "markdown",
   "id": "86f7c94a",
   "metadata": {
    "slideshow": {
     "slide_type": "slide"
    }
   },
   "source": [
    "## Evitando errores: mejores prácticas de codificación\n",
    "\n",
    "* Todos escribimos código con errores. Hay que aceptarlo saber tratar con ellos.\n",
    "* Escriba su código teniendo en cuenta las pruebas y la depuración.\n",
    "* Mantenga el código simple, casi para tontos. ¿Qué es lo más simple que podría funcionar?\n",
    "* No te repitas. Cada variable, constante, proceso, algoritmo, clase o módulo debe tener una representación única y inequívoca dentro del sistema.\n",
    "* Dé a sus variables, funciones y módulos nombres significativos (no nombres matemáticos)\n"
   ]
  },
  {
   "cell_type": "markdown",
   "id": "d798d065",
   "metadata": {
    "slideshow": {
     "slide_type": "slide"
    }
   },
   "source": [
    "## Estrategias de depuración 1/2\n",
    "\n",
    "Si tiene un error no trivial, aquí es cuando se activan las estrategias de depuración. \n",
    "\n",
    "_Para depurar un problema dado, la situación favorable es cuando el problema está aislado en una pequeña cantidad de líneas de código, fuera del framework o del código de la aplicación, con ciclos cortos de modificar-ejecutar-fallar._\n"
   ]
  },
  {
   "cell_type": "markdown",
   "id": "55f69db7",
   "metadata": {
    "slideshow": {
     "slide_type": "subslide"
    }
   },
   "source": [
    "## Estrategias de depuración 2/2\n",
    "\n",
    "\"No hay una bala de plata\", pero las siguientes estrategias ayudan a:\n",
    "\n",
    "1. Haz que falle de forma fiable. Encuentre un caso de prueba que haga que el código falle siempre.\n",
    "2. Divide y vencerás. Una vez que tenga un caso de prueba fallido, aísle el código fallido. \n",
    "    * Cuál modulo. \n",
    "    * Cuál función. \n",
    "    * Qué línea de código.\n",
    "3. Cambia una cosa a la vez y vuelva a ejecutar el caso de prueba fallido.\n",
    "4. Toma notas y sé paciente. Puede tomar un tiempo.\n",
    "5. Las instrucciones de impresión <code>print</code> funcionan como una herramienta de depuración. Sin embargo, para inspeccionar en tiempo de ejecución, a menudo es más eficiente usar el depurador <code>pdb</code> (https://docs.python.org/library/pdb.html) de forma interactiva. En concreto te permite:\n",
    "    * Ver el código fuente. \n",
    "    * Sube y baja por la pila de llamadas. \n",
    "    * Inspeccionar valores de variables. \n",
    "    * Modificar valores de variables. \n",
    "    * Establecer puntos de interrupción (breakpoint)."
   ]
  },
  {
   "cell_type": "markdown",
   "id": "c70dc2dc",
   "metadata": {
    "slideshow": {
     "slide_type": "slide"
    }
   },
   "source": [
    "## Desarrollo incremental 1/2\n",
    "\n",
    "A medida que escriba funciones más grandes, es posible que se necesite más tiempo de depuración de errores.\n",
    "\n",
    "Para hacer frente a programas cada vez más complejos, se recomienda probar un proceso llamado **desarrollo incremental**. El objetivo del desarrollo incremental es evitar largas sesiones de depuración añadiendo y probando sólo una pequeña cantidad de código cada vez. Una muy buena herramienta para esto son los **jupyter notebooks**."
   ]
  },
  {
   "cell_type": "markdown",
   "id": "951ec556",
   "metadata": {
    "slideshow": {
     "slide_type": "subslide"
    }
   },
   "source": [
    "## Desarrollo incremental 2/2\n",
    "\n",
    "Como ejemplo, supongamos que queremos encontrar la distancia entre dos puntos, dados por las coordenadas $(x_1, y_1)$ y $(x_2, y_2)$. Por el teorema de Pitágoras, la distancia es:\n",
    "\n",
    "\\begin{align}\n",
    "distance=\\sqrt{(x_2-x_1)^2+(y_2-y_1)^2}\n",
    "\\end{align}"
   ]
  },
  {
   "cell_type": "code",
   "execution_count": 10,
   "id": "351a2eb7",
   "metadata": {
    "slideshow": {
     "slide_type": "fragment"
    }
   },
   "outputs": [
    {
     "data": {
      "text/plain": [
       "0.0"
      ]
     },
     "execution_count": 10,
     "metadata": {},
     "output_type": "execute_result"
    }
   ],
   "source": [
    "def distance(x1, y1, x2, y2):\n",
    "    return 0.0\n",
    "\n",
    "distance(1, 2, 4, 6)"
   ]
  },
  {
   "cell_type": "code",
   "execution_count": 5,
   "id": "9ad900f3",
   "metadata": {
    "slideshow": {
     "slide_type": "subslide"
    }
   },
   "outputs": [
    {
     "name": "stdout",
     "output_type": "stream",
     "text": [
      "dx is 3\n",
      "dy is 4\n"
     ]
    },
    {
     "data": {
      "text/plain": [
       "0.0"
      ]
     },
     "execution_count": 5,
     "metadata": {},
     "output_type": "execute_result"
    }
   ],
   "source": [
    "def distance(x1, y1, x2, y2):\n",
    "    dx = x2 - x1\n",
    "    dy = y2 - y1\n",
    "    print('dx is', dx)\n",
    "    print('dy is', dy)\n",
    "    return 0.0\n",
    "\n",
    "distance(1, 2, 4, 6)"
   ]
  },
  {
   "cell_type": "code",
   "execution_count": 7,
   "id": "d9690bb3",
   "metadata": {
    "slideshow": {
     "slide_type": "subslide"
    }
   },
   "outputs": [
    {
     "name": "stdout",
     "output_type": "stream",
     "text": [
      "dsquared is:  25\n"
     ]
    },
    {
     "data": {
      "text/plain": [
       "0.0"
      ]
     },
     "execution_count": 7,
     "metadata": {},
     "output_type": "execute_result"
    }
   ],
   "source": [
    "def distance(x1, y1, x2, y2):\n",
    "    dx = x2 - x1\n",
    "    dy = y2 - y1\n",
    "    dsquared = dx**2 + dy**2\n",
    "    print('dsquared is: ', dsquared)\n",
    "    return 0.0\n",
    "\n",
    "distance(1, 2, 4, 6)"
   ]
  },
  {
   "cell_type": "code",
   "execution_count": 9,
   "id": "ecdb37d0",
   "metadata": {
    "slideshow": {
     "slide_type": "fragment"
    }
   },
   "outputs": [
    {
     "data": {
      "text/plain": [
       "5.0"
      ]
     },
     "execution_count": 9,
     "metadata": {},
     "output_type": "execute_result"
    }
   ],
   "source": [
    "import math\n",
    "\n",
    "def distance(x1, y1, x2, y2):\n",
    "    dx = x2 - x1\n",
    "    dy = y2 - y1\n",
    "    dsquared = dx**2 + dy**2\n",
    "    result = math.sqrt(dsquared)\n",
    "    return result\n",
    "\n",
    "distance(1, 2, 4, 6)"
   ]
  },
  {
   "cell_type": "markdown",
   "id": "01f1f2bd",
   "metadata": {
    "slideshow": {
     "slide_type": "slide"
    }
   },
   "source": [
    "## Ejercicio: Iterando sobre listas 1/3\n",
    "\n",
    "1. Escribe una función llamada <code>nested_sum</code> que tome una lista de listas de enteros y sume los elementos de todas las listas anidadas.\n",
    "<code>\n",
    "    t = [[1, 2], [3], [4, 5, 6]]\n",
    "    nested_sum(t)\n",
    "    21\n",
    "</code>"
   ]
  },
  {
   "cell_type": "code",
   "execution_count": 16,
   "id": "8dbd675f",
   "metadata": {
    "slideshow": {
     "slide_type": "notes"
    }
   },
   "outputs": [
    {
     "data": {
      "text/plain": [
       "21"
      ]
     },
     "execution_count": 16,
     "metadata": {},
     "output_type": "execute_result"
    }
   ],
   "source": [
    "def nested_sum(t):\n",
    "    \"\"\"Computes the total of all numbers in a list of lists.\n",
    "           t: list of list of numbers\n",
    "           returns: number\n",
    "    \"\"\"\n",
    "    total = 0\n",
    "    for nested in t:\n",
    "        total += sum(nested)\n",
    "    return total\n",
    "\n",
    "t = [[1, 2], [3], [4, 5, 6]]\n",
    "nested_sum(t)"
   ]
  },
  {
   "cell_type": "markdown",
   "id": "965b9f3d",
   "metadata": {
    "slideshow": {
     "slide_type": "subslide"
    }
   },
   "source": [
    "## Ejercicio: Iterando sobre listas 2/3\n",
    "\n",
    "2. Escribe una función llamada <code>cum_sum</code> que tome una lista de números y devuelva la suma acumulativa; es decir, una nueva lista donde el i-ésimo elemento es la suma de los primeros $i + 1$ elementos de la lista original.\n",
    "<code>\n",
    "    t = [1, 2, 3]\n",
    "    cum_sum(t)\n",
    "    [1, 3, 6]\n",
    "</code>"
   ]
  },
  {
   "cell_type": "code",
   "execution_count": 15,
   "id": "da34db85",
   "metadata": {
    "slideshow": {
     "slide_type": "notes"
    }
   },
   "outputs": [
    {
     "data": {
      "text/plain": [
       "[1, 3, 6]"
      ]
     },
     "execution_count": 15,
     "metadata": {},
     "output_type": "execute_result"
    }
   ],
   "source": [
    "def cum_sum(t):\n",
    "    \"\"\"Computes the cumulative sum of the numbers in t.\n",
    "            t: list of numbers\n",
    "            returns: list of numbers\n",
    "    \"\"\"\n",
    "    total = 0\n",
    "    res = []\n",
    "    for x in t:\n",
    "        total += x\n",
    "        res.append(total)\n",
    "    return res\n",
    "\n",
    "t = [1, 2, 3]\n",
    "cum_sum(t)"
   ]
  },
  {
   "cell_type": "markdown",
   "id": "9721ab96",
   "metadata": {
    "slideshow": {
     "slide_type": "subslide"
    }
   },
   "source": [
    "## Ejercicio: Iterando sobre listas 3/3\n",
    "\n",
    "3. Escribe una función llamada <code>has_duplicates</code> que verifique si en una secuencia existen elementos repetidos.\n",
    "<code>\n",
    "    t = [1, 2, 3, 2]\n",
    "    has_duplicates(t)\n",
    "    True\n",
    "</code>"
   ]
  },
  {
   "cell_type": "code",
   "execution_count": 19,
   "id": "0d9244e1",
   "metadata": {
    "slideshow": {
     "slide_type": "notes"
    }
   },
   "outputs": [
    {
     "data": {
      "text/plain": [
       "True"
      ]
     },
     "execution_count": 19,
     "metadata": {},
     "output_type": "execute_result"
    }
   ],
   "source": [
    "def has_duplicates(s):\n",
    "    \"\"\"Returns True if any element appears more than once in a sequence.\n",
    "            s: string or list\n",
    "            returns: bool\n",
    "    \"\"\"\n",
    "    # hacer una copia de t para no modificar el parámetro\n",
    "    t = list(s)\n",
    "    t.sort()\n",
    "\n",
    "    # comprobar si los elementos adyacentes son iguales\n",
    "    for i in range(len(t)-1):\n",
    "        if t[i] == t[i+1]:\n",
    "            return True\n",
    "    return False\n",
    "\n",
    "t = [1, 2, 3, 2]\n",
    "has_duplicates(t)"
   ]
  },
  {
   "cell_type": "markdown",
   "id": "38493a85",
   "metadata": {
    "slideshow": {
     "slide_type": "slide"
    }
   },
   "source": [
    "## Ejercicio: Estadísticas de datos 1/2\n",
    "\n",
    "Los datos contenidos en el archivo '[poblaciones.txt](data/poblaciones.txt)' describen las poblaciones de liebres, linces y zanahorias en el norte de Canadá durante 20 años:"
   ]
  },
  {
   "cell_type": "code",
   "execution_count": 12,
   "id": "1a1cc8a4",
   "metadata": {
    "slideshow": {
     "slide_type": "fragment"
    }
   },
   "outputs": [
    {
     "data": {
      "text/plain": [
       "<matplotlib.legend.Legend at 0x7fbb09a5ffd0>"
      ]
     },
     "execution_count": 12,
     "metadata": {},
     "output_type": "execute_result"
    },
    {
     "data": {
      "image/png": "[encoded data removed]",
      "text/plain": [
       "<Figure size 432x288 with 1 Axes>"
      ]
     },
     "metadata": {
      "needs_background": "light"
     },
     "output_type": "display_data"
    }
   ],
   "source": [
    "import numpy as np\n",
    "import matplotlib.pyplot as plt\n",
    "\n",
    "data = np.loadtxt('data/populations.txt')\n",
    "year, hares, lynxes, carrots = data.T  # trick: columns to variables\n",
    "\n",
    "plt.axes([0.2, 0.1, 0.5, 0.8]) \n",
    "plt.plot(year, hares, year, lynxes, year, carrots) \n",
    "plt.legend(('Hare', 'Lynx', 'Carrot'), loc=(1.05, 0.5)) "
   ]
  },
  {
   "cell_type": "markdown",
   "id": "6e9102c5",
   "metadata": {
    "slideshow": {
     "slide_type": "subslide"
    }
   },
   "source": [
    "## Ejercicio: Estadísticas de datos 2/2\n",
    "\n",
    "#### Con base en los datos, calcule e imprima sin usar ciclos <code>for</code>:\n",
    "\n",
    "1. La media y desviación estándar de las poblaciones de cada especie para los años del período.\n",
    "2. En qué año cada especie tuvo la mayor población.\n",
    "3. Qué especie tiene la población más grande para cada año. (Sugerencia: <code>argsort</code> e indexación elegante de <code>np.array(['H', 'L', 'C'])</code>)\n",
    "4. En qué años cualquiera de las poblaciones está por encima de 50000. (Sugerencia: comparaciones y <code>np.any</code>)\n",
    "5. Los dos años para cada especie cuando tuvieron las poblaciones más bajas. (Sugerencia: <code>argsort</code>, indexación elegante)\n",
    "6. Compara (traza) el cambio en la población de liebres y el número de linces. Compruebe la correlación. (Sugerencia: <code>np.gradient</code> y <code>np.corrcoef</code>).\n",
    "\n",
    "\n",
    "\n",
    "\n",
    "\n"
   ]
  },
  {
   "cell_type": "code",
   "execution_count": 29,
   "id": "ec22308f",
   "metadata": {
    "slideshow": {
     "slide_type": "notes"
    }
   },
   "outputs": [
    {
     "name": "stdout",
     "output_type": "stream",
     "text": [
      " Year\tHares\tLynxes\tCarrots\n",
      "[[ 1900 30000  4000 48300]\n",
      " [ 1901 47200  6100 48200]\n",
      " [ 1902 70200  9800 41500]\n",
      " [ 1903 77400 35200 38200]\n",
      " [ 1904 36300 59400 40600]\n",
      " [ 1905 20600 41700 39800]\n",
      " [ 1906 18100 19000 38600]\n",
      " [ 1907 21400 13000 42300]\n",
      " [ 1908 22000  8300 44500]\n",
      " [ 1909 25400  9100 42100]\n",
      " [ 1910 27100  7400 46000]\n",
      " [ 1911 40300  8000 46800]\n",
      " [ 1912 57000 12300 43800]\n",
      " [ 1913 76600 19500 40900]\n",
      " [ 1914 52300 45700 39400]\n",
      " [ 1915 19500 51100 39000]\n",
      " [ 1916 11200 29700 36700]\n",
      " [ 1917  7600 15800 41800]\n",
      " [ 1918 14600  9700 43300]\n",
      " [ 1919 16200 10100 41300]\n",
      " [ 1920 24700  8600 47300]]\n",
      "        Hares\tLynxes\tCarrots\n",
      "Mean:  [34080.95 20166.67 42400.00]\n",
      "Std:  [20897.91 16254.59 3322.51]\n",
      "Max. year: [1903 1904 1900]\n",
      "Max species:\n",
      "[1900 1901 1902 1903 1904 1905 1906 1907 1908 1909 1910 1911 1912 1913\n",
      " 1914 1915 1916 1917 1918 1919 1920]\n",
      "['Carrot' 'Carrot' 'Hare' 'Hare' 'Lynx' 'Lynx' 'Carrot' 'Carrot' 'Carrot'\n",
      " 'Carrot' 'Carrot' 'Carrot' 'Hare' 'Hare' 'Hare' 'Lynx' 'Carrot' 'Carrot'\n",
      " 'Carrot' 'Carrot' 'Carrot']\n",
      "Any above 50000: [1902 1903 1904 1912 1913 1914 1915]\n",
      "Top 2 years with lowest populations for each:\n",
      "[[1917 1900 1916]\n",
      " [1916 1901 1903]]\n",
      "diff(Hares) vs. Lynxes correlation -0.9179248480315341\n"
     ]
    },
    {
     "data": {
      "image/png": "[encoded data removed]",
      "text/plain": [
       "<Figure size 432x288 with 1 Axes>"
      ]
     },
     "metadata": {
      "needs_background": "light"
     },
     "output_type": "display_data"
    }
   ],
   "source": [
    "import numpy as np\n",
    "\n",
    "float_formatter = \"{:.2f}\".format\n",
    "np.set_printoptions(formatter={'float_kind':float_formatter})\n",
    "\n",
    "data = np.loadtxt('data/populations.txt').astype(int)\n",
    "print(\" Year\\tHares\\tLynxes\\tCarrots\")\n",
    "print(data)\n",
    "\n",
    "year, hares, lynxes, carrots = data.T\n",
    "populations = data[:,1:]\n",
    "\n",
    "print(\"        Hares\\tLynxes\\tCarrots\")\n",
    "print(\"Mean: \", populations.mean(axis=0))\n",
    "print(\"Std: \", populations.std(axis=0))\n",
    "\n",
    "j_max_years = np.argmax(populations, axis=0)\n",
    "print(\"Max. year:\", year[j_max_years])\n",
    "\n",
    "max_species = np.argmax(populations, axis=1)\n",
    "species = np.array(['Hare', 'Lynx', 'Carrot'])\n",
    "print(\"Max species:\")\n",
    "print(year)\n",
    "print(species[max_species])\n",
    "\n",
    "above_50000 = np.any(populations > 50000, axis=1)\n",
    "print(\"Any above 50000:\", year[above_50000])\n",
    "\n",
    "j_top_2 = np.argsort(populations, axis=0)[:2]\n",
    "print(\"Top 2 years with lowest populations for each:\")\n",
    "print(year[j_top_2])\n",
    "\n",
    "hare_grad = np.gradient(hares, 1.0)\n",
    "print(\"diff(Hares) vs. Lynxes correlation\", np.corrcoef(hare_grad, lynxes)[0,1])\n",
    "\n",
    "import matplotlib.pyplot as plt\n",
    "plt.plot(year, hare_grad, year, -lynxes)\n",
    "plt.savefig('plot.png')"
   ]
  }
 ],
 "metadata": {
  "celltoolbar": "Slideshow",
  "kernelspec": {
   "display_name": "Python 3 (ipykernel)",
   "language": "python",
   "name": "python3"
  },
  "language_info": {
   "codemirror_mode": {
    "name": "ipython",
    "version": 3
   },
   "file_extension": ".py",
   "mimetype": "text/x-python",
   "name": "python",
   "nbconvert_exporter": "python",
   "pygments_lexer": "ipython3",
   "version": "3.9.7"
  }
 },
 "nbformat": 4,
 "nbformat_minor": 5
}
