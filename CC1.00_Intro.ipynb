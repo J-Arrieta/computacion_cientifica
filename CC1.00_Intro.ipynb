{
 "cells": [
  {
   "cell_type": "markdown",
   "metadata": {
    "slideshow": {
     "slide_type": "slide"
    }
   },
   "source": [
    "<img align=\"left\" src=\"img/logo-ucm.png\" width=\"25%\">\n",
    "<br/><br/><br/><br/><br/>\n",
    "\n",
    "\n",
    "# [Doctorado en Ingeniería (DocIng)](http://www.docing.ucm.cl/index.html)\n",
    "\n",
    "# [Doctorado en Modelamiento Matemático Aplicado (DM<sub>2</sub>A)](http://vrip.ucm.cl/doctorado-en-modelamiento-matematico-aplicado/)\n",
    "\n",
    "\n",
    "## Computación Científica I: Introducción al curso\n",
    "\n",
    "&nbsp;\n",
    "### Profesor: Dr. Ruber Hernández García\n",
    "\n",
    "<div style=\"overflow: hidden; display: inline-block;\">\n",
    "    <div style=\"display: inline-block; max-width: 20%; max-height: 20%;\">\n",
    "        <a href=\"mailto:rhernandez@ucm.cl\">\n",
    "            <img src=\"img/email.webp\" alt=\"email\" height=\"24px\" width=\"24px\">\n",
    "        </a>\n",
    "    </div>\n",
    "    <div style=\"display: inline-block; max-width: 20%; max-height: 20%;\">\n",
    "        <a href=\"www.ruberhg.com\">\n",
    "            <img src=\"img/website-icon.jpeg\" alt=\"website\" height=\"24px\" width=\"24px\">\n",
    "        </a>\n",
    "    </div>\n",
    "    <div style=\"display: inline-block; max-width: 20%; max-height: 20%;\">\n",
    "        <a href=\"https://orcid.org/0000-0002-9311-1193\">\n",
    "            <img src=\"img/orcid.png\" alt=\"orcid\" height=\"24px\" width=\"24px\">\n",
    "        </a> \n",
    "    </div>\n",
    "    <div style=\"display: inline-block; max-width: 20%; max-height: 20%;\">\n",
    "        <a href=\"https://github.com/ruberhg\" rel=\"nofollow noreferrer\">\n",
    "            <img src=\"img/github.png\" alt=\"github\" height=\"24px\" width=\"24px\">\n",
    "        </a>\n",
    "    </div>\n",
    "</div>\n"
   ]
  },
  {
   "cell_type": "markdown",
   "metadata": {
    "slideshow": {
     "slide_type": "slide"
    }
   },
   "source": [
    "----\n",
    "\n",
    "## Introducción\n",
    "\n",
    "En las últimas décadas la computación se ha convertido en un pilar de la ingeniería y el desarrollo científico-tecnológico. En la mayoría de las áreas, el trabajo computacional es un complemento fundamental de la experimentación tradicional y de la teoría, ya que cada vez más se involucra simulaciones numéricas, modelado computacional y procesamiento de datos.\n",
    "\n",
    "Frecuentemente, la tarea de los profesionales involucra el uso de aplicaciones específicas que requieren un gran trabajo de procesamiento de los datos de entrada y un post-procesamiento de los resultados utilizando otras herramientas.\n",
    "\n",
    "Este curso brinda una introducción a la computación científica desde el uso del poderoso lenguaje de programación Python (http://python.org) y a las herramientas fundamentales del \"*ecosistema científico*\" (Jupyter, Numpy, Matplotlib, Scipy, entre otras) que conforman un entorno de programación interactivo de vanguardia, simple, libre, gratuito y multiplataforma."
   ]
  },
  {
   "cell_type": "markdown",
   "metadata": {
    "slideshow": {
     "slide_type": "slide"
    }
   },
   "source": [
    "----\n",
    "\n",
    "## ¿Qué es la Computación Científica?\n",
    "\n",
    "La **Computación Científica** es el campo de estudio relacionado con la construcción de modelos matemáticos y computacionales para **resolver problemas científicos, de ciencias sociales y problemas de ingeniería**. Típicamente es la aplicación de modelado numérico y computacional de problemas en varias disciplinas científicas.\n",
    "\n",
    "Por lo general, estos modelos requieren una gran cantidad de cálculos (usualmente de punto flotante) y son a menudo ejecutados en **supercomputadores o plataformas de computación distribuida**."
   ]
  },
  {
   "cell_type": "markdown",
   "metadata": {
    "slideshow": {
     "slide_type": "subslide"
    }
   },
   "source": [
    "## Aplicaciones de la Computación Científica\n",
    "\n",
    "#### Simulaciones numéricas\n",
    "Las simulaciones numéricas tienen diferentes objetivos dependiendo de la naturaleza de la tarea a ser simulada:\n",
    "* Reconstruir y comprender los eventos conocidos (e.g. terremotos, maremotos y otros desastres naturales).\n",
    "* Predecir el futuro o situaciones no observadas (e.g. tiempo atmosférico, comportamiento de partículas subatómicas).\n",
    "\n",
    "#### Modelos apropiados y análisis de datos\n",
    "* Sintonizar apropiadamente los modelos o resolver ecuaciones para reflejar ciertas observaciones, sujetas a las restricciones del modelo (e.g. exploración geofísica de petróleo, lingüística computacional).\n",
    "* Usar teoría de grafos para modelar redes, especialmente las conexiones individuales, organizaciones y sitios web.\n",
    "\n",
    "#### Optimización\n",
    "* Optimizar escenarios conocidos (e.g. técnicas y procesos de fabricación, interfaces de ingeniería)."
   ]
  },
  {
   "cell_type": "markdown",
   "metadata": {
    "slideshow": {
     "slide_type": "subslide"
    }
   },
   "source": [
    "## Competencias asociadas a la Computación Científica\n",
    "\n",
    "* Construir modelos matemáticos y computacionales aplicados a las ciencias e ingeniería.\n",
    "\n",
    "* Utilizar adecuadamente los medios de cómputo de última generación, tales como los supercomputadores o plataformas distribuidas, cuyo funcionamiento difiere sustancialmente de los computadores convencionales o seriales.\n",
    "\n",
    "* Adoptar una línea de investigación en matemática aplicada y computacional.\n",
    "\n",
    "* Abordar satisfactoriamente los problemas de carácter científico o tecnológico en diversos campos de aplicación, produciendo modelos matemáticos y computacionales para su manejo, control y/o solución.\n",
    "\n",
    "* Elaborar software científico propio.\n"
   ]
  },
  {
   "cell_type": "markdown",
   "metadata": {
    "slideshow": {
     "slide_type": "slide"
    }
   },
   "source": [
    "----\n",
    "\n",
    "## Descripción del curso\n",
    "\n",
    "[Programa de la Asignatura](pdf/comp_cientifica-I.pdf)\n",
    "\n",
    "Esta actividad se orienta a que el estudiante adquiera y utilice con soltura un lenguaje de programación de alto nivel para llevar a cabo la adecuación o el desarrollo de nuevos algoritmos aplicados a problemas científicos, por ejemplo, programando computacionalmente un problema matemático, simularlo numéricamente y representar los resultados en forma adecuada.\n",
    "\n",
    "**RA1.** Conocer la estructura básica de un programa que resuelva un problema matemático sobre una plataforma de hardware y software orientado a cómputo científico. (35%)\n",
    "\n",
    "**RA2.** Implementar programas para resolver problemas de cómputo científico mediante el uso de un lenguaje de programación. (40%)\n",
    "\n",
    "**RA3.** Evaluar la eficiencia de soluciones algorítmicas involucradas en problemas de cómputo científico. (25%)"
   ]
  },
  {
   "cell_type": "markdown",
   "metadata": {
    "slideshow": {
     "slide_type": "subslide"
    }
   },
   "source": [
    "## Unidades de Aprendizaje y Ejes Temáticos\n",
    "\n",
    "![unidades](img/unidades.png)"
   ]
  },
  {
   "cell_type": "markdown",
   "metadata": {
    "slideshow": {
     "slide_type": "subslide"
    }
   },
   "source": [
    "## Bibliografía básica\n",
    "\n",
    "* Joakim Sundnes (2020): Introduction to Scientific Programming with Python. Simula SpringerBriefs on Computing. https://doi.org/10.1007/978-3-030-50356-7\n",
    "\n",
    "* Chazallet, Sébastien (2016): Python 3: Los fundamentos del lenguaje. Barcelona : Ediciones ENI.\n",
    "\n",
    "* Luis Joyanes Aguilar (2017): FUNDAMENTOS DE PROGRAMACIÓN. Algoritmos, estructura de datos y objetos. Cuarta edición. McGraw Hill.\n",
    "\n",
    "* Giancarlo Zaccone, Python Parallel Programming Cookbook, Packt 2019.\n",
    "\n",
    "* Qingkai Kong, Timmy Siauw, Alexandre Bayen. Python Programming And Numerical Methods: A Guide For Engineers And Scientists. Academic Press, 2020.\n",
    "\n",
    "\n",
    "#### Bibliografía complementaria\n",
    "\n",
    "* Joel Grus, Data Science from Scratch, First Principles with Python, O’Reilly, 2015.\n",
    "\n",
    "* Jake VanderPlas, Python Data Science Handbook Essential Tools for Working with Data, O’Reilly, 2016.\n",
    "\n",
    "* Sam Morley. Applying Math with Python. Packt, 2020."
   ]
  },
  {
   "cell_type": "markdown",
   "metadata": {
    "slideshow": {
     "slide_type": "slide"
    }
   },
   "source": [
    "----\n",
    "\n",
    "## ¡Empecemos! ¿Qué es Python?\n",
    "\n",
    "Python es un lenguaje de programación:\n",
    "\n",
    "* Interpretado e Interactivo\n",
    "* Fácil de aprender, programar y **leer** (menos *bugs*)\n",
    "* De *muy alto nivel*\n",
    "* Multiparadigma\n",
    "* Libre y con licencia permisiva\n",
    "* Eficiente\n",
    "* Versátil y potente! \n",
    "* Con gran documentación\n",
    "* Y una gran comunidad de usuarios"
   ]
  },
  {
   "cell_type": "markdown",
   "metadata": {
    "slideshow": {
     "slide_type": "slide"
    }
   },
   "source": [
    "----\n",
    "\n",
    "## ¿Por qué usar Python?\n",
    "\n",
    "* Cualquier tarea de ciencia de datos se puede hacer con Python. Esto se debe principalmente a su rico ecosistema de bibliotecas con miles de potentes paquetes.\n",
    "\n",
    "* Con Python se puede realizar todo tipo de operaciones, desde el preprocesamiento de datos, la visualización y el análisis estadístico, hasta el despliegue de modelos de machine learning y deep learning. \n",
    "\n",
    "* Algunas de las bibliotecas más utilizadas para la ciencia de datos y el aprendizaje automático: NumPy, Pandas, Matplotlib, Scikit-learn, SciPy y Tensorflow.\n"
   ]
  },
  {
   "cell_type": "markdown",
   "metadata": {
    "slideshow": {
     "slide_type": "subslide"
    }
   },
   "source": [
    "## ¿Por qué usar Python?\n",
    "\n",
    "<img align=\"left\" src=\"img/languages_use_2021.png\">\n",
    "\n",
    "*Fuente: [TIOBE Index](https://www.tiobe.com/tiobe-index/)*"
   ]
  },
  {
   "cell_type": "markdown",
   "metadata": {
    "slideshow": {
     "slide_type": "slide"
    }
   },
   "source": [
    "----\n",
    "\n",
    "## The Zen of Python\n",
    "\n",
    "Tim Peters, un veterano de Python, canaliza brevemente los principios rectores para el diseño de Python en 20 aforismos, de los cuales sólo 19 han sido escritos: [PEP 20 – The Zen of Python](https://peps.python.org/pep-0020/).\n",
    "\n",
    "````python\n",
    "    import this\n",
    "````\n",
    "\n",
    "````\n",
    "    Beautiful is better than ugly.\n",
    "    Explicit is better than implicit.\n",
    "    Simple is better than complex.\n",
    "    Complex is better than complicated.\n",
    "    Flat is better than nested.\n",
    "    Sparse is better than dense.\n",
    "    Readability counts.\n",
    "    Special cases aren't special enough to break the rules.\n",
    "    Although practicality beats purity.\n",
    "    Errors should never pass silently.\n",
    "    Unless explicitly silenced.\n",
    "    In the face of ambiguity, refuse the temptation to guess.\n",
    "    There should be one-- and preferably only one --obvious way to do it.\n",
    "    Although that way may not be obvious at first unless you're Dutch.\n",
    "    Now is better than never.\n",
    "    Although never is often better than *right* now.\n",
    "    If the implementation is hard to explain, it's a bad idea.\n",
    "    If the implementation is easy to explain, it may be a good idea.\n",
    "    Namespaces are one honking great idea -- let's do more of those!\n",
    "````"
   ]
  },
  {
   "cell_type": "markdown",
   "metadata": {
    "slideshow": {
     "slide_type": "slide"
    }
   },
   "source": [
    "----\n",
    "\n",
    "## Breve pauta\n",
    "\n",
    "El objetivo de este curso es **brindarles una breve introducción desde cero en la programación en Python y aprender distintas aplicaciones de este lenguaje para la investigación.**\n",
    "\n",
    "La herramienta fundamental que utilizaremos es el **Notebook de Jupyter** (este documento ha sido generado a partir de un notebook) que provee la suite **Anaconda**, así como la interacción con un servidor Unix para las prácticas. El aprendizaje será a partir de actividades teórico-prácticas, donde les presentaremos ejemplos de código y actividades prácticas.\n",
    "\n",
    "Los materiales del curso los pueden descargar desde mi [Github](https://github.com/ruberhg/computacion_cientifica).\n",
    "\n",
    "¡¡Manos a la obra!!"
   ]
  },
  {
   "cell_type": "markdown",
   "metadata": {
    "slideshow": {
     "slide_type": "slide"
    }
   },
   "source": [
    "----\n",
    "\n",
    "## Instalación\n",
    "\n",
    "La instalación de Python, el Notebook y todos los paquetes que utilizaremos, por separado puede ser una tarea ardua y agotadora, pero no te preocupes: ¡alguien ha hecho ya el trabajo duro!\n",
    "\n",
    "Anaconda es una distribución de Python que **recopila muchas de las bibliotecas necesarias en el ámbito de la computación científica**. Además incluye herramientas para programar en Python, como el **Notebook** y **Spyder** (un IDE al estilo de MATLAB).\n",
    "\n",
    "Python \"temporal\" online: http://try.jupyter.org\n",
    "\n",
    "Instalación de **Anaconda**: https://docs.anaconda.com/anaconda/install/\n",
    "\n",
    "* En Windows o MacOS: se recomienda instalar Anaconda.\n",
    "\n",
    "* En Linux: instalar todo desde los repositorios. Por ejemplo en Ubuntu/Debian: \n",
    "\n",
    "> `sudo apt-get install ipython3-notebook python3-matplotlib python3-numpy python3-scipy`"
   ]
  },
  {
   "cell_type": "markdown",
   "metadata": {
    "slideshow": {
     "slide_type": "subslide"
    }
   },
   "source": [
    "\n",
    "## Acceso a Servidor remoto `MagisterMCO`\n",
    "\n",
    "El acceso al servidor se realiza usando `SSH` y puede ser desde cualquier sitio con una conexión a Internet.\n",
    "\n",
    "* En Windows se recomienda usar [MobaXterm](https://mobaxterm.mobatek.net/). \n",
    "* En MacOS se recomienda usar [Termius](https://termius.com/), que también tiene soporte para Windows, Linux, Android y iOS.\n",
    "\n",
    "#### Credenciales para conexión\n",
    "+ Servidor: magistermco.ucm.cl\n",
    "+ Puerto: 22\n",
    "+ Usuarios: cguajardo / vrojas / fsilva / jherazo\n",
    "+ Contraseña: 12345678 (cambiar usando comando `passwd` con una contraseña robusta)\n",
    "\n",
    "#### Ejemplo de conexión por `terminal` (En windows `cmd.exe`)\n",
    "\n",
    "> `ssh username@magistermco.ucm.cl`\n"
   ]
  },
  {
   "cell_type": "markdown",
   "metadata": {
    "slideshow": {
     "slide_type": "slide"
    }
   },
   "source": [
    "----\n",
    "\n",
    "## ¿Cómo se usa Python?\n",
    "\n",
    "### Consolas interactivas\n",
    "\n",
    "Hay muchas maneras de usar el lenguaje Python. Dijimos que es un lenguaje **interpretado** e **interactivo**. Si ejecutamos la consola (En windows `cmd.exe`) y luego `python`, se abrirá la consola interactiva:\n",
    "\n",
    "![](img/console.png)\n"
   ]
  },
  {
   "cell_type": "markdown",
   "metadata": {
    "slideshow": {
     "slide_type": "subslide"
    }
   },
   "source": [
    "## ¿Cómo se usa Python?\n",
    "\n",
    "### Consolas interactivas\n",
    "\n",
    "En la consola interactiva podemos escribir sentencias o pequeños bloques de código que son ejecutados inmediatamente. Pero *la consola interactiva* estándar es **limitada**. Mucho mejor es usar **IPython** que supera a la estándar en muchos sentidos. Podemos autocompletar (`<TAB>`), ver ayuda rápida de cualquier objeto (`?`) y muchas cosas más. \n",
    "\n",
    "![](img/ipython.png)\n"
   ]
  },
  {
   "cell_type": "markdown",
   "metadata": {
    "slideshow": {
     "slide_type": "subslide"
    }
   },
   "source": [
    "## ¿Cómo se usa Python?\n",
    "\n",
    "### Ipython Notebook (Jupyter) 1/3\n",
    "\n",
    "Y otra forma muy útil es usar los *Notebooks*. Jupyter es un entorno web para computación interactiva. \n",
    "\n",
    "[Jupyter](https://jupyter.org/) no es más que un intérprete de Python con algunas mejoras sustanciales, pero además su interfaz notebook es más cómoda de manejar que la línea de comandos y nos da un poco más de flexibilidad.\n",
    "\n",
    "\n",
    "<div class=\"alert alert-info\">Si bien nació como parte del proyecto IPython, el mismo entorno visual se puede conectar a *\"kernels\"* de distintos lenguajes. Se puede usar Jupyter con Python, Julia, R, Octave y decenas de lenguajes más.</div>\n",
    "\n",
    "\n",
    "Podemos crear y editar \"celdas\" de código Python que se pueden reeditar y volver a ejecutar, intercalar celdas de texto, fórmulas matemáticas, hacer que gráficos se muestren inscrutados en la misma pantalla y __*además mostrarlas como presentaciones*__. Estos archivos se guardan con extensión *.ipynb*, que pueden exportarse a diversos formatos estáticos como html, pdf o como código python puro. (.py). También ecuaciones en latex y mucho más. \n"
   ]
  },
  {
   "cell_type": "markdown",
   "metadata": {
    "slideshow": {
     "slide_type": "subslide"
    }
   },
   "source": [
    "## ¿Cómo se usa Python?\n",
    "\n",
    "### Ipython Notebook (Jupyter) 2/3\n",
    "\n",
    "Esto es una herramienta muy potente para explicar a alguien o a ti mismo lo que tu código hace, para hacer un informe, un trabajo, escribir en un blog, entre otros.\n",
    "\n",
    "Cada celda de código está marcada por la palabra `In [<n>]` y están **numeradas**. Tan solo tenemos que escribir el código en ella y hacer click arriba en Cell -> Run, el triángulo (\"Run cell\") o usar el atajo `shift + Enter`. El resultado de la celda se muestra en el campo `Out [<n>]`, también numerado y coincidiendo con la celda que acabamos de ejecutar. Esto es importante, como ya veremos luego.\n",
    "\n",
    "Si en la barra superior seleccionas Markdown (o usas el atajo `Shift-M`) en lugar de Code puedes escribir texto.\n",
    "\n",
    "Markdown es un lenguaje aparte, no te preocupes por él demasiado ahora, irás aprendiendo sobre la marcha... Para cuando lo vayas necesitando, aquí tienes una [chuleta](https://www.markdownguide.org/cheat-sheet/).\n",
    "\n",
    "Los notebooks son muy útiles para la **\"programación exploratoria\"**, muy frecuente en ciencia e ingeniería."
   ]
  },
  {
   "cell_type": "markdown",
   "metadata": {
    "slideshow": {
     "slide_type": "subslide"
    }
   },
   "source": [
    "## ¿Cómo se usa Python?\n",
    "\n",
    "### Ipython Notebook (Jupyter) 3/3\n",
    "\n",
    "Esto es una herramienta muy potente para explicar a alguien o a ti mismo lo que tu código hace, para hacer un informe, un trabajo, escribir en un blog, entre otros.\n",
    "\n",
    "Cada celda de código está marcada por la palabra `In [<n>]` y están **numeradas**. Tan solo tenemos que escribir el código en ella y hacer click arriba en Cell -> Run, el triángulo (\"Run cell\") o usar el atajo `shift + Enter`. El resultado de la celda se muestra en el campo `Out [<n>]`, también numerado y coincidiendo con la celda que acabamos de ejecutar. Esto es importante, como ya veremos luego.\n",
    "\n",
    "Si en la barra superior seleccionas Markdown (o usas el atajo `Shift-M`) en lugar de Code puedes escribir texto.\n",
    "\n",
    "Markdown es un lenguaje aparte, no te preocupes por él demasiado ahora, irás aprendiendo sobre la marcha... Para cuando lo vayas necesitando, aquí tienes una [chuleta](https://www.markdownguide.org/cheat-sheet/).\n",
    "\n",
    "Los notebooks son muy útiles para la **\"programación exploratoria\"**, muy frecuente en ciencia e ingeniería."
   ]
  },
  {
   "cell_type": "markdown",
   "metadata": {
    "slideshow": {
     "slide_type": "subslide"
    }
   },
   "source": [
    "## ¿Cómo se usa Python?\n",
    "\n",
    "### ¿Qué editor usar? 1/2\n",
    "\n",
    "Python no exige un editor específico y hay muchos modos y maneras de programar. \n",
    "\n",
    "Un buen editor orientado a Python científico es **Spyder**, que es un entorno integrado (editor + ayuda + consola interactiva), al estilo de **Matlab**. Otro entorno muy completo es **PyCharm**.\n",
    "\n",
    "![](img/spyder.png)"
   ]
  },
  {
   "cell_type": "markdown",
   "metadata": {
    "slideshow": {
     "slide_type": "subslide"
    }
   },
   "source": [
    "## ¿Cómo se usa Python?\n",
    "\n",
    "### ¿Qué editor usar? 2/2\n",
    "\n",
    "También el entorno Jupyter trae un editor sencillo\n",
    "\n",
    "![](img/editor.png)"
   ]
  },
  {
   "cell_type": "markdown",
   "metadata": {
    "slideshow": {
     "slide_type": "subslide"
    }
   },
   "source": [
    "## ¿Cómo se usa Python?\n",
    "\n",
    "### Programas \n",
    "\n",
    "También podemos usar Python para hacer programas o scripts. \n",
    "Esto es, escribir nuestro código en un archivo con extensión `.py` y ejecutarlo con el intérprete de python.  \n",
    "Por ejemplo, el archivo `hello.py` (al que se le llama módulo) tiene este contenido:\n",
    "\n",
    "```python\n",
    "    print(\"¡Hola curso!\")\n",
    "```\n",
    "\n",
    "Si ejecutamos python `scripts/hello.py` se ejecutará en el interprete Python y obtendremos el resultado.\n",
    "\n",
    "<div class=\"alert alert-warning\"><strong>Tip de IPython</strong>:\n",
    "IPython agrega muchas funcionalidades complementarias que no son parte del lenguaje Python. Por ejemplo el signo `!` que precede la línea anterior indica que se ejecutará un programa/comando del sistema en vez de código python.</div>"
   ]
  },
  {
   "cell_type": "code",
   "execution_count": 2,
   "metadata": {},
   "outputs": [
    {
     "name": "stdout",
     "output_type": "stream",
     "text": [
      "Hola curso!!!\n"
     ]
    }
   ],
   "source": [
    "print('Hola curso!!!')"
   ]
  },
  {
   "cell_type": "code",
   "execution_count": 3,
   "metadata": {},
   "outputs": [
    {
     "name": "stdout",
     "output_type": "stream",
     "text": [
      "Hola curso!!!\n"
     ]
    }
   ],
   "source": [
    "!python3 scripts/hello.py"
   ]
  },
  {
   "cell_type": "code",
   "execution_count": 1,
   "metadata": {},
   "outputs": [
    {
     "name": "stdout",
     "output_type": "stream",
     "text": [
      "\u001b[31m00_Intro.html\u001b[m\u001b[m\r\n",
      "\u001b[31m00_Intro.ipynb\u001b[m\u001b[m\r\n",
      "\u001b[31m00_Intro.slides.html\u001b[m\u001b[m\r\n",
      "\u001b[31m01_Sintaxis_basica_I-Tipos.html\u001b[m\u001b[m\r\n",
      "\u001b[31m01_Sintaxis_basica_I-Tipos.ipynb\u001b[m\u001b[m\r\n",
      "\u001b[31m02_Sintaxis_basica-II-Estructuras-control.html\u001b[m\u001b[m\r\n",
      "\u001b[31m02_Sintaxis_basica-II-Estructuras-control.ipynb\u001b[m\u001b[m\r\n",
      "\u001b[31m03_Sintaxis_basica-III-Funciones-Librerias.html\u001b[m\u001b[m\r\n",
      "\u001b[31m03_Sintaxis_basica-III-Funciones-Librerias.ipynb\u001b[m\u001b[m\r\n",
      "\u001b[31m04_NumPy-Intro.html\u001b[m\u001b[m\r\n",
      "\u001b[31m04_NumPy-Intro.ipynb\u001b[m\u001b[m\r\n",
      "\u001b[31m05_Matplotlib-Intro.html\u001b[m\u001b[m\r\n",
      "\u001b[31m05_Matplotlib-Intro.ipynb\u001b[m\u001b[m\r\n",
      "\u001b[31m06_Continuar_aprendiendo.html\u001b[m\u001b[m\r\n",
      "\u001b[31m06_Continuar_aprendiendo.ipynb\u001b[m\u001b[m\r\n",
      "\u001b[31mUntitled.ipynb\u001b[m\u001b[m\r\n",
      "\u001b[30m\u001b[43mcheatsheets\u001b[m\u001b[m\r\n",
      "\u001b[30m\u001b[43mdata\u001b[m\u001b[m\r\n",
      "\u001b[30m\u001b[43mejemplos\u001b[m\u001b[m\r\n",
      "\u001b[30m\u001b[43mextra\u001b[m\u001b[m\r\n",
      "\u001b[30m\u001b[43mimg\u001b[m\u001b[m\r\n",
      "\u001b[30m\u001b[43mpaquete\u001b[m\u001b[m\r\n",
      "\u001b[30m\u001b[43mpdf\u001b[m\u001b[m\r\n",
      "\u001b[30m\u001b[43mscripts\u001b[m\u001b[m\r\n",
      "\u001b[31mtemp.ipynb\u001b[m\u001b[m\r\n"
     ]
    }
   ],
   "source": [
    "!ls"
   ]
  },
  {
   "cell_type": "markdown",
   "metadata": {
    "slideshow": {
     "slide_type": "slide"
    }
   },
   "source": [
    "----\n",
    "\n",
    "## ¡Queremos programar!\n",
    "\n",
    "\n",
    "### ¿Qué pinta tiene un programa en Python y cómo lo ejecuto?\n",
    "\n",
    "Vamos a ver mi_primer_script.py que está en la carpeta scripts. De momento no te preocupes por el código, ya habrá tiempo para eso...\n",
    "\n",
    "<div class=\"alert alert-warning\"><strong>Si estás usando Windows</strong> y acabas de obtener un error, sustituye la línea anterior por:<br/>\n",
    "    \n",
    "`!type scripts\\mi_primer_script.py`\n",
    "\n",
    "`type` es un comando similar en Windows a `cat`. De nuevo, podemos ejecutar comandos como `cd`, `dir`, `type`, `find`... desde aquí anteponiendo `!` y utilizando `\\` en lugar de `/` para la ruta donde se encuentra el archivo.</div>\n",
    "\n",
    "<div class=\"alert alert-info\"><strong>Tip de IPython</strong>:\n",
    "    `%run` es un <em>\"comando mágico\"</em> del notebook que te permite ejecutar un archivo.\n",
    "\n",
    "Si quieres hacerlo desde una línea de comandos podrías hacer:\n",
    "\n",
    "`$ python3 scripts/mi_primer_script.py`\n",
    "</div>"
   ]
  },
  {
   "cell_type": "code",
   "execution_count": 1,
   "metadata": {},
   "outputs": [
    {
     "name": "stdout",
     "output_type": "stream",
     "text": [
      "import math\r\n",
      "     \r\n",
      "print(\"Hola gente del curso de AeroPython\")\r\n",
      "print(\"¿Cuántos sois hoy en clase?\")\r\n",
      "\r\n",
      "number = input()\r\n",
      "number = int(number)\r\n",
      "root = math.sqrt(number)\r\n",
      "\r\n",
      "print(\"Ufff! eso es un montón! espero que aprendáis mucho\")\r\n",
      "print(\"Por cierto, la raiz de %i es %f\" %(number, root))\r\n"
     ]
    }
   ],
   "source": [
    "!cat scripts/mi_primer_script.py"
   ]
  },
  {
   "cell_type": "code",
   "execution_count": null,
   "metadata": {},
   "outputs": [
    {
     "name": "stdout",
     "output_type": "stream",
     "text": [
      "Hola gente del curso de AeroPython\n",
      "¿Cuántos sois hoy en clase?\n"
     ]
    }
   ],
   "source": [
    "%run scripts/mi_primer_script.py"
   ]
  },
  {
   "cell_type": "markdown",
   "metadata": {
    "slideshow": {
     "slide_type": "slide"
    }
   },
   "source": [
    "----\n",
    "\n",
    "## Introducción al Desarrollo de Software Científico\n",
    "\n",
    "### Procesos de organización y desarrollo\n",
    "\n",
    "* Para quién estoy programando: Para mí, para nosotros, para otros... conjunto de requerimientos, acordar o hacer un buen esquema de lo que se necesita.\n",
    "\n",
    "* Qué tareas se necesitan, cómo las vamos a implementar: usar si es necesario un papel para un esquema.\n",
    "\n",
    "* Traducir los requerimientos en subtareas: usar algún método de Gestión de Proyecto para ser estrictos con los tiempos de desarrollo, implementación y optimización.\n",
    "\n",
    "* No inventar la rueda: invertir algún tiempo en ver si actualmente existe una manera de implementar las cosas documentada; pensar qué es necesario y posibilidades de implementación.\n",
    "    - http://stackoverflow.com/\n",
    "    - http://numerical.recipes/ \n",
    "    - https://projecteuler.net/\n",
    "\n",
    "* Documentar el proceso: desde el principio, utilizar las herramientas existentes.\n",
    "\n",
    "* Escribir software más modular y reusable: escribir frameworks y librerías, usar programación orientada a objetos (POO); implementar software modificable sin tener que recompilar (uso de parámetros).\n"
   ]
  },
  {
   "cell_type": "markdown",
   "metadata": {
    "slideshow": {
     "slide_type": "subslide"
    }
   },
   "source": [
    "\n",
    "## Introducción al Desarrollo de Software Científico\n",
    "\n",
    "### ¿Qué hace distinto al software científico?\n",
    "\n",
    "* Los requerimientos no están del todo definidos a veces.\n",
    "\n",
    "* Limitaciones en el cálculo de punto flotante pueden perjudicarnos.\n",
    "\n",
    "* Algunas aplicaciones pueden ser usadas una vez.\n",
    "\n",
    "* No todos los científicos saben programar o hacerlo del modo más eficiente.\n",
    "\n",
    "* A veces las implementaciones deben ser hechas por gente inexperta.\n"
   ]
  },
  {
   "cell_type": "markdown",
   "metadata": {
    "slideshow": {
     "slide_type": "subslide"
    }
   },
   "source": [
    "\n",
    "## Introducción al Desarrollo de Software Científico\n",
    "\n",
    "### ¿Por qué usar lenguaje de script?\n",
    "\n",
    "* Portabilidad.\n",
    "\n",
    "* No hay necesidad de recompilar.\n",
    "\n",
    "* Disponibilidad de librerías variadas.\n",
    "\n",
    "* Flexibilidad. Adaptabilidad. Conveniencia.\n",
    "\n",
    "* Gran facilidad para pre y postprocesamiento de datos.\n",
    "\n",
    "* Las partes que consuman demasiado tiempo se pueden hacer en lenguaje compilado.\n"
   ]
  }
 ],
 "metadata": {
  "celltoolbar": "Slideshow",
  "kernelspec": {
   "display_name": "Python 3 (ipykernel)",
   "language": "python",
   "name": "python3"
  },
  "language_info": {
   "codemirror_mode": {
    "name": "ipython",
    "version": 3
   },
   "file_extension": ".py",
   "mimetype": "text/x-python",
   "name": "python",
   "nbconvert_exporter": "python",
   "pygments_lexer": "ipython3",
   "version": "3.9.7"
  }
 },
 "nbformat": 4,
 "nbformat_minor": 4
}
