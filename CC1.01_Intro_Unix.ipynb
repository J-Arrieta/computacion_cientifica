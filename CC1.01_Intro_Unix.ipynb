{
 "cells": [
  {
   "cell_type": "markdown",
   "metadata": {
    "slideshow": {
     "slide_type": "slide"
    }
   },
   "source": [
    "<img align=\"left\" src=\"img/logo-ucm.png\" width=\"25%\">\n",
    "<br/><br/><br/><br/><br/>\n",
    "\n",
    "\n",
    "# [Doctorado en Ingeniería (DocIng)](http://www.docing.ucm.cl/index.html)\n",
    "\n",
    "# [Doctorado en Modelamiento Matemático Aplicado (DM<sub>2</sub>A)](http://vrip.ucm.cl/doctorado-en-modelamiento-matematico-aplicado/)\n",
    "\n",
    "\n",
    "## Computación Científica I: Introducción a Linux/Unix\n",
    "\n",
    "&nbsp;\n",
    "### Profesor: Dr. Ruber Hernández García\n",
    "\n",
    "<div style=\"overflow: hidden; display: inline-block;\">\n",
    "    <div style=\"display: inline-block; max-width: 20%; max-height: 20%;\">\n",
    "        <a href=\"mailto:rhernandez@ucm.cl\">\n",
    "            <img src=\"img/email.webp\" alt=\"email\" height=\"24px\" width=\"24px\">\n",
    "        </a>\n",
    "    </div>\n",
    "    <div style=\"display: inline-block; max-width: 20%; max-height: 20%;\">\n",
    "        <a href=\"www.ruberhg.com\">\n",
    "            <img src=\"img/website-icon.jpeg\" alt=\"website\" height=\"24px\" width=\"24px\">\n",
    "        </a>\n",
    "    </div>\n",
    "    <div style=\"display: inline-block; max-width: 20%; max-height: 20%;\">\n",
    "        <a href=\"https://orcid.org/0000-0002-9311-1193\">\n",
    "            <img src=\"img/orcid.png\" alt=\"orcid\" height=\"24px\" width=\"24px\">\n",
    "        </a> \n",
    "    </div>\n",
    "    <div style=\"display: inline-block; max-width: 20%; max-height: 20%;\">\n",
    "        <a href=\"https://github.com/ruberhg\" rel=\"nofollow noreferrer\">\n",
    "            <img src=\"img/github.png\" alt=\"github\" height=\"24px\" width=\"24px\">\n",
    "        </a>\n",
    "    </div>\n",
    "</div>\n"
   ]
  },
  {
   "cell_type": "markdown",
   "metadata": {
    "slideshow": {
     "slide_type": "slide"
    }
   },
   "source": [
    "----\n",
    "\n",
    "## Introducción 1/2\n",
    "\n",
    "**UNIX** es un sistema operativo (SO) multiusuario, es decir, permite que más de un usuario utilice simultáneamente el sistema. Para hacer esto de forma coherente cada usuario debe identificarse para utilizar el sistema, es decir, se necesita una cuenta en el sistema. La cuenta está formada básicamente por un nombre de usuario y una contraseña, que el usuario deberá introducir su acceso. A partir de ahí el sistema lanza un primer programa (generalmente lo que se conoce como una Shell) que se ejecuta con el identificador del usuario.\n",
    "\n",
    "UNIX comienza en 1969 como un proyecto de investigación de Bell Laboratories, estando disponible la primera versión comercial en 1977 y ganando rápidamente en popularidad y difusión. Los objetivos que persiguieron los primeros diseñadores de UNIX fueron conseguir un sistema operativo que permitiera un desarrollo eficiente de programas, que fuera pequeño y eficiente en el uso de la memoria y fácil de mantener."
   ]
  },
  {
   "cell_type": "markdown",
   "metadata": {
    "slideshow": {
     "slide_type": "subslide"
    }
   },
   "source": [
    "\n",
    "## Introducción 2/2\n",
    "\n",
    "Una de las razones que han hecho que UNIX haya alcanzado una gran popularidad es que permite adaptarse fácilmente a diferentes sistemas/arquitecturas. Esto se consiguió diseñando el sistema operativo de forma que hiciera muy pocas suposiciones sobre la arquitectura de la computadora y escribiendo la mayor parte del sistema operativo en un lenguaje de alto nivel (C). Sólo una pequeña parte (el kernel) está escrito en lenguaje ensamblador.\n",
    "\n",
    "Actualmente UNIX puede ser usado desde pequeños ordenadores personales a grandes computadoras. Un programador puede encontrar las mismas herramientas de programación, entornos similares y ejecutar fácilmente sus programas en cualquier sistema que use UNIX."
   ]
  },
  {
   "cell_type": "markdown",
   "metadata": {
    "slideshow": {
     "slide_type": "subslide"
    }
   },
   "source": [
    "\n",
    "## Introducción: algo de historia\n",
    "\n",
    "La primera versión de UNIX fue desarrollada por Ken Thompson en los Laboratorios Bell (AT&T) en 1969. Se empleó por primera vez sobre una máquina PDP-7 de DEC. Se programó en ensamblador, y cuando Dennis Ritchie desarrolló el lenguaje C, se reescribió en C.\n",
    "\n",
    "Actualmente se emplean principalmente cuatro versiones diferentes de este sistema operativo:\n",
    "* UNIX System V distribuido por AT&T.\n",
    "* BSD v. 4.3 distribuido por la Universidad de California en Berkeley.\n",
    "* SunOS/Solaris distribuido por la empresa SUN.\n",
    "* Linux\n",
    "\n",
    "En 1984 comenzó el desarrollo de un sistema operativo similar a UNIX de libre distribución dentro de lo que se dio en llamar el Proyecto GNU. En la actualidad se emplean ampliamente variaciones del sistema de GNU con el kernel de Linux,\n",
    "llamándose sistema Linux/GNU (http://www.gnu.org)."
   ]
  },
  {
   "cell_type": "markdown",
   "metadata": {
    "slideshow": {
     "slide_type": "slide"
    }
   },
   "source": [
    "----\n",
    "\n",
    "## Partes del SO\n",
    "\n",
    "Las partes más importantes en que puede dividirse el sistema operativo UNIX son:\n",
    "* Kernel: puede considerarse como el núcleo del sistema operativo y es leido cada vez que se inicializa el sistema.\n",
    "* Shell:  forma que el usuaruio tiene de acceder a los servicios del kernel, se puede considerar como el intérprete de comandos, que permite que los comandos y programas sean ejecutados.\n",
    "* UNIX file system: es la forma que tiene el sistema operativo de organizar los datos en una estructura o colección de ficheros."
   ]
  },
  {
   "cell_type": "markdown",
   "metadata": {
    "slideshow": {
     "slide_type": "slide"
    }
   },
   "source": [
    "----\n",
    "\n",
    "## Partes del SO: Sistema de ficheros\n",
    "\n",
    "UNIX considera como ficheros no sólo a los ficheros normales (en los que guardamos datos, programas, etc) sino también a los directorios y los dispositivos conectados al sistema.\n",
    "\n",
    "El sistema de ficheros está organizado en una estructura jerárquica de directorios que comienza en el directorio `root` representado por `/`, solo existe un directorio raíz, incluso aunque haya distintos discos duros en el ordenador.\n",
    "\n",
    "<img align=\"center\" src=\"img/unix_filesystem.png\">"
   ]
  },
  {
   "cell_type": "markdown",
   "metadata": {
    "slideshow": {
     "slide_type": "subslide"
    }
   },
   "source": [
    "## Partes del SO: Sistema de ficheros\n",
    "\n",
    "* `/bin` contiene comandos y utilidades, son ficheros ejecutables.\n",
    "* `/dev` contiene los ficheros que representan a los dispositivos conectados al sistema.\n",
    "* `/etc` contiene comandos y ficheros usados en la administración y configuración del sistema.\n",
    "* `/home` contiene los ficheros home de cada usuario del sistema.\n",
    "* `/lib` contiene librerías utilizadas por diferentes programas y lenguajes.\n",
    "* `/tmp` es el directorio donde se guardan los ficheros temporales.\n",
    "* `/usr` contiene ficheros del sistema que son comunes a los usuarios como programas, librerías o documentación.\n",
    "* `/var` ficheros variables (logs, bases de datos, etc).\n"
   ]
  },
  {
   "cell_type": "markdown",
   "metadata": {
    "slideshow": {
     "slide_type": "subslide"
    }
   },
   "source": [
    "## Partes del SO: Visualización de atributos de ficheros\n",
    "\n",
    "> `ls -la`\n",
    "\n",
    "<img align=\"center\" src=\"img/filesystem_details.png\" width=\"65%\">\n",
    "\n",
    "<div class=\"alert alert-warning\"><strong>Tip de Unix</strong>:\n",
    "    El comando <code>chmod</code> permite cambiar los permisos de archivos.\n",
    "</div>"
   ]
  },
  {
   "cell_type": "markdown",
   "metadata": {
    "slideshow": {
     "slide_type": "slide"
    }
   },
   "source": [
    "----\n",
    "\n",
    "## Directorio $HOME\n",
    "\n",
    "El directorio $HOME en los sistemas Unix, que son sistemas multiusuario, es el directorio en el que el usuario debe mantener sus ficheros y directorios. Fuera de este directorio el usuario tendrá unos permisos restringidos puesto que sus acciones podrían afectar a otros usuarios.\n",
    "\n",
    "En Linux los directorios $HOME de los usuarios son subdirectorios del directorio `/home`.\n",
    "\n",
    "El directorio $HOME de un usuario es además el directorio de trabajo por defecto, es decir, el directorio de trabajo que se establece cuando se abre una terminal."
   ]
  },
  {
   "cell_type": "markdown",
   "metadata": {
    "slideshow": {
     "slide_type": "slide"
    }
   },
   "source": [
    "----\n",
    "\n",
    "## Gestión de usuario\n",
    "\n",
    "Cuando el administrador del sistema nos crea una cuenta nos dará un nombre de usuario y una contraseña, que utilizaremos para acceder al sistema. Tanto el nombre de usuario como la contraseña son sensibles a mayúsculas o minúsculas.\n",
    "\n",
    "Una vez dentro de la cuenta utilizaremos un terminal (shell) para ejecutar los comandos.\n",
    "\n",
    "Podemos empezar por cambiar la contraseña suministrada por el administrador del sistema por una propia y que sea robusta, para esto usar el comando `passwd`."
   ]
  },
  {
   "cell_type": "markdown",
   "metadata": {
    "slideshow": {
     "slide_type": "subslide"
    }
   },
   "source": [
    "\n",
    "## Acceso a Servidor remoto `MagisterMCO`\n",
    "\n",
    "El acceso al servidor se realiza usando `SSH` y puede ser desde cualquier sitio con una conexión a Internet.\n",
    "\n",
    "* En Windows se recomienda usar [MobaXterm](https://mobaxterm.mobatek.net/). \n",
    "* En MacOS se recomienda usar [Termius](https://termius.com/), que también tiene soporte para Windows, Linux, Android y iOS.\n",
    "\n",
    "#### Credenciales para conexión\n",
    "+ Servidor: magistermco.ucm.cl\n",
    "+ Puerto: 22\n",
    "+ Usuarios: cguajardo / vrojas / fsilva / jherazo\n",
    "+ Contraseña: 12345678 (cambiar usando comando `passwd` con una contraseña robusta)\n",
    "\n",
    "#### Ejemplo de conexión por `terminal` (En windows `cmd.exe`)\n",
    "\n",
    "> `ssh username@magistermco.ucm.cl`\n"
   ]
  },
  {
   "cell_type": "markdown",
   "metadata": {
    "slideshow": {
     "slide_type": "slide"
    }
   },
   "source": [
    "----\n",
    "\n",
    "## Comandos básicos UNIX: Sintaxis\n",
    "\n",
    "La forma básica de un comando UNIX consta de tres partes aunque no todas tienen que estar presentes. \n",
    "\n",
    "* La primera, que es necesaria siempre, es el nombre del comando. \n",
    "\n",
    "* Luego vienen las opciones que son letras que se ponen precedidas del signo `-` y que le indican al comando que opción deseamos (algunas de estas opciones requieren un argumento). \n",
    "\n",
    "* Por último están los argumentos del comando que pueden ser opcionales o no dependiendo del comando en concreto. \n",
    "\n",
    "Si cometemos errores en la sintaxis, como una opción inexistente, se nos indicará por pantalla cual es la sintaxis de ese comando con sus opciones y argumentos, indicando entre corchetes `[]` los que son opcionales. \n",
    "\n",
    "También podemos ver la sintaxis en la ayuda del comando usando la opción `--help`, `-h`o el comando `man`."
   ]
  },
  {
   "cell_type": "markdown",
   "metadata": {
    "slideshow": {
     "slide_type": "subslide"
    }
   },
   "source": [
    "----\n",
    "\n",
    "## Comandos básicos: Sintaxis\n",
    "\n",
    "### Comando `man`\n",
    "\n",
    "Nos permite obtener ayuda sobre cualquier comando a partir de la página del manual correspondiente.\n",
    "\n",
    "Típicamente las secciones que trae la ayuda son:\n",
    "\n",
    "    NAME\n",
    "    SYNOPSIS\n",
    "    DESCRIPTION\n",
    "    OPTIONS\n",
    "    ENVIRONMENT\n",
    "    EXAMPLES\n",
    "    FILES\n",
    "    SEE ALSO\n",
    "    WARNINGS\n",
    "    DIAGNOSTICS\n",
    "    BUGS\n",
    "    \n",
    "Por ejemplo ejecutando:\n",
    "\n",
    "> `man ls`\n"
   ]
  },
  {
   "cell_type": "markdown",
   "metadata": {
    "slideshow": {
     "slide_type": "subslide"
    }
   },
   "source": [
    "## Comandos básicos: Sintaxis\n",
    "\n",
    "### Comando `man`\n",
    "\n",
    "Utilizando la opción `-k` en el comando `man` y una palabra clave o frase entre comillas, mostrará el nombre de todos los comandos que en la sección `NAME` incluyen esa palabra o frase. Por ejemplo para buscar que comandos pueden servir para copiar ficheros:\n",
    "\n",
    "> `man -k 'copy files'`\n",
    "\n",
    "Otra forma de consultar el manual es con el comando `xman` que nos abre una ventana donde tendremos diferentes opciones. "
   ]
  },
  {
   "cell_type": "markdown",
   "metadata": {
    "slideshow": {
     "slide_type": "slide"
    }
   },
   "source": [
    "## Combinaciones de caracteres especiales del _Shell_:\n",
    "\n",
    "* `^C`: usado para abortar programas.\n",
    "* `^D`: usado para ingresar un fin de archivo.\n",
    "* `^H`: backspace.\n",
    "* `^B`: mueve el cursor hacia atrás.\n",
    "* `^F`: mueve el cursor hacia adelante.\n",
    "* `^P`: regresa al comando previamente escrito.\n",
    "* `^N`: lo opuesto a `^P`, avanza al próximo y más reciente comando.\n",
    "* `^R`: búsqueda de un comando previamente escrito. Se puede usar el comando `history` para ver el listado de todos los comandos previos.\n",
    "* `!!`: ejecuta el comando previo, mientras que `!n` ejecuta el comando n-simo previo y `!cad` ejecuta el comando más reciente que comienza con `cad`.\n",
    "* `^Z`: pausa el programa y permite retornar al shell. Para volver al programa pausado ingrese el comando (foreground) `fg`. Si desea dejar un programa en \"segundo plano\" seguir la secuencia `^Z` y luego el comando `bg` (background).\n",
    "\n",
    "<div class=\"alert alert-warning\"><strong>Tip</strong>:\n",
    "Más adelante veremos el uso de comandos específicos (recomendados) para dejar ejecuciones en segundo plano: <code>nohup</code> y <code>screen</code>.\n",
    "</div>"
   ]
  },
  {
   "cell_type": "markdown",
   "metadata": {
    "slideshow": {
     "slide_type": "slide"
    }
   },
   "source": [
    "## Comandos de utilidades generales\n",
    "\n",
    "* `grep`: busca una cadena en uno o más ficheros.\n",
    "* `head`: permite ver las primeras líneas de un fichero, sin opciones muestra las 10 primeras.\n",
    "* `tail`: permite ver las últimas líneas de un fichero, sin opciones muestra las 10 últimas.\n",
    "* `more`: permite la visualización pausada de un fichero, pulsando la barra espaciadora avanza una página, con `b` o `^B` retrocede una página, con `q` termina.\n",
    "* `wc`: cuenta el número de bytes, palabras o líneas en un fichero.\n",
    "* `who`: muestra los usuarios que en este momento están trabajando con el sistema.\n",
    "* `df`: permite saber cuánto espacio libre hay en cada sistema de ficheros.\n",
    "* `du`: dice cuántos bloques ocupa un directorio con todos sus ficheros y subdirectorios.\n",
    "* `find`: realiza una búsqueda recursiva, comenzando por el directorio especificado y descendiendo por los subdirectorios.\n",
    "* `htop`o `top`: muestra los procesos activos, así como otras informaciones del sistema.\n",
    "* `which`: muestra la ruta de acceso del ejecutable de un comando."
   ]
  },
  {
   "cell_type": "markdown",
   "metadata": {
    "slideshow": {
     "slide_type": "slide"
    }
   },
   "source": [
    "## Nombres de directorios y archivos 1/2\n",
    "\n",
    "En Unix los archivos pueden tener prácticamente cualquier nombre. Existe la convención de acabar los nombres con un punto y una pequeña extensión que indica el tipo de archivo. Pero esto es sólo una convención, en realidad podríamos no utilizar este tipo de nomenclatura.\n",
    "\n",
    "Si deseamos utilizar nombres de archivos que no vayan a causar extraños comportamientos en el futuro lo mejor sería seguir unas cuantas reglas al nombrar un archivo:\n",
    "\n",
    "* Añadir una extensión para recordarnos el tipo de archivo, por ejemplo .txt para los archivos de texto.\n",
    "\n",
    "* No utilizar en los nombres: espacios, caracteres no alfanuméricos, ni caracteres no ingleses como letras acentuadas o eñes (ñ).\n",
    "\n",
    "Otra convención es la de ocultar los archivos cuyos nombres comienzan por punto `.`. Por ejemplo el archivo `.oculto` no aparecerá normalmente cuando se lista un directorio. Esto se utiliza normalmente para guardar archivos de configuración que no suelen ser utilizados directamente por los usuarios. Para listar todos los archivos, ya sean éstos ocultos o no se puede ejecutar: `ls -a`."
   ]
  },
  {
   "cell_type": "markdown",
   "metadata": {
    "slideshow": {
     "slide_type": "subslide"
    }
   },
   "source": [
    "## Nombres de directorios y archivos 2/2\n",
    "\n",
    "#### Abreviaciones:\n",
    "* Nos podemos referir al directorio de alguien llamado name como `~name`. El directorio `home` de uno mismo se puede indicar simplemente como `~`. Por ejemplo: `/home/pedro` equivale a `~`.\n",
    "* En todo momento se tiene definido el directorio de trabajo como aquel donde se está. Para referirse a archivos bajo él no es necesario especificar todo el recorrido (path). Se puede conocer el directorio actual con el comando `pwd`.\n",
    "* El directorio de trabajo puede ser referido simplemente como `.`.\n",
    "* El directorio padre puede ser referido como `..`.\n",
    "* Es posible usar el comodín `*`para sustituir cualquier texto en el nombre.\n",
    "\n",
    "#### Consideraciones:\n",
    "* Los nombres de archivo pueden tener cualquier largo.\n",
    "* Mayúsculas se distinguen de las minúsculas.\n",
    "* El punto \".\" no tiene significado especial en nombres y puede ser usado como cualquier otro caracter.\n",
    "* Los directorios se separan con `/`.\n"
   ]
  },
  {
   "cell_type": "markdown",
   "metadata": {
    "slideshow": {
     "slide_type": "slide"
    }
   },
   "source": [
    "## Comandos para manejo de archivos\n",
    "\n",
    "* `ls`: lista los archivos, si no se especifica el directorio se toma el actual.\n",
    "* `cat`: muestra el contenido de un archivo, aconsejable solo para archivos tipo texto.\n",
    "* `cp`: copia un archivo, con la opción `-r` copia un directorio.\n",
    "* `mv`: mueve un archivo, sirve también para renombrar un archivo o directorio.\n",
    "* `rm`: elimina un archivo, con la opción `-r` elimina un directorio aunque no esté vacio.\n",
    "* `mkdir`: crea un nuevo directorio.\n",
    "* `rmdir`: elimina un directorio, es necesario que no contenga ningún archivo.\n",
    "* `pwd`: muestra el directorio actual.\n",
    "* `cd`: permite cambiar de directorio.\n",
    "* `touch`: crea un archivo vacio.\n",
    "* `diff`: muestra las diferencias línea por línea de dos ficheros de texto.\n"
   ]
  },
  {
   "cell_type": "markdown",
   "metadata": {
    "slideshow": {
     "slide_type": "subslide"
    }
   },
   "source": [
    "## Comandos para manejo de archivos: ejercicios\n",
    "\n",
    "Luego de cada tarea se debe listar el directorio correspondiente para chequear el resultado.\n",
    "\n",
    "1. Crear un archivo de prueba `data.txt`.\n",
    "2. Crear un directorio `test`.\n",
    "3. Copiar el archivo `data.txt` al directorio `test`.\n",
    "4. Eliminar el archivo `data.txt` en el directorio actual.\n",
    "5. Crear un nuevo directorio `exp_1`.\n",
    "6. Mover y renombrar el archivo `data.txt` del directorio `test` al nuevo directorio como `data_exp_1.txt`.\n",
    "7. Crear los archivos `exp_1a.txt`, `exp_1b.txt`, `exp_1a.dat`, y `exp_1b.dat`.\n",
    "8. Mover los archivos con extensión `txt` al directorios `exp_1`. \n",
    "\n",
    "<div class=\"alert alert-danger\"><strong>Importante</strong>:\n",
    "Cuando se borra un fichero se borra definitivamente, no hay papelera. Una vez ejecutado el comando <code>rm</code> no podremos recuperar el archivo.\n",
    "</div>"
   ]
  },
  {
   "cell_type": "markdown",
   "metadata": {
    "slideshow": {
     "slide_type": "slide"
    }
   },
   "source": [
    "## Comandos para cambio de permisos\n",
    "\n",
    "Por defecto un usuario tiene permiso para leer y modificar sus propios archivos y directorios, pero no los del resto de usuarios. Los archivos pertenecen a un usuario concreto, existiendo unos permisos diferenciados para este usuario y para el resto. Además el usuario pertenece a un grupo de trabajo. \n",
    "\n",
    "Por ejemplo, si un usuario pertenece al grupo “alumnos”, si crea un archivo este tendrá unos permisos diferentes para el usuario, para el resto de miembros de su grupo y para el resto de usuarios del ordenador.\n",
    "\n",
    "* `chmod`: cambia permisos a un archivo, con la opción `-R` se hace para un directorio de manera recursiva.\n",
    "\n",
    "Cada grupo de usuarios se representa por una letra: usuario dueño del fichero (u), grupo de usuarios del dueño del fichero (g), todos los otros usuarios (o) y todos los tipos de usuario (a). Los tipos de permisos también están abreviados por letras: lectura (l), escritura (w) y ejecución (x). Con estas abreviaturas podemos modificar los permisos existentes.\n",
    "\n",
    "> `chmod u+x` <br>\n",
    "> `chmod a+x`\n",
    "\n",
    "Un modo algo menos intuitivo, pero más útil de utilizar es mediante los números octales que representan los permisos: lectura (4), escritura (2) y ejecución (1)."
   ]
  },
  {
   "cell_type": "markdown",
   "metadata": {
    "slideshow": {
     "slide_type": "slide"
    }
   },
   "source": [
    "## Compresion y descompresión de ficheros 1/2\n",
    "\n",
    "Existen distintos formatos de compresión de ficheros como: gzip, bzip, zip o rar. Los formatos más utilizados en Unix son gzip, bzip y tar.\n",
    "\n",
    "Comprimir un fichero con gzip o bzip:\n",
    "\n",
    "> gzip data.txt <br>\n",
    "> bzip2 data.txt\n",
    "\n",
    "Podemos descomprimir cualquier fichero:\n",
    "\n",
    "> gunzip data.txt.gz <br>\n",
    "> bunzip2 accs.txt.bz2"
   ]
  },
  {
   "cell_type": "markdown",
   "metadata": {
    "slideshow": {
     "slide_type": "slide"
    }
   },
   "source": [
    "## Compresion y descompresión de ficheros 2/2\n",
    "\n",
    "Los comandos `gzip` y `bzip2` son capaces de comprimir un sólo archivo, pero no pueden unir varios archivos en uno. El comando `tar` es capaz de unir varios archivos en uno.\n",
    "\n",
    "> tar -cvf secuencias.tar seq* <br>\n",
    "> tar -xvf secuencias.tar\n",
    "\n",
    "> tar -cvzf secuencias.tar.gz seq* <br>\n",
    "> tar -xvzf secuencias.tar.gz\n",
    "\n",
    "> tar -cvjf secuencias.tar.bz seq* <br>\n",
    "> tar -xvjf secuencias.tar.bz"
   ]
  },
  {
   "cell_type": "markdown",
   "metadata": {
    "slideshow": {
     "slide_type": "slide"
    }
   },
   "source": [
    "## Redireccionamiento de comandos\n",
    "\n",
    "La expresión utilizada para redirigir la salida estándar es la siguiente: `comando > archivo`. Crea el archivo o lo vacía si ya existía.\n",
    "\n",
    "> ls -alF > listado\n",
    "\n",
    "Si se desea es que la salida del comando se añada al contenido ya existente: `comando >> archivo`.\n",
    "\n",
    "Se puede hacer que la entrada del comando sea el contenido de un archivo: `comando < archivo`.\n",
    "\n",
    "También permite conectar la salida estándar de un comando con la entrada estándar de otro; esto es lo que se denomina una _pipe_. \n",
    "\n",
    "> ls | wc -l"
   ]
  },
  {
   "cell_type": "markdown",
   "metadata": {
    "slideshow": {
     "slide_type": "slide"
    }
   },
   "source": [
    "## Ejecución de comandos en segundo plano\n",
    "\n",
    "Para la ejecución de comandos en segundo plano se puede usar el comando `nohup`. Es importante redireccionar la salida estandar del comando ejecutado.\n",
    "\n",
    "Por ejemplo, para ejecutar función programada en forma de script de Matlab.\n",
    "> nohup matlab -nodisplay -nodesktop -nosplash -r \"funcion(param1,paramn)\" </dev/null >&/dev/null &\n",
    "\n",
    "Si es un script sin declaración de función:\n",
    "> nohup matlab -nodisplay -nodesktop -nosplash -r \"scriptmatlab.m\" </dev/null >&/dev/null &\n",
    "\n",
    "<div class=\"alert alert-info\"><strong>Tip</strong>:\n",
    "Es recomendado el uso del comando <code>screen</code> (en lugar de <code>nohup</code>) para dejar tareas en segundo plano (ver instructivo <a href=\"pdf/Guia_Comando_screen.pdf\">adjunto</a>).\n",
    "</div>"
   ]
  },
  {
   "cell_type": "markdown",
   "metadata": {
    "slideshow": {
     "slide_type": "slide"
    }
   },
   "source": [
    "## Hoja de utilidades (_Cheat Sheet_) de la línea de comandos de Linux\n",
    "\n",
    "<div class=\"alert alert-info\"><strong>Tip</strong>:\n",
    "Se recomienda tener a mano la hoja de utilidades que se adjunta para recordar los principales y más usados comandos del Sistema Operativo Linux (Unix): <a href=\"pdf/Linux_Command_Cheat-Sheet.pdf\"> Linux Command Cheat Sheet</a>. \n",
    "</div>"
   ]
  },
  {
   "cell_type": "markdown",
   "metadata": {
    "slideshow": {
     "slide_type": "slide"
    }
   },
   "source": [
    "## Shell scripts\n",
    "\n",
    "Además de leer la línea de comandos, también puede ejecutar los comandos que se encuentren en un fichero. Cualquier comando que pueda ser tecleado en la línea de comandos puede ser incluido en un fichero al que se le denomina como _shell script_.\n",
    "\n",
    "Un _shell script_ es un fichero con un conjunto de comandos que se pueden ejecutar en la _shell_. Se pueden incluir comandos, utilidades, emplear pipes, redireccionar entradas y salidas, definir y utilizar variables, además del uso de una serie de comandos creados para ser usados fundamentalmente en los shell scripts, como son condicionales y comandos para controlar el flujo del programa.\n",
    "\n",
    "<div class=\"alert alert-info\"><strong>Tip</strong>:\n",
    "Para una guía completa sobre la programación de _shell scripts_ se recomienda consultar el curso online <a href=\"http://trajano.us.es/~fjfj/shell/doc/\"><bold>Programación Shell-script en Linux</bold></a>, del Departamento de Ingeniería Telemática de la Universidad de Sevilla, España.\n",
    "</div>\n",
    "\n"
   ]
  },
  {
   "cell_type": "markdown",
   "metadata": {
    "slideshow": {
     "slide_type": "subslide"
    }
   },
   "source": [
    "## Mi primer _shell script_\n",
    "\n",
    "Vamos a empezar con un ejemplo muy sencillo. Creamos un fichero que se llame `mi-primer-script.sh` y escribimos en el los siguientes comandos. Luego le daremos permisos de ejecución `chmod a+x mi-primer-script.sh`. Para ejecutarlo se puede hacer directamente `./mi-primer-script.sh` o mediante el interprete correspondiente `sh mi-primer-script.sh`.\n",
    "\n",
    "<code> #!/bin/bash</code><br>\n",
    "<code> # Script que nos muestra por pantalla la fecha, la hora, la maquina en que</code><br>\n",
    "<code> # estamos, nuestro username, nuestro numero identificador de usuario y de</code><br>\n",
    "<code> # grupo, quien esta conectado a la maquina y el directorio en que estamos</code><br>\n",
    "<code> echo \"la fecha de hoy es `date`\"</code><br>\n",
    "<code> echo \"La maquina en que estas trabajando es: $HOST\"</code><br>\n",
    "<code> echo \"\"</code><br>\n",
    "<code> echo -n \"Tu user name es: \"</code><br>\n",
    "<code> whoami</code><br>\n",
    "<code> echo \"Los numeros identificadores de usuario y de grupo son:\"</code><br>\n",
    "<code> id</code><br>\n",
    "<code> echo \"\"</code><br>\n",
    "<code> echo \"En la maquina estan conectadas las siguientes personas \"</code><br>\n",
    "<code> who</code><br>\n",
    "<code> echo \"Estas en el directorio `pwd`\"</code><br>"
   ]
  },
  {
   "cell_type": "code",
   "execution_count": null,
   "metadata": {},
   "outputs": [],
   "source": []
  }
 ],
 "metadata": {
  "celltoolbar": "Slideshow",
  "kernelspec": {
   "display_name": "Python 3 (ipykernel)",
   "language": "python",
   "name": "python3"
  },
  "language_info": {
   "codemirror_mode": {
    "name": "ipython",
    "version": 3
   },
   "file_extension": ".py",
   "mimetype": "text/x-python",
   "name": "python",
   "nbconvert_exporter": "python",
   "pygments_lexer": "ipython3",
   "version": "3.9.12"
  }
 },
 "nbformat": 4,
 "nbformat_minor": 4
}
